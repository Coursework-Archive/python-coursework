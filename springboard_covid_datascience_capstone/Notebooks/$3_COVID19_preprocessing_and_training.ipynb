{
 "cells": [
  {
   "cell_type": "markdown",
   "metadata": {},
   "source": [
    "# 4 Pre-Processing and Training Data<a id='4_Pre-Processing_and_Training_Data'></a>"
   ]
  },
  {
   "cell_type": "markdown",
   "metadata": {},
   "source": [
    "## 4.1 Contents<a id='4.1_Contents'></a>\n",
    "* [4 Pre-Processing and Training Data](#4_Pre-Processing_and_Training_Data)\n",
    "  * [4.1 Contents](#4.1_Contents)\n",
    "  * [4.2 Introduction](#4.2_Introduction)\n",
    "  * [4.3 Imports](#4.3_Imports)\n",
    "  * [4.4 Load Data](#4.4_Load_Data)\n",
    "  * [4.5 Choosing Models and Lags](#4.5_Choosing_Models_and_Lags)\n",
    "    * [4.5.1 Africa Subset COVID-19 Distribution](#4.5.1_Africa_Subset_COVID-19_Distribution)\n",
    "    * [4.5.2 Asia Subset COVID-19 Distribution](#4.5.2_Asia_Subset_COVID-19_Distribution)\n",
    "    * [4.5.3 Europe Subset COVID-19 Distribution](#4.5.3_Europe_Subset_COVID-19_Distribution)\n",
    "    * [4.5.4 E Subset COVID-19 Distribution](#4.5.4_Europe_Subset_COVID-19_Distribution)\n",
    "  * [4.6 Active and Recovered COVID-19 cases by Continent](#4.6_Active_and_Recovered_COVID-19_Cases_by_Continent)\n",
    "  * [4.7 ADF Statistic](#4.7_ADF_Statistic)\n",
    "    * [4.7.1 Metrics](#4.7.1_Metrics)\n",
    "      * [4.7.1.1 Africa Data Differenced](#4.7.1.1_Africa_Data_Differenced)\n",
    "    * [4.7.2 Asia Data Confidence Level and Test Statistics](#4.7.2_Asia_Data_Confidence_Level_and_Test_Statistics)\n",
    "      * [4.7.2.1 Asia Data Differenced](#4.7.2.1_Asia_Data_Differenced)\n",
    "    * [4.7.3 Europe Data Confidence Level and Test Statistics](#4.7.3_Europe_Data_Confidence_Level_and_Test_Statistics)\n",
    "      * [4.7.3.1 Europe Data Differenced](#4.7.3.1_Europe_Data_Differenced)\n",
    "    * [4.7.4 North America Data Confidence Level and Test Statistics](#4.7.4_North_America_Data_Confidence_Level_and_Test_Statistics)\n",
    "      * [4.7.4.1 North America Data Differenced](#4.7.4.1_North_America_Data_Differenced)\n",
    "    * [4.7.5 South America Data Confidence Level and Test Statistics](#4.7.5_South_America_Data_Confidence_Level_and_Test_Statistics)\n",
    "      * [4.7.5.1 South America Data Differenced](#4.7.5.1_South_America_Data_Differenced)\n",
    "  * [4.8 Stationary COVID-19 Cases](#4.8_Stationary_COVID-19_Cases)        \n",
    "  * [4.9 Box-Cox Transformation](#4.9_Box-Cox_Transformation)\n",
    "  * [4.10 Assess model performance](#4.10_Assess_model_performance)\n",
    "    * [4.10.1 Optimal ARIMA Model-Africa recovered](#4.10.1_Optimal_ARIMA_Model-Africa_recovered)\n",
    "    * [4.10.2 Optimal ARIMA Model-Africa active](#4.10.2_Optimal_ARIMA_Model-Africa_active)\n",
    "    * [4.10.3 Optimal ARIMA Model-Asia recovered](#4.10.3_Optimal_ARIMA_Model-Asia_recovered)\n",
    "    * [4.10.4 Optimal ARIMA Model-Asia active](#4.10.4_Optimal_ARIMA_Model-Asia_active)\n",
    "    * [4.10.5 Optimal ARIMA Model-Europe recovered](#4.10.5_Optimal_ARIMA_Model-Europe_recovered)\n",
    "    * [4.10.6 Optimal ARIMA Model-Europe active](#4.10.6_Optimal_ARIMA_Model-Europe_active)\n",
    "    * [4.10.7 Optimal ARIMA Model-North America recovered](#4.10.7_Optimal_ARIMA_Model-North_America_recovered)\n",
    "    * [4.10.8 Optimal ARIMA Model-North America active](#4.10.8_Optimal_ARIMA_Model-North_America_active)\n",
    "    * [4.10.9 Optimal ARIMA Model-South America recovered](#4.10.9_Optimal_ARIMA_Model-South_America_recovered)\n",
    "    * [4.10.10 Optimal ARIMA Model-South America active](#4.10.10_Optimal_ARIMA_Model-South_America_active)\n"
   ]
  },
  {
   "cell_type": "markdown",
   "metadata": {},
   "source": [
    "## 4.2 Introduction<a id='4.2_Introduction'></a>"
   ]
  },
  {
   "cell_type": "markdown",
   "metadata": {},
   "source": [
    "Time series analysis has some things in common with discussion of probability and regression\n",
    "* In many cases, we can describe parts of time series processes in terms of a randomized variable with statistical moments, though an important feature of many time series processes is that their mean and/or variance change through time. \n",
    "* Like regression, time series analysis is often focused on identifying underlying trends and patterns, describing them mathematically, and ultimately making a prediction or forecast about what will happen next.  \n",
    "In this instance the data can be modeled to identify the trends for active and recovered patients. A big part of this time series analysis will involve filtering - i.e. changing attributes of a time series or deconstructing it into it's component parts.  \n",
    "\n"
   ]
  },
  {
   "cell_type": "markdown",
   "metadata": {},
   "source": [
    "## 4.3 Imports<a id='4.3_Imports'></a>"
   ]
  },
  {
   "cell_type": "code",
   "execution_count": 1,
   "metadata": {},
   "outputs": [],
   "source": [
    "import pandas as pd \n",
    "import numpy as np\n",
    "from statsmodels.tsa.stattools import adfuller\n",
    "import matplotlib.pyplot as plt\n",
    "from sklearn.metrics import mean_squared_error\n",
    "from sklearn import __version__ as sklearn_version\n",
    "from statsmodels.tsa.arima_model import ARIMA\n",
    "from statsmodels import __version__ as statsmodels_version\n",
    "from scipy import __version__ as scipy_version\n",
    "import pickle\n",
    "import datetime\n",
    "import seaborn as sns\n",
    "from matplotlib.dates import DateFormatter\n",
    "import matplotlib.dates as mdates\n",
    "from scipy import stats\n"
   ]
  },
  {
   "cell_type": "markdown",
   "metadata": {},
   "source": [
    "## 4.4 Load Data<a id='4.4_Load_Data'></a>"
   ]
  },
  {
   "cell_type": "code",
   "execution_count": 2,
   "metadata": {},
   "outputs": [],
   "source": [
    "af_df = pd.read_csv('../data/mor_df.csv',  index_col=0)\n",
    "asia_df = pd.read_csv('../data/asia_df.csv',  index_col=0)\n",
    "eu_df = pd.read_csv('../data/eu_df.csv',  index_col=0)\n",
    "noam_df = pd.read_csv('../data/noam_df.csv',  index_col=0)\n",
    "soam_df = pd.read_csv('../data/soam_df.csv',  index_col=0)"
   ]
  },
  {
   "cell_type": "markdown",
   "metadata": {},
   "source": [
    "## 4.5 Choosing Models and Lags<a id='4.5_Choosing_Models_and_Lags'></a>"
   ]
  },
  {
   "cell_type": "markdown",
   "metadata": {},
   "source": [
    "The Augmented dickey Fuller Test (ADF) is a unit root test for stationarity. Unit roots can cause unpredictable results in your time series analysis, it should be used with caution because it has a high Type I error rate. The type I error (false positive). So in this case it would be identifying more recovered and active cases per country, a cautious approach to disease transmission. \n",
    "\n",
    "Before running the ADF test, the data must be inspected to figure out an appropriate regression model. A nonzero mean indicates the regression will have a constant term. The three basic regression models are: \n",
    "\n",
    "* No constant, no trend: $ \\Delta y_t = \\gamma y_{t-1} + v_t $\n",
    "* Constant, no trend: $ \\Delta y_t = \\alpha + \\gamma y_{t-1} + v_t $\n",
    "* Constant and trend: $ \\Delta y_t = \\alpha + \\gamma y_{t-1} + \\lambda_t + v_t $"
   ]
  },
  {
   "cell_type": "markdown",
   "metadata": {},
   "source": [
    "### 4.5.1 Africa Subset COVID-19 Data Distribution<a id='4.5.1_Africa_Subset_COVID-19_Data_Distribution'></a>"
   ]
  },
  {
   "cell_type": "code",
   "execution_count": 3,
   "metadata": {
    "scrolled": true
   },
   "outputs": [
    {
     "data": {
      "text/html": [
       "<div>\n",
       "<style scoped>\n",
       "    .dataframe tbody tr th:only-of-type {\n",
       "        vertical-align: middle;\n",
       "    }\n",
       "\n",
       "    .dataframe tbody tr th {\n",
       "        vertical-align: top;\n",
       "    }\n",
       "\n",
       "    .dataframe thead th {\n",
       "        text-align: right;\n",
       "    }\n",
       "</style>\n",
       "<table border=\"1\" class=\"dataframe\">\n",
       "  <thead>\n",
       "    <tr style=\"text-align: right;\">\n",
       "      <th></th>\n",
       "      <th>active</th>\n",
       "      <th>recovered</th>\n",
       "    </tr>\n",
       "  </thead>\n",
       "  <tbody>\n",
       "    <tr>\n",
       "      <th>count</th>\n",
       "      <td>305.000000</td>\n",
       "      <td>305.000000</td>\n",
       "    </tr>\n",
       "    <tr>\n",
       "      <th>mean</th>\n",
       "      <td>14360.632787</td>\n",
       "      <td>87886.806557</td>\n",
       "    </tr>\n",
       "    <tr>\n",
       "      <th>std</th>\n",
       "      <td>15302.152060</td>\n",
       "      <td>120415.005947</td>\n",
       "    </tr>\n",
       "    <tr>\n",
       "      <th>min</th>\n",
       "      <td>1.000000</td>\n",
       "      <td>0.000000</td>\n",
       "    </tr>\n",
       "    <tr>\n",
       "      <th>25%</th>\n",
       "      <td>2148.000000</td>\n",
       "      <td>3660.000000</td>\n",
       "    </tr>\n",
       "    <tr>\n",
       "      <th>50%</th>\n",
       "      <td>6688.000000</td>\n",
       "      <td>17960.000000</td>\n",
       "    </tr>\n",
       "    <tr>\n",
       "      <th>75%</th>\n",
       "      <td>24726.000000</td>\n",
       "      <td>138989.000000</td>\n",
       "    </tr>\n",
       "    <tr>\n",
       "      <th>max</th>\n",
       "      <td>49800.000000</td>\n",
       "      <td>407504.000000</td>\n",
       "    </tr>\n",
       "  </tbody>\n",
       "</table>\n",
       "</div>"
      ],
      "text/plain": [
       "             active      recovered\n",
       "count    305.000000     305.000000\n",
       "mean   14360.632787   87886.806557\n",
       "std    15302.152060  120415.005947\n",
       "min        1.000000       0.000000\n",
       "25%     2148.000000    3660.000000\n",
       "50%     6688.000000   17960.000000\n",
       "75%    24726.000000  138989.000000\n",
       "max    49800.000000  407504.000000"
      ]
     },
     "execution_count": 3,
     "metadata": {},
     "output_type": "execute_result"
    }
   ],
   "source": [
    "af_df['date'] = pd.to_datetime(af_df['date'])\n",
    "af = af_df[['date','active','recovered']].groupby(pd.Grouper(key='date', axis=0, freq='1D', sort=True)).sum()\n",
    "af[180:220] = af[180:220].replace(to_replace=0, method='ffill')\n",
    "af.describe()"
   ]
  },
  {
   "cell_type": "markdown",
   "metadata": {},
   "source": [
    "### 4.5.2 Asia Subset COVID-19 Data Distribution<a id='4.5.2_Asia_Subset_COVID-19_Data_Distribution'></a>"
   ]
  },
  {
   "cell_type": "code",
   "execution_count": 4,
   "metadata": {
    "scrolled": false
   },
   "outputs": [
    {
     "data": {
      "text/html": [
       "<div>\n",
       "<style scoped>\n",
       "    .dataframe tbody tr th:only-of-type {\n",
       "        vertical-align: middle;\n",
       "    }\n",
       "\n",
       "    .dataframe tbody tr th {\n",
       "        vertical-align: top;\n",
       "    }\n",
       "\n",
       "    .dataframe thead th {\n",
       "        text-align: right;\n",
       "    }\n",
       "</style>\n",
       "<table border=\"1\" class=\"dataframe\">\n",
       "  <thead>\n",
       "    <tr style=\"text-align: right;\">\n",
       "      <th></th>\n",
       "      <th>active</th>\n",
       "      <th>recovered</th>\n",
       "    </tr>\n",
       "  </thead>\n",
       "  <tbody>\n",
       "    <tr>\n",
       "      <th>count</th>\n",
       "      <td>3.450000e+02</td>\n",
       "      <td>3.450000e+02</td>\n",
       "    </tr>\n",
       "    <tr>\n",
       "      <th>mean</th>\n",
       "      <td>7.001643e+05</td>\n",
       "      <td>4.163339e+06</td>\n",
       "    </tr>\n",
       "    <tr>\n",
       "      <th>std</th>\n",
       "      <td>5.218902e+05</td>\n",
       "      <td>4.955726e+06</td>\n",
       "    </tr>\n",
       "    <tr>\n",
       "      <th>min</th>\n",
       "      <td>5.020000e+02</td>\n",
       "      <td>2.800000e+01</td>\n",
       "    </tr>\n",
       "    <tr>\n",
       "      <th>25%</th>\n",
       "      <td>1.316490e+05</td>\n",
       "      <td>9.628200e+04</td>\n",
       "    </tr>\n",
       "    <tr>\n",
       "      <th>50%</th>\n",
       "      <td>6.825190e+05</td>\n",
       "      <td>1.520242e+06</td>\n",
       "    </tr>\n",
       "    <tr>\n",
       "      <th>75%</th>\n",
       "      <td>1.161824e+06</td>\n",
       "      <td>7.920927e+06</td>\n",
       "    </tr>\n",
       "    <tr>\n",
       "      <th>max</th>\n",
       "      <td>2.346993e+06</td>\n",
       "      <td>1.620004e+07</td>\n",
       "    </tr>\n",
       "  </tbody>\n",
       "</table>\n",
       "</div>"
      ],
      "text/plain": [
       "             active     recovered\n",
       "count  3.450000e+02  3.450000e+02\n",
       "mean   7.001643e+05  4.163339e+06\n",
       "std    5.218902e+05  4.955726e+06\n",
       "min    5.020000e+02  2.800000e+01\n",
       "25%    1.316490e+05  9.628200e+04\n",
       "50%    6.825190e+05  1.520242e+06\n",
       "75%    1.161824e+06  7.920927e+06\n",
       "max    2.346993e+06  1.620004e+07"
      ]
     },
     "execution_count": 4,
     "metadata": {},
     "output_type": "execute_result"
    }
   ],
   "source": [
    "asia_df['date'] = pd.to_datetime(asia_df.index)\n",
    "asia = asia_df[['date','active','recovered']].groupby(pd.Grouper(key='date', axis=0, freq='1D', sort=True)).sum()\n",
    "asia[220:280] = asia[220:280].replace(to_replace=0, method='ffill')\n",
    "asia.describe()"
   ]
  },
  {
   "cell_type": "markdown",
   "metadata": {},
   "source": [
    "### 4.5.3 Europe Subset COVID-19 Data Distribution<a id='4.5.3_Europe_Subset_COVID-19_Data_Distribution'></a>"
   ]
  },
  {
   "cell_type": "code",
   "execution_count": 5,
   "metadata": {
    "scrolled": true
   },
   "outputs": [
    {
     "data": {
      "text/html": [
       "<div>\n",
       "<style scoped>\n",
       "    .dataframe tbody tr th:only-of-type {\n",
       "        vertical-align: middle;\n",
       "    }\n",
       "\n",
       "    .dataframe tbody tr th {\n",
       "        vertical-align: top;\n",
       "    }\n",
       "\n",
       "    .dataframe thead th {\n",
       "        text-align: right;\n",
       "    }\n",
       "</style>\n",
       "<table border=\"1\" class=\"dataframe\">\n",
       "  <thead>\n",
       "    <tr style=\"text-align: right;\">\n",
       "      <th></th>\n",
       "      <th>active</th>\n",
       "      <th>recovered</th>\n",
       "    </tr>\n",
       "  </thead>\n",
       "  <tbody>\n",
       "    <tr>\n",
       "      <th>count</th>\n",
       "      <td>3.430000e+02</td>\n",
       "      <td>3.430000e+02</td>\n",
       "    </tr>\n",
       "    <tr>\n",
       "      <th>mean</th>\n",
       "      <td>1.680876e+06</td>\n",
       "      <td>8.335666e+05</td>\n",
       "    </tr>\n",
       "    <tr>\n",
       "      <th>std</th>\n",
       "      <td>2.305486e+06</td>\n",
       "      <td>9.447455e+05</td>\n",
       "    </tr>\n",
       "    <tr>\n",
       "      <th>min</th>\n",
       "      <td>0.000000e+00</td>\n",
       "      <td>0.000000e+00</td>\n",
       "    </tr>\n",
       "    <tr>\n",
       "      <th>25%</th>\n",
       "      <td>4.426400e+05</td>\n",
       "      <td>2.470885e+05</td>\n",
       "    </tr>\n",
       "    <tr>\n",
       "      <th>50%</th>\n",
       "      <td>4.714170e+05</td>\n",
       "      <td>6.382030e+05</td>\n",
       "    </tr>\n",
       "    <tr>\n",
       "      <th>75%</th>\n",
       "      <td>1.813614e+06</td>\n",
       "      <td>8.327365e+05</td>\n",
       "    </tr>\n",
       "    <tr>\n",
       "      <th>max</th>\n",
       "      <td>7.733050e+06</td>\n",
       "      <td>4.205954e+06</td>\n",
       "    </tr>\n",
       "  </tbody>\n",
       "</table>\n",
       "</div>"
      ],
      "text/plain": [
       "             active     recovered\n",
       "count  3.430000e+02  3.430000e+02\n",
       "mean   1.680876e+06  8.335666e+05\n",
       "std    2.305486e+06  9.447455e+05\n",
       "min    0.000000e+00  0.000000e+00\n",
       "25%    4.426400e+05  2.470885e+05\n",
       "50%    4.714170e+05  6.382030e+05\n",
       "75%    1.813614e+06  8.327365e+05\n",
       "max    7.733050e+06  4.205954e+06"
      ]
     },
     "execution_count": 5,
     "metadata": {},
     "output_type": "execute_result"
    }
   ],
   "source": [
    "eu_df['date'] = pd.to_datetime(eu_df.index)\n",
    "eu = eu_df[['date','active','recovered']].groupby(pd.Grouper(key='date', axis=0, freq='1D', sort=True)).sum()\n",
    "eu[210:250] = eu[210:250].replace(to_replace=0, method='ffill')\n",
    "eu.describe()"
   ]
  },
  {
   "cell_type": "markdown",
   "metadata": {},
   "source": [
    "### 4.5.4 North America Subset COVID-19 Data Distribution<a id='4.5.4_North_America_Subset_COVID-19_Data_Distribution'></a>"
   ]
  },
  {
   "cell_type": "code",
   "execution_count": 6,
   "metadata": {
    "scrolled": false
   },
   "outputs": [
    {
     "data": {
      "text/html": [
       "<div>\n",
       "<style scoped>\n",
       "    .dataframe tbody tr th:only-of-type {\n",
       "        vertical-align: middle;\n",
       "    }\n",
       "\n",
       "    .dataframe tbody tr th {\n",
       "        vertical-align: top;\n",
       "    }\n",
       "\n",
       "    .dataframe thead th {\n",
       "        text-align: right;\n",
       "    }\n",
       "</style>\n",
       "<table border=\"1\" class=\"dataframe\">\n",
       "  <thead>\n",
       "    <tr style=\"text-align: right;\">\n",
       "      <th></th>\n",
       "      <th>active</th>\n",
       "      <th>recovered</th>\n",
       "    </tr>\n",
       "  </thead>\n",
       "  <tbody>\n",
       "    <tr>\n",
       "      <th>count</th>\n",
       "      <td>3.450000e+02</td>\n",
       "      <td>3.450000e+02</td>\n",
       "    </tr>\n",
       "    <tr>\n",
       "      <th>mean</th>\n",
       "      <td>3.458393e+06</td>\n",
       "      <td>1.909900e+06</td>\n",
       "    </tr>\n",
       "    <tr>\n",
       "      <th>std</th>\n",
       "      <td>4.213188e+06</td>\n",
       "      <td>2.030544e+06</td>\n",
       "    </tr>\n",
       "    <tr>\n",
       "      <th>min</th>\n",
       "      <td>0.000000e+00</td>\n",
       "      <td>0.000000e+00</td>\n",
       "    </tr>\n",
       "    <tr>\n",
       "      <th>25%</th>\n",
       "      <td>6.289880e+05</td>\n",
       "      <td>7.121500e+04</td>\n",
       "    </tr>\n",
       "    <tr>\n",
       "      <th>50%</th>\n",
       "      <td>2.220813e+06</td>\n",
       "      <td>1.314575e+06</td>\n",
       "    </tr>\n",
       "    <tr>\n",
       "      <th>75%</th>\n",
       "      <td>4.388998e+06</td>\n",
       "      <td>3.289584e+06</td>\n",
       "    </tr>\n",
       "    <tr>\n",
       "      <th>max</th>\n",
       "      <td>1.992028e+07</td>\n",
       "      <td>7.712306e+06</td>\n",
       "    </tr>\n",
       "  </tbody>\n",
       "</table>\n",
       "</div>"
      ],
      "text/plain": [
       "             active     recovered\n",
       "count  3.450000e+02  3.450000e+02\n",
       "mean   3.458393e+06  1.909900e+06\n",
       "std    4.213188e+06  2.030544e+06\n",
       "min    0.000000e+00  0.000000e+00\n",
       "25%    6.289880e+05  7.121500e+04\n",
       "50%    2.220813e+06  1.314575e+06\n",
       "75%    4.388998e+06  3.289584e+06\n",
       "max    1.992028e+07  7.712306e+06"
      ]
     },
     "execution_count": 6,
     "metadata": {},
     "output_type": "execute_result"
    }
   ],
   "source": [
    "noam_df['date'] = pd.to_datetime(noam_df.index)\n",
    "noam = noam_df[['date','active','recovered']].groupby(pd.Grouper(key='date', axis=0, freq='1D', sort=True)).sum()\n",
    "noam[215:255] = noam[215:255].replace(to_replace=0, method='ffill')\n",
    "noam.describe()"
   ]
  },
  {
   "cell_type": "markdown",
   "metadata": {},
   "source": [
    "### 4.5.5 South America Subset COVID-19 Data Distribution<a id='4.5.5_South_America_Subset_COVID-19_Data_Distribution'></a>"
   ]
  },
  {
   "cell_type": "code",
   "execution_count": 7,
   "metadata": {
    "scrolled": false
   },
   "outputs": [
    {
     "data": {
      "text/html": [
       "<div>\n",
       "<style scoped>\n",
       "    .dataframe tbody tr th:only-of-type {\n",
       "        vertical-align: middle;\n",
       "    }\n",
       "\n",
       "    .dataframe tbody tr th {\n",
       "        vertical-align: top;\n",
       "    }\n",
       "\n",
       "    .dataframe thead th {\n",
       "        text-align: right;\n",
       "    }\n",
       "</style>\n",
       "<table border=\"1\" class=\"dataframe\">\n",
       "  <thead>\n",
       "    <tr style=\"text-align: right;\">\n",
       "      <th></th>\n",
       "      <th>active</th>\n",
       "      <th>recovered</th>\n",
       "    </tr>\n",
       "  </thead>\n",
       "  <tbody>\n",
       "    <tr>\n",
       "      <th>count</th>\n",
       "      <td>344.000000</td>\n",
       "      <td>3.440000e+02</td>\n",
       "    </tr>\n",
       "    <tr>\n",
       "      <th>mean</th>\n",
       "      <td>332783.465116</td>\n",
       "      <td>2.437042e+06</td>\n",
       "    </tr>\n",
       "    <tr>\n",
       "      <th>std</th>\n",
       "      <td>241025.200159</td>\n",
       "      <td>2.494714e+06</td>\n",
       "    </tr>\n",
       "    <tr>\n",
       "      <th>min</th>\n",
       "      <td>0.000000</td>\n",
       "      <td>0.000000e+00</td>\n",
       "    </tr>\n",
       "    <tr>\n",
       "      <th>25%</th>\n",
       "      <td>24135.750000</td>\n",
       "      <td>1.795750e+04</td>\n",
       "    </tr>\n",
       "    <tr>\n",
       "      <th>50%</th>\n",
       "      <td>413141.000000</td>\n",
       "      <td>1.563276e+06</td>\n",
       "    </tr>\n",
       "    <tr>\n",
       "      <th>75%</th>\n",
       "      <td>542086.750000</td>\n",
       "      <td>4.882875e+06</td>\n",
       "    </tr>\n",
       "    <tr>\n",
       "      <th>max</th>\n",
       "      <td>759826.000000</td>\n",
       "      <td>7.426226e+06</td>\n",
       "    </tr>\n",
       "  </tbody>\n",
       "</table>\n",
       "</div>"
      ],
      "text/plain": [
       "              active     recovered\n",
       "count     344.000000  3.440000e+02\n",
       "mean   332783.465116  2.437042e+06\n",
       "std    241025.200159  2.494714e+06\n",
       "min         0.000000  0.000000e+00\n",
       "25%     24135.750000  1.795750e+04\n",
       "50%    413141.000000  1.563276e+06\n",
       "75%    542086.750000  4.882875e+06\n",
       "max    759826.000000  7.426226e+06"
      ]
     },
     "execution_count": 7,
     "metadata": {},
     "output_type": "execute_result"
    }
   ],
   "source": [
    "soam_df['date'] = pd.to_datetime(soam_df.index)\n",
    "soam = soam_df[['date','active','recovered']].groupby(pd.Grouper(key='date', axis=0, freq='1D', sort=True)).sum()\n",
    "soam[215:255] = soam[215:255].replace(to_replace=0, method='ffill')\n",
    "soam.describe()"
   ]
  },
  {
   "cell_type": "markdown",
   "metadata": {},
   "source": [
    "## 4.6 Active and Recovered COVID-19 cases by Continent<a id='4.6_Active_and_Recovered_COVID-19_Cases_by_Continent'></a>"
   ]
  },
  {
   "cell_type": "code",
   "execution_count": 8,
   "metadata": {
    "scrolled": true
   },
   "outputs": [
    {
     "data": {
      "image/png": "[encoded data removed]",
      "text/plain": [
       "<Figure size 1008x1008 with 10 Axes>"
      ]
     },
     "metadata": {
      "needs_background": "light"
     },
     "output_type": "display_data"
    }
   ],
   "source": [
    "fig, axes = plt.subplots(5, 2, figsize=(14, 14))\n",
    "\n",
    "# Define the date format\n",
    "date_form = DateFormatter(\"%m-%d\")\n",
    "\n",
    "# plotting subplots\n",
    "sns.lineplot(ax=axes[0,0], data=noam, x='date', y='active', ci=95)\n",
    "axes[0, 0].set_title('North America Subset COVID-19 Cases 2020', loc='left', pad=15)\n",
    "axes[0, 0].margins(x=0)\n",
    "axes[0, 0].xaxis.set_major_formatter(date_form)\n",
    "axes[0, 0].xaxis.set_major_locator(mdates.WeekdayLocator(interval=5))\n",
    "sns.lineplot(ax=axes[0,1], data=noam, x='date', y='recovered', ci=95)\n",
    "axes[0, 1].margins(x=0)\n",
    "axes[0, 1].xaxis.set_major_formatter(date_form)\n",
    "axes[0, 1].xaxis.set_major_locator(mdates.WeekdayLocator(interval=5))\n",
    "sns.lineplot(ax=axes[1,0], data=asia, x='date', y='active', ci=95)\n",
    "axes[1, 0].set_title('Asia Subset COVID-19 Cases 2020', loc='left', pad=15)\n",
    "axes[1, 0].margins(x=0)\n",
    "axes[1, 0].xaxis.set_major_formatter(date_form)\n",
    "axes[1, 0].xaxis.set_major_locator(mdates.WeekdayLocator(interval=5))\n",
    "sns.lineplot(ax=axes[1, 1], data=asia, x='date', y='recovered', ci=95)\n",
    "axes[1, 1].margins(x=0)\n",
    "axes[1, 1].xaxis.set_major_formatter(date_form)\n",
    "axes[1, 1].xaxis.set_major_locator(mdates.WeekdayLocator(interval=5))\n",
    "sns.lineplot(ax=axes[2, 0], data=eu, x='date', y='active', ci=95)\n",
    "axes[2, 0].set_title('Europe Subset COVID-19 Cases 2020', loc='left', pad=15)\n",
    "axes[2, 0].margins(x=0)\n",
    "axes[2, 0].xaxis.set_major_formatter(date_form)\n",
    "axes[2, 0].xaxis.set_major_locator(mdates.WeekdayLocator(interval=5))\n",
    "sns.lineplot(ax=axes[2, 1], data=eu, x='date', y='recovered', ci=95)\n",
    "axes[2, 1].margins(x=0)\n",
    "axes[2, 1].xaxis.set_major_formatter(date_form)\n",
    "axes[2, 1].xaxis.set_major_locator(mdates.WeekdayLocator(interval=5))\n",
    "sns.lineplot(ax=axes[3, 0], data=af, x='date', y='active', ci=95)\n",
    "axes[3, 0].set_title('Africa Subset COVID-19 Cases 2020', loc='left', pad=15)\n",
    "axes[3, 0].margins(x=0)\n",
    "axes[3, 0].xaxis.set_major_formatter(date_form)\n",
    "axes[3, 0].xaxis.set_major_locator(mdates.WeekdayLocator(interval=5))\n",
    "sns.lineplot(ax=axes[3, 1], data=af, x='date', y='recovered', ci=95)\n",
    "axes[3, 1].margins(x=0)\n",
    "axes[3, 1].xaxis.set_major_formatter(date_form)\n",
    "axes[3, 1].xaxis.set_major_locator(mdates.WeekdayLocator(interval=5))\n",
    "sns.lineplot(ax=axes[4, 0], data=soam, x='date', y='active', ci=95)\n",
    "axes[4, 0].set_title('South America Subset COVID-19 Cases 2020', loc='left', pad=15)\n",
    "axes[4, 0].margins(x=0)\n",
    "axes[4, 0].xaxis.set_major_formatter(date_form)\n",
    "axes[4, 0].xaxis.set_major_locator(mdates.WeekdayLocator(interval=5))\n",
    "sns.lineplot(ax=axes[4, 1], data=soam, x='date', y='recovered', ci=95)\n",
    "axes[4, 1].margins(x=0)\n",
    "axes[4, 1].xaxis.set_major_formatter(date_form)\n",
    "axes[4, 1].xaxis.set_major_locator(mdates.WeekdayLocator(interval=5))\n",
    "\n",
    "\n",
    "# automatically adjust padding horizontally\n",
    "# as well as vertically.\n",
    "plt.tight_layout()\n",
    " \n",
    "# display plot\n",
    "plt.show()"
   ]
  },
  {
   "cell_type": "markdown",
   "metadata": {},
   "source": [
    "In general, a p-value of less than 5% means you can reject the null hyptohesis that there is a unit root. In this case we want to ensure that there are no values that can lead to unpredictable results in the time series. The alternate hypothesis for this data is that the time series *IS* stationary (or trend stationary) \n",
    "\n",
    "If we combine differencing with autoregression and moving average model, we obtain a non-seasonal ARIMA model. ARIMA is an acronym for AutoRegressive Integrated Moving Average. The full model can be written as:\n",
    "     $y'_t = c + \\phi_1y'_{t-1} + ... + \\phi_Py'_{t-p} + \\theta_1\\epsilon_{t-1} + ... + \\theta_q\\epsilon_{t-q} + \\epsilon_t$ \n",
    "\n",
    "where $y'_t$ is the differenced series. The predictors on the right include both lagged values of y_t and lagged errors. We call this an **ARIMA(p, d, q) model**, where\n",
    "\n",
    "    p = order of the autoregressive part\n",
    "    d = degree of first differencing involved\n",
    "    q = order of moving average part"
   ]
  },
  {
   "cell_type": "markdown",
   "metadata": {},
   "source": [
    "## 4.7 ADF Statistic<a id='4.7_ADF_Statistic'></a>"
   ]
  },
  {
   "cell_type": "markdown",
   "metadata": {},
   "source": [
    "### 4.7.1 Africa Data Confidence Level and Test Statistics<a id='4.7.1_Africa_Data_Confidence_Level_and_Test_Statistics'></a>"
   ]
  },
  {
   "cell_type": "code",
   "execution_count": 9,
   "metadata": {},
   "outputs": [],
   "source": [
    "result = adfuller(af['recovered'])\n",
    "result1 = adfuller(af['active'])"
   ]
  },
  {
   "cell_type": "code",
   "execution_count": 10,
   "metadata": {},
   "outputs": [
    {
     "name": "stdout",
     "output_type": "stream",
     "text": [
      "Africa Sample Recovered ADF Statistic: -3.649744518794937\n",
      "Africa Sample Recovered p-value: 0.004878215578195425\n",
      "Africa Sample Recovered critical values: {'1%': -3.452636878592149, '5%': -2.8713543954331433, '10%': -2.5719993576515705}\n"
     ]
    }
   ],
   "source": [
    "print('Africa Sample Recovered ADF Statistic:', result[0])\n",
    "\n",
    "print('Africa Sample Recovered p-value:', result[1])\n",
    "\n",
    "print('Africa Sample Recovered critical values:', result[4])"
   ]
  },
  {
   "cell_type": "code",
   "execution_count": 11,
   "metadata": {},
   "outputs": [
    {
     "name": "stdout",
     "output_type": "stream",
     "text": [
      "Africa Sample Active ADF Statistic: -2.048702063599407\n",
      "Africa Sample Active p-value: 0.2656353252380045\n",
      "Africa Sample Active critical values: {'1%': -3.4525611751768914, '5%': -2.87132117782556, '10%': -2.5719816428028888}\n"
     ]
    }
   ],
   "source": [
    "print('Africa Sample Active ADF Statistic:', result1[0])\n",
    "\n",
    "print('Africa Sample Active p-value:', result1[1])\n",
    "\n",
    "print('Africa Sample Active critical values:', result1[4])"
   ]
  },
  {
   "cell_type": "markdown",
   "metadata": {},
   "source": [
    "#### 4.7.1.1 Africa Data Differenced<a id='4.7.1.1_Africa_Data_Differenced'></a>"
   ]
  },
  {
   "cell_type": "code",
   "execution_count": 12,
   "metadata": {},
   "outputs": [],
   "source": [
    "af_active = af.active.diff().diff().dropna()\n",
    "result2 = adfuller(af_active)"
   ]
  },
  {
   "cell_type": "code",
   "execution_count": 13,
   "metadata": {},
   "outputs": [
    {
     "name": "stdout",
     "output_type": "stream",
     "text": [
      "Africa Sample Active ADF Statistic: -16.743369716909413\n",
      "Africa Sample Active p-value: 1.3524670984926477e-29\n",
      "Africa Sample Active critical values: {'1%': -3.4525611751768914, '5%': -2.87132117782556, '10%': -2.5719816428028888}\n"
     ]
    }
   ],
   "source": [
    "print('Africa Sample Active ADF Statistic:', result2[0])\n",
    "\n",
    "print('Africa Sample Active p-value:', result2[1])\n",
    "\n",
    "print('Africa Sample Active critical values:', result2[4])"
   ]
  },
  {
   "cell_type": "markdown",
   "metadata": {},
   "source": [
    "### 4.7.2 Asia Data Confidence Level and Test Statistics<a id='4.7.2_Asia_Data_Confidence_Level_and_Test_Statistics'></a>"
   ]
  },
  {
   "cell_type": "markdown",
   "metadata": {},
   "source": [
    "#### 4.7.2.1 Asia Data Differenced<a id='4.7.2.1_Asia_Data_Differenced'></a>"
   ]
  },
  {
   "cell_type": "code",
   "execution_count": 14,
   "metadata": {},
   "outputs": [],
   "source": [
    "asia_recovered = asia.recovered.diff().diff().dropna()\n",
    "result3 = adfuller(asia_recovered)"
   ]
  },
  {
   "cell_type": "code",
   "execution_count": 15,
   "metadata": {
    "scrolled": true
   },
   "outputs": [
    {
     "name": "stdout",
     "output_type": "stream",
     "text": [
      "Asia Sample Recovered ADF Statistic: -10.804705446646793\n",
      "Asia Sample Recovered p-value: 1.976821075624385e-19\n",
      "Asia Sample Recovered critical values: {'1%': -3.450081345901191, '5%': -2.870232621465807, '10%': -2.571401168202517}\n"
     ]
    }
   ],
   "source": [
    "print('Asia Sample Recovered ADF Statistic:', result3[0])\n",
    "\n",
    "print('Asia Sample Recovered p-value:', result3[1])\n",
    "\n",
    "print('Asia Sample Recovered critical values:', result3[4])"
   ]
  },
  {
   "cell_type": "code",
   "execution_count": 16,
   "metadata": {},
   "outputs": [],
   "source": [
    "asia_active = asia.active.diff().dropna()\n",
    "result4 = adfuller(asia_active)"
   ]
  },
  {
   "cell_type": "code",
   "execution_count": 17,
   "metadata": {},
   "outputs": [
    {
     "name": "stdout",
     "output_type": "stream",
     "text": [
      "Asia Sample Active ADF Statistic: -15.308256091026506\n",
      "Asia Sample Active p-value: 4.220857016372562e-28\n",
      "Asia Sample Active critical values: {'1%': -3.449673193310592, '5%': -2.8700533746644323, '10%': -2.5713055939491403}\n"
     ]
    }
   ],
   "source": [
    "print('Asia Sample Active ADF Statistic:', result4[0])\n",
    "\n",
    "print('Asia Sample Active p-value:', result4[1])\n",
    "\n",
    "print('Asia Sample Active critical values:', result4[4])"
   ]
  },
  {
   "cell_type": "markdown",
   "metadata": {},
   "source": [
    "### 4.7.3 Europe Data Confidence Level and Test Statistics<a id='4.7.3_Europe_Data_Confidence_Level_and_Test_Statistics'></a>"
   ]
  },
  {
   "cell_type": "markdown",
   "metadata": {},
   "source": [
    "#### 4.7.3.1 Europe Data Differenced<a id='4.7.3.1_Europe_Data_Differenced'></a>"
   ]
  },
  {
   "cell_type": "code",
   "execution_count": 18,
   "metadata": {},
   "outputs": [],
   "source": [
    "eu_recovered = eu.recovered.diff().dropna()\n",
    "result5 = adfuller(eu_recovered)"
   ]
  },
  {
   "cell_type": "code",
   "execution_count": 19,
   "metadata": {},
   "outputs": [
    {
     "name": "stdout",
     "output_type": "stream",
     "text": [
      "Europe Sample Recovered ADF Statistic: -3.4998608710361663\n",
      "Europe Sample Recovered p-value: 0.007990667906989034\n",
      "Europe Sample Recovered critical values: {'1%': -3.450632157720528, '5%': -2.870474482366864, '10%': -2.5715301325443787}\n"
     ]
    }
   ],
   "source": [
    "print('Europe Sample Recovered ADF Statistic:', result5[0])\n",
    "\n",
    "print('Europe Sample Recovered p-value:', result5[1])\n",
    "\n",
    "print('Europe Sample Recovered critical values:', result5[4])"
   ]
  },
  {
   "cell_type": "code",
   "execution_count": 20,
   "metadata": {},
   "outputs": [],
   "source": [
    "eu_active = eu.active.diff().diff().dropna()\n",
    "result6 = adfuller(eu_active)"
   ]
  },
  {
   "cell_type": "code",
   "execution_count": 21,
   "metadata": {},
   "outputs": [
    {
     "name": "stdout",
     "output_type": "stream",
     "text": [
      "Europe Sample Active ADF Statistic: -3.2047081931553745\n",
      "Europe Sample Active p-value: 0.019713762914350764\n",
      "Europe Sample Active critical values: {'1%': -3.45050711373316, '5%': -2.8704195794076743, '10%': -2.571500856923753}\n"
     ]
    }
   ],
   "source": [
    "print('Europe Sample Active ADF Statistic:', result6[0])\n",
    "\n",
    "print('Europe Sample Active p-value:', result6[1])\n",
    "\n",
    "print('Europe Sample Active critical values:', result6[4])"
   ]
  },
  {
   "cell_type": "markdown",
   "metadata": {},
   "source": [
    "### 4.7.4 North America Data Confidence Level and Test Statistics<a id='4.7.4_North_America_Data_Confidence_Level_and_Test_Statistics'></a>"
   ]
  },
  {
   "cell_type": "markdown",
   "metadata": {},
   "source": [
    "#### 4.7.4.1 North America Data Differenced<a id='4.7.4.1_North_America_Data_Differenced'></a>"
   ]
  },
  {
   "cell_type": "code",
   "execution_count": 22,
   "metadata": {},
   "outputs": [],
   "source": [
    "noam_recovered = noam.recovered.diff().dropna()\n",
    "result7 = adfuller(noam_recovered)"
   ]
  },
  {
   "cell_type": "code",
   "execution_count": 23,
   "metadata": {},
   "outputs": [
    {
     "name": "stdout",
     "output_type": "stream",
     "text": [
      "North America Sample Recovered ADF Statistic: -18.68578078392801\n",
      "North America Sample Recovered p-value: 2.0406647129059285e-30\n",
      "North America Sample Recovered critical values: {'1%': -3.449559661646851, '5%': -2.8700035112469626, '10%': -2.5712790073013796}\n"
     ]
    }
   ],
   "source": [
    "print('North America Sample Recovered ADF Statistic:', result7[0])\n",
    "\n",
    "print('North America Sample Recovered p-value:', result7[1])\n",
    "\n",
    "print('North America Sample Recovered critical values:', result7[4])"
   ]
  },
  {
   "cell_type": "code",
   "execution_count": 24,
   "metadata": {},
   "outputs": [],
   "source": [
    "noam_active = noam.active.diff().dropna()\n",
    "result8 = adfuller(noam_active)"
   ]
  },
  {
   "cell_type": "code",
   "execution_count": 25,
   "metadata": {},
   "outputs": [
    {
     "name": "stdout",
     "output_type": "stream",
     "text": [
      "North America Sample Active ADF Statistic: -17.37869316948957\n",
      "North America Sample Active p-value: 5.0878307105718554e-30\n",
      "North America Sample Active critical values: {'1%': -3.449559661646851, '5%': -2.8700035112469626, '10%': -2.5712790073013796}\n"
     ]
    }
   ],
   "source": [
    "print('North America Sample Active ADF Statistic:', result8[0])\n",
    "\n",
    "print('North America Sample Active p-value:', result8[1])\n",
    "\n",
    "print('North America Sample Active critical values:', result8[4])"
   ]
  },
  {
   "cell_type": "markdown",
   "metadata": {},
   "source": [
    "### 4.7.5 South America Data Confidence Level and Test Statistics<a id='4.7.5_South_America_Data_Confidence_Level_and_Test_Statistics'></a>"
   ]
  },
  {
   "cell_type": "markdown",
   "metadata": {},
   "source": [
    "#### 4.7.5.1 South America Data Differenced<a id='4.7.5.1_South_America_Data_Differenced'></a>"
   ]
  },
  {
   "cell_type": "code",
   "execution_count": 26,
   "metadata": {},
   "outputs": [],
   "source": [
    "soam_recovered = soam.recovered.diff().dropna()\n",
    "result8 = adfuller(soam_recovered)"
   ]
  },
  {
   "cell_type": "code",
   "execution_count": 27,
   "metadata": {},
   "outputs": [
    {
     "name": "stdout",
     "output_type": "stream",
     "text": [
      "South America Sample Recovered ADF Statistic: -2.4486845531368266\n",
      "South America Sample Recovered p-value: 0.12846416821939932\n",
      "South America Sample Recovered critical values: {'1%': -3.4502011472639724, '5%': -2.8702852297358983, '10%': -2.5714292194077513}\n"
     ]
    }
   ],
   "source": [
    "print('South America Sample Recovered ADF Statistic:', result8[0])\n",
    "\n",
    "print('South America Sample Recovered p-value:', result8[1])\n",
    "\n",
    "print('South America Sample Recovered critical values:', result8[4])"
   ]
  },
  {
   "cell_type": "code",
   "execution_count": 28,
   "metadata": {},
   "outputs": [],
   "source": [
    "soam_active = soam.active.diff().dropna()\n",
    "result9 = adfuller(soam_active)"
   ]
  },
  {
   "cell_type": "code",
   "execution_count": 29,
   "metadata": {},
   "outputs": [
    {
     "name": "stdout",
     "output_type": "stream",
     "text": [
      "South America Sample Recovered ADF Statistic: -21.826967380965534\n",
      "South America Sample Recovered p-value: 0.0\n",
      "South America Sample Recovered critical values: {'1%': -3.4496162602188187, '5%': -2.870028369720798, '10%': -2.5712922615505627}\n"
     ]
    }
   ],
   "source": [
    "print('South America Sample Recovered ADF Statistic:', result9[0])\n",
    "\n",
    "print('South America Sample Recovered p-value:', result9[1])\n",
    "\n",
    "print('South America Sample Recovered critical values:', result9[4])"
   ]
  },
  {
   "cell_type": "markdown",
   "metadata": {},
   "source": [
    "## 4.8 Stationary COVID-19 Cases <a id='4.8_Stationary_COVID-19_Cases'></a>"
   ]
  },
  {
   "cell_type": "code",
   "execution_count": 30,
   "metadata": {},
   "outputs": [
    {
     "data": {
      "image/png": "[encoded data removed]",
      "text/plain": [
       "<Figure size 1008x1008 with 10 Axes>"
      ]
     },
     "metadata": {
      "needs_background": "light"
     },
     "output_type": "display_data"
    }
   ],
   "source": [
    "fig, axes = plt.subplots(5, 2, figsize=(14, 14))\n",
    "\n",
    "# Define the date format\n",
    "date_form = DateFormatter(\"%m-%d\")\n",
    "\n",
    "# plotting subplots\n",
    "sns.lineplot(ax=axes[0,0], data=noam_active, ci=95)\n",
    "axes[0, 0].set_title('North America Stationary Time Series', loc='left', pad=15)\n",
    "axes[0, 0].margins(x=0)\n",
    "axes[0, 0].xaxis.set_major_formatter(date_form)\n",
    "axes[0, 0].xaxis.set_major_locator(mdates.WeekdayLocator(interval=5))\n",
    "sns.lineplot(ax=axes[0,1], data=noam_recovered, ci=95)\n",
    "axes[0, 1].margins(x=0)\n",
    "axes[0, 1].xaxis.set_major_formatter(date_form)\n",
    "axes[0, 1].xaxis.set_major_locator(mdates.WeekdayLocator(interval=5))\n",
    "sns.lineplot(ax=axes[1,0], data=asia_active, ci=95)\n",
    "axes[1, 0].set_title('Asia Stationary Time Series', loc='left', pad=15)\n",
    "axes[1, 0].margins(x=0)\n",
    "axes[1, 0].xaxis.set_major_formatter(date_form)\n",
    "axes[1, 0].xaxis.set_major_locator(mdates.WeekdayLocator(interval=5))\n",
    "sns.lineplot(ax=axes[1, 1], data=asia_recovered, ci=95)\n",
    "axes[1, 1].margins(x=0)\n",
    "axes[1, 1].xaxis.set_major_formatter(date_form)\n",
    "axes[1, 1].xaxis.set_major_locator(mdates.WeekdayLocator(interval=5))\n",
    "sns.lineplot(ax=axes[2, 0], data=eu_active, ci=95)\n",
    "axes[2, 0].set_title('Europe Stationary Time Series', loc='left', pad=15)\n",
    "axes[2, 0].margins(x=0)\n",
    "axes[2, 0].xaxis.set_major_formatter(date_form)\n",
    "axes[2, 0].xaxis.set_major_locator(mdates.WeekdayLocator(interval=5))\n",
    "sns.lineplot(ax=axes[2, 1], data=eu_recovered, ci=95)\n",
    "axes[2, 1].margins(x=0)\n",
    "axes[2, 1].xaxis.set_major_formatter(date_form)\n",
    "axes[2, 1].xaxis.set_major_locator(mdates.WeekdayLocator(interval=5))\n",
    "sns.lineplot(ax=axes[3, 0], data=af_active, ci=95)\n",
    "axes[3, 0].set_title('Africa Stationary Time Series', loc='left', pad=15)\n",
    "axes[3, 0].margins(x=0)\n",
    "axes[3, 0].xaxis.set_major_formatter(date_form)\n",
    "axes[3, 0].xaxis.set_major_locator(mdates.WeekdayLocator(interval=5))\n",
    "sns.lineplot(ax=axes[3, 1], data=af['recovered'], ci=95)\n",
    "axes[3, 1].margins(x=0)\n",
    "axes[3, 1].xaxis.set_major_formatter(date_form)\n",
    "axes[3, 1].xaxis.set_major_locator(mdates.WeekdayLocator(interval=5))\n",
    "sns.lineplot(ax=axes[4, 0], data=soam_active, ci=95)\n",
    "axes[4, 0].set_title('South America Stationary Time Series', loc='left', pad=15)\n",
    "axes[4, 0].margins(x=0)\n",
    "axes[4, 0].xaxis.set_major_formatter(date_form)\n",
    "axes[4, 0].xaxis.set_major_locator(mdates.WeekdayLocator(interval=5))\n",
    "sns.lineplot(ax=axes[4, 1], data=soam_recovered, ci=95)\n",
    "axes[4, 1].margins(x=0)\n",
    "axes[4, 1].xaxis.set_major_formatter(date_form)\n",
    "axes[4, 1].xaxis.set_major_locator(mdates.WeekdayLocator(interval=5))\n",
    "\n",
    "\n",
    "# automatically adjust padding horizontally\n",
    "# as well as vertically.\n",
    "plt.tight_layout()\n",
    " \n",
    "# display plot\n",
    "plt.show()"
   ]
  },
  {
   "cell_type": "markdown",
   "metadata": {},
   "source": [
    "## 4.9 Box-Cox Transformation <a id='4.9_Box-Cox_Transformation'></a>"
   ]
  },
  {
   "cell_type": "markdown",
   "metadata": {},
   "source": [
    "The datasets are right-tail skewed and to gain a more accurate prediction we can modify the distribution to a normal curve. To do this the Box-Cox transform is given by: $ y = \\frac{x^\\lambda - 1}{\\lambda}, for \\lambda !=0$, $ log(x), for \\lambda = 0 $\n",
    "\n",
    "The confidence limits returned when alpha is provided give the interval where: $ llf(\\hat{\\lambda}) - llf(\\lambda) < \\frac{1}{2}x^2(1 - \\alpha, 1) $ \n",
    "    \n",
    "with llf the log-liklihood function and $X^2$ the chi-squared function.\n"
   ]
  },
  {
   "cell_type": "code",
   "execution_count": 31,
   "metadata": {},
   "outputs": [],
   "source": [
    "#preparing data for boxcox transform\n",
    "#Africa Recovered \n",
    "ar = af['recovered'][af['recovered'] != 0]\n",
    "ar.to_csv(\"../data/pre_bc_afr.csv\")\n",
    "\n",
    "#Africa Active\n",
    "af['active'].to_csv(\"../data/pre_bc_afa.csv\")\n",
    "\n",
    "#Asia Recovered\n",
    "asia['recovered'].to_csv(\"../data/pre_bc_asr.csv\")\n",
    "\n",
    "#Asia Active\n",
    "asia['active'].to_csv(\"../data/pre_bc_asa.csv\")\n",
    "\n",
    "#Europe Recovered\n",
    "er = eu['recovered'][eu['recovered'] != 0]\n",
    "er.to_csv(\"../data/pre_bc_er.csv\")\n",
    "\n",
    "#Europe Active\n",
    "ea = eu['active'][eu['active'] != 0]\n",
    "ea.to_csv(\"../data/pre_bc_ea.csv\")\n",
    "\n",
    "#North America Recovered \n",
    "nr = noam['recovered'][noam['recovered'] != 0]\n",
    "nr.to_csv(\"../data/pre_bc_nr.csv\")\n",
    "\n",
    "#North America Active \n",
    "na = noam['active'][noam['active'] != 0]\n",
    "na.to_csv(\"../data/pre_bc_na.csv\")\n",
    "\n",
    "#South America Recovered \n",
    "sr = soam['recovered'][soam['recovered'] != 0]\n",
    "sr.to_csv(\"../data/pre_bc_sr.csv\")\n",
    "\n",
    "#South America Active \n",
    "sa = soam['active'][soam['active'] != 0]\n",
    "sa.to_csv(\"../data/pre_bc_sa.csv\")"
   ]
  },
  {
   "cell_type": "code",
   "execution_count": 32,
   "metadata": {},
   "outputs": [
    {
     "data": {
      "text/plain": [
       "date\n",
       "2020-03-13         1.0\n",
       "2020-03-14         1.0\n",
       "2020-03-15         1.0\n",
       "2020-03-16         1.0\n",
       "2020-03-17         1.0\n",
       "                ...   \n",
       "2020-12-27    398060.0\n",
       "2020-12-28    399575.0\n",
       "2020-12-29    401429.0\n",
       "2020-12-30    405251.0\n",
       "2020-12-31    407504.0\n",
       "Freq: D, Name: recovered, Length: 294, dtype: float64"
      ]
     },
     "execution_count": 32,
     "metadata": {},
     "output_type": "execute_result"
    }
   ],
   "source": [
    "ar"
   ]
  },
  {
   "cell_type": "markdown",
   "metadata": {},
   "source": [
    "## 4.10 Assess model performance <a id='4.10_Assess_model_performance'></a>"
   ]
  },
  {
   "cell_type": "code",
   "execution_count": 33,
   "metadata": {},
   "outputs": [],
   "source": [
    "###Function modified from Case springboard/1585014009\n",
    "\n",
    "# Make a function called evaluate_arima_model to find the MSE of a single ARIMA model \n",
    "def evaluate_arima_model(data, arima_order):\n",
    "    # Needs to be an integer because it is later used as an index.\n",
    "    # Use int()\n",
    "    split=int(len(data) * 0.7) \n",
    "    # Make train and test variables, with 'train, test'\n",
    "    train, test = data[0:split], data[split:len(data)]\n",
    "    past=[x for x in train]\n",
    "    # make predictions. Declare a variable with that name\n",
    "    predictions = list()\n",
    "    for i in range(len(test)):#timestep-wise comparison between test data and one-step prediction ARIMA model. \n",
    "        past_bc, fitted_lambda = stats.boxcox(past)\n",
    "        test_bc = stats.boxcox(test, fitted_lambda)\n",
    "        model = ARIMA(past_bc, order=arima_order)\n",
    "        model_fit = model.fit(disp=0)\n",
    "        future = model_fit.forecast()[0]\n",
    "        # Append() here\n",
    "        predictions.append(future)\n",
    "        past.append(test_bc[i])\n",
    "    # calculate out of sample error\n",
    "    error = mean_squared_error(test_bc, predictions)\n",
    "    # Return the error\n",
    "    return error"
   ]
  },
  {
   "cell_type": "code",
   "execution_count": 34,
   "metadata": {},
   "outputs": [],
   "source": [
    "###Function modified from Case springboard/1585014009\n",
    "\n",
    "# Make a function called evaluate_models to evaluate different ARIMA models with several different p, d, and q values.\n",
    "def evaluate_models(dataset, p_values, d_values, q_values):\n",
    "    best_score, best_cfg = float(\"inf\"), None\n",
    "    # Iterate through p_values\n",
    "    for p in p_values:\n",
    "        # Iterate through d_values\n",
    "        for d in d_values:\n",
    "            # Iterate through q_values\n",
    "            for q in q_values:\n",
    "                # p, d, q iterator variables in that order\n",
    "                order = (p, d, q)\n",
    "                try:\n",
    "                    # Make a variable called mse for the Mean squared error\n",
    "                    mse = evaluate_arima_model(dataset, order)\n",
    "                    if mse < best_score:\n",
    "                        best_score, best_cfg = mse, order\n",
    "                    print('ARIMA%s MSE=%.3f' % (order,mse))\n",
    "                except:\n",
    "                    continue\n",
    "    return print('Best ARIMA%s MSE=%.3f' % (best_cfg, best_score))"
   ]
  },
  {
   "cell_type": "code",
   "execution_count": 35,
   "metadata": {},
   "outputs": [],
   "source": [
    "# Now, we choose a couple of values to try for each parameter: p_values, d_values and q_values\n",
    "# Fill in the blanks as appropriate\n",
    "p_values = [x for x in range(0, 3)]\n",
    "d_values = [x for x in range(0, 3)]\n",
    "q_values = [x for x in range(0, 3)]"
   ]
  },
  {
   "cell_type": "code",
   "execution_count": 36,
   "metadata": {},
   "outputs": [],
   "source": [
    "def pickle_best_model(data, arima_order, filename):\n",
    "\n",
    "    # Save Model Using Pickle\n",
    "    # Fit the model on training set with best order\n",
    "    model = ARIMA(data, order=arima_order)\n",
    "    model_fit = model.fit(disp=0)\n",
    "    model_fit.version = '1.0'\n",
    "    model_fit.pandas_version = pd.__version__\n",
    "    model_fit.numpy_version = np.__version__\n",
    "    model_fit.sklearn_version = sklearn_version\n",
    "    model_fit.statsmodels_version = statsmodels_version\n",
    "    model_fit.scipy_version = scipy_version\n",
    "    model_fit.build_datetime = datetime.datetime.now()\n",
    "    \n",
    "    # save the model to disk - write binary\n",
    "    ##filename = 'finalized_model.sav'\n",
    "    pickle.dump(model_fit, open(filename, 'wb'))"
   ]
  },
  {
   "cell_type": "markdown",
   "metadata": {},
   "source": [
    "### 4.10.1 Optimal ARIMA Model-Africa recovered<a id='4.10.1_Optimal_ARIMA_Model-Africa_recovered'></a>"
   ]
  },
  {
   "cell_type": "code",
   "execution_count": 37,
   "metadata": {
    "scrolled": false
   },
   "outputs": [
    {
     "name": "stdout",
     "output_type": "stream",
     "text": [
      "ARIMA(0, 0, 0) MSE=40.532\n",
      "ARIMA(0, 0, 1) MSE=95.020\n",
      "ARIMA(0, 0, 2) MSE=150.741\n",
      "ARIMA(0, 1, 0) MSE=165.842\n",
      "ARIMA(0, 1, 1) MSE=165.836\n",
      "ARIMA(0, 1, 2) MSE=168.310\n",
      "ARIMA(0, 2, 0) MSE=200.310\n",
      "ARIMA(0, 2, 1) MSE=186.949\n",
      "ARIMA(0, 2, 2) MSE=188.534\n",
      "ARIMA(1, 0, 0) MSE=164.190\n",
      "ARIMA(1, 0, 1) MSE=167.556\n",
      "ARIMA(1, 0, 2) MSE=171.141\n",
      "ARIMA(1, 1, 0) MSE=165.831\n",
      "ARIMA(1, 2, 0) MSE=209.703\n",
      "ARIMA(1, 2, 1) MSE=195.289\n",
      "ARIMA(2, 0, 0) MSE=170.195\n",
      "ARIMA(2, 1, 0) MSE=167.750\n",
      "ARIMA(2, 2, 0) MSE=214.859\n",
      "Best ARIMA(0, 0, 0) MSE=40.532\n"
     ]
    }
   ],
   "source": [
    "# Find the optimum ARIMA model for our Africa recovered sample.\n",
    "import warnings\n",
    "warnings.filterwarnings(\"ignore\")\n",
    "evaluate_models(ar, p_values, d_values, q_values)"
   ]
  },
  {
   "cell_type": "code",
   "execution_count": 38,
   "metadata": {},
   "outputs": [],
   "source": [
    "pickle_best_model(ar, (0, 0, 0), '../models/af_rec_model.sav')"
   ]
  },
  {
   "cell_type": "markdown",
   "metadata": {},
   "source": [
    "### 4.10.2 Optimal ARIMA Model-Africa active<a id='4.10.2_Optimal_ARIMA_Model-Africa_active'></a>"
   ]
  },
  {
   "cell_type": "code",
   "execution_count": 39,
   "metadata": {
    "scrolled": true
   },
   "outputs": [
    {
     "name": "stdout",
     "output_type": "stream",
     "text": [
      "ARIMA(0, 0, 0) MSE=45.804\n",
      "ARIMA(0, 0, 1) MSE=96.204\n",
      "ARIMA(0, 1, 0) MSE=183.350\n",
      "ARIMA(0, 1, 1) MSE=187.843\n",
      "ARIMA(0, 1, 2) MSE=205.172\n",
      "ARIMA(0, 2, 0) MSE=216.664\n",
      "ARIMA(0, 2, 1) MSE=206.872\n",
      "ARIMA(0, 2, 2) MSE=216.473\n",
      "ARIMA(1, 0, 0) MSE=181.621\n",
      "ARIMA(1, 0, 1) MSE=186.248\n",
      "ARIMA(1, 0, 2) MSE=201.721\n",
      "ARIMA(1, 1, 0) MSE=196.465\n",
      "ARIMA(1, 1, 1) MSE=194.390\n",
      "ARIMA(1, 1, 2) MSE=211.601\n",
      "ARIMA(1, 2, 0) MSE=218.817\n",
      "ARIMA(1, 2, 2) MSE=234.193\n",
      "ARIMA(2, 0, 0) MSE=194.656\n",
      "ARIMA(2, 1, 0) MSE=202.626\n",
      "ARIMA(2, 1, 1) MSE=204.878\n",
      "ARIMA(2, 1, 2) MSE=201.378\n",
      "ARIMA(2, 2, 0) MSE=239.817\n",
      "Best ARIMA(0, 0, 0) MSE=45.804\n"
     ]
    }
   ],
   "source": [
    "# Find the optimum ARIMA model for our Africa active sample.\n",
    "evaluate_models(af.active, p_values, d_values, q_values)"
   ]
  },
  {
   "cell_type": "code",
   "execution_count": 40,
   "metadata": {},
   "outputs": [],
   "source": [
    "pickle_best_model(af.active, (0, 0, 0), '../models/af_act_model.sav')"
   ]
  },
  {
   "cell_type": "markdown",
   "metadata": {},
   "source": [
    "### 4.10.3 Optimal ARIMA Model-Asia recovered<a id='4.10.3_Optimal_ARIMA_Model-Asia_recovered'></a>"
   ]
  },
  {
   "cell_type": "code",
   "execution_count": 41,
   "metadata": {
    "scrolled": true
   },
   "outputs": [
    {
     "name": "stdout",
     "output_type": "stream",
     "text": [
      "ARIMA(0, 0, 0) MSE=153.743\n",
      "ARIMA(0, 0, 1) MSE=245.655\n",
      "ARIMA(0, 0, 2) MSE=379.493\n",
      "ARIMA(0, 1, 0) MSE=591.412\n",
      "ARIMA(0, 1, 1) MSE=588.629\n",
      "ARIMA(0, 1, 2) MSE=599.003\n",
      "ARIMA(0, 2, 0) MSE=689.793\n",
      "ARIMA(0, 2, 1) MSE=616.559\n",
      "ARIMA(0, 2, 2) MSE=629.560\n",
      "ARIMA(1, 0, 0) MSE=580.254\n",
      "ARIMA(1, 0, 1) MSE=576.531\n",
      "ARIMA(1, 0, 2) MSE=582.591\n",
      "ARIMA(1, 1, 0) MSE=589.404\n",
      "ARIMA(1, 1, 1) MSE=591.508\n",
      "ARIMA(1, 2, 0) MSE=700.398\n",
      "ARIMA(2, 0, 0) MSE=576.731\n",
      "ARIMA(2, 0, 1) MSE=584.264\n",
      "ARIMA(2, 1, 0) MSE=594.248\n",
      "ARIMA(2, 2, 0) MSE=708.886\n",
      "Best ARIMA(0, 0, 0) MSE=153.743\n"
     ]
    }
   ],
   "source": [
    "# Find the optimum ARIMA model for our Asia recovered sample.\n",
    "evaluate_models(asia.recovered, p_values, d_values, q_values)"
   ]
  },
  {
   "cell_type": "code",
   "execution_count": 42,
   "metadata": {},
   "outputs": [],
   "source": [
    "pickle_best_model(asia.recovered, (0, 0, 0), '../models/asia_rec_model.sav')"
   ]
  },
  {
   "cell_type": "markdown",
   "metadata": {},
   "source": [
    "### 4.10.4 Optimal ARIMA Model-Asia active<a id='4.10.4_Optimal_ARIMA_Model-Asia_active'></a>"
   ]
  },
  {
   "cell_type": "code",
   "execution_count": 43,
   "metadata": {
    "scrolled": true
   },
   "outputs": [
    {
     "name": "stdout",
     "output_type": "stream",
     "text": [
      "ARIMA(0, 0, 0) MSE=1769.612\n",
      "ARIMA(0, 0, 1) MSE=1042.332\n",
      "ARIMA(0, 1, 0) MSE=1075.082\n",
      "ARIMA(0, 1, 1) MSE=1166.332\n",
      "ARIMA(0, 1, 2) MSE=1308.191\n",
      "ARIMA(0, 2, 0) MSE=1575.855\n",
      "ARIMA(0, 2, 1) MSE=1456.492\n",
      "ARIMA(0, 2, 2) MSE=1524.994\n",
      "ARIMA(1, 0, 0) MSE=1047.002\n",
      "ARIMA(1, 0, 1) MSE=1140.055\n",
      "ARIMA(1, 0, 2) MSE=1270.690\n",
      "ARIMA(1, 1, 0) MSE=1252.728\n",
      "ARIMA(1, 2, 0) MSE=1895.261\n",
      "ARIMA(1, 2, 1) MSE=1564.971\n",
      "ARIMA(2, 0, 0) MSE=1202.713\n",
      "ARIMA(2, 1, 0) MSE=1292.742\n",
      "ARIMA(2, 2, 0) MSE=2061.407\n",
      "Best ARIMA(0, 0, 1) MSE=1042.332\n"
     ]
    }
   ],
   "source": [
    "# Find the optimum ARIMA model for our Asia active sample.\n",
    "evaluate_models(asia.active, p_values, d_values, q_values)"
   ]
  },
  {
   "cell_type": "code",
   "execution_count": 44,
   "metadata": {},
   "outputs": [],
   "source": [
    "pickle_best_model(asia.active, (0, 0, 1), '../models/asia_act_model.sav')"
   ]
  },
  {
   "cell_type": "markdown",
   "metadata": {},
   "source": [
    "### 4.10.5 Optimal ARIMA Model-Europe recovered<a id='4.10.5_Optimal_ARIMA_Model-Europe_recovered'></a>"
   ]
  },
  {
   "cell_type": "code",
   "execution_count": 45,
   "metadata": {
    "scrolled": true
   },
   "outputs": [
    {
     "name": "stdout",
     "output_type": "stream",
     "text": [
      "ARIMA(0, 0, 0) MSE=168743.599\n",
      "ARIMA(0, 0, 1) MSE=108526.658\n",
      "ARIMA(0, 0, 2) MSE=135088.989\n",
      "ARIMA(0, 1, 0) MSE=54166.718\n",
      "ARIMA(0, 1, 1) MSE=54267.941\n",
      "ARIMA(0, 1, 2) MSE=61966.799\n",
      "ARIMA(0, 2, 0) MSE=94192.171\n",
      "ARIMA(0, 2, 1) MSE=55681.901\n",
      "ARIMA(1, 0, 0) MSE=53717.626\n",
      "ARIMA(1, 0, 1) MSE=53708.341\n",
      "ARIMA(1, 0, 2) MSE=61186.010\n",
      "ARIMA(1, 1, 0) MSE=54450.104\n",
      "ARIMA(1, 1, 2) MSE=58458.245\n",
      "ARIMA(1, 2, 0) MSE=88240.012\n",
      "ARIMA(1, 2, 1) MSE=66123.184\n",
      "ARIMA(1, 2, 2) MSE=67924.505\n",
      "ARIMA(2, 0, 0) MSE=53699.828\n",
      "ARIMA(2, 1, 0) MSE=61811.585\n",
      "ARIMA(2, 2, 0) MSE=94045.331\n",
      "ARIMA(2, 2, 1) MSE=71473.446\n",
      "Best ARIMA(2, 0, 0) MSE=53699.828\n"
     ]
    }
   ],
   "source": [
    "# Find the optimum ARIMA model for our Europe recovered sample.\n",
    "evaluate_models(er, p_values, d_values, q_values)"
   ]
  },
  {
   "cell_type": "code",
   "execution_count": 46,
   "metadata": {},
   "outputs": [],
   "source": [
    "pickle_best_model(er, (2, 0, 0), '../models/eu_rec_model.sav')"
   ]
  },
  {
   "cell_type": "markdown",
   "metadata": {},
   "source": [
    "### 4.10.6 Optimal ARIMA Model-Europe active<a id='4.10.6_Optimal_ARIMA_Model-Europe active'></a>"
   ]
  },
  {
   "cell_type": "code",
   "execution_count": 47,
   "metadata": {
    "scrolled": false
   },
   "outputs": [
    {
     "name": "stdout",
     "output_type": "stream",
     "text": [
      "ARIMA(0, 0, 0) MSE=33459.195\n",
      "ARIMA(0, 0, 1) MSE=23851.168\n",
      "ARIMA(0, 0, 2) MSE=24357.104\n",
      "ARIMA(0, 1, 0) MSE=13982.572\n",
      "ARIMA(0, 1, 1) MSE=16554.345\n",
      "ARIMA(0, 1, 2) MSE=20064.723\n",
      "ARIMA(0, 2, 0) MSE=25647.683\n",
      "ARIMA(0, 2, 1) MSE=14062.505\n",
      "ARIMA(0, 2, 2) MSE=18909.381\n",
      "ARIMA(1, 0, 0) MSE=13823.487\n",
      "ARIMA(1, 0, 1) MSE=15617.862\n",
      "ARIMA(1, 0, 2) MSE=18935.575\n",
      "ARIMA(1, 1, 0) MSE=16647.012\n",
      "ARIMA(1, 1, 1) MSE=18084.567\n",
      "ARIMA(1, 2, 0) MSE=23181.754\n",
      "ARIMA(2, 0, 0) MSE=16054.381\n",
      "ARIMA(2, 0, 1) MSE=16819.986\n",
      "ARIMA(2, 1, 0) MSE=18685.993\n",
      "ARIMA(2, 1, 1) MSE=17856.056\n",
      "ARIMA(2, 2, 0) MSE=21477.572\n",
      "ARIMA(2, 2, 1) MSE=19859.285\n",
      "Best ARIMA(1, 0, 0) MSE=13823.487\n"
     ]
    }
   ],
   "source": [
    "# Find the optimum ARIMA model for our Europe active sample.\n",
    "evaluate_models(ea, p_values, d_values, q_values)"
   ]
  },
  {
   "cell_type": "code",
   "execution_count": 48,
   "metadata": {},
   "outputs": [],
   "source": [
    "pickle_best_model(ea, (1, 0, 0), '../models/eu_act_model.sav')"
   ]
  },
  {
   "cell_type": "markdown",
   "metadata": {},
   "source": [
    "### 4.10.7 Optimal ARIMA Model-North America recovered<a id='4.10.7_Optimal_ARIMA_Model-North_America_recovered'></a>"
   ]
  },
  {
   "cell_type": "code",
   "execution_count": 49,
   "metadata": {
    "scrolled": true
   },
   "outputs": [
    {
     "name": "stdout",
     "output_type": "stream",
     "text": [
      "ARIMA(0, 0, 0) MSE=825.073\n",
      "ARIMA(0, 0, 1) MSE=668.836\n",
      "ARIMA(0, 1, 0) MSE=610.567\n",
      "ARIMA(0, 1, 1) MSE=643.703\n",
      "ARIMA(0, 1, 2) MSE=647.722\n",
      "ARIMA(0, 2, 0) MSE=946.231\n",
      "ARIMA(0, 2, 1) MSE=703.283\n",
      "ARIMA(0, 2, 2) MSE=746.359\n",
      "ARIMA(1, 0, 0) MSE=599.455\n",
      "ARIMA(1, 0, 1) MSE=636.271\n",
      "ARIMA(1, 0, 2) MSE=643.574\n",
      "ARIMA(1, 1, 0) MSE=647.008\n",
      "ARIMA(1, 1, 1) MSE=622.559\n",
      "ARIMA(1, 1, 2) MSE=643.870\n",
      "ARIMA(1, 2, 0) MSE=1065.538\n",
      "ARIMA(1, 2, 1) MSE=982.133\n",
      "ARIMA(2, 0, 0) MSE=639.207\n",
      "ARIMA(2, 0, 1) MSE=617.836\n",
      "ARIMA(2, 1, 0) MSE=649.889\n",
      "ARIMA(2, 1, 2) MSE=647.643\n",
      "ARIMA(2, 2, 0) MSE=1064.358\n",
      "ARIMA(2, 2, 1) MSE=757.507\n",
      "Best ARIMA(1, 0, 0) MSE=599.455\n"
     ]
    }
   ],
   "source": [
    "# Find the optimum ARIMA model for our North America recovered sample.\n",
    "evaluate_models(nr, p_values, d_values, q_values)"
   ]
  },
  {
   "cell_type": "code",
   "execution_count": 50,
   "metadata": {},
   "outputs": [],
   "source": [
    "pickle_best_model(nr, (1, 0, 0), '../models/noam_rec_model.sav')"
   ]
  },
  {
   "cell_type": "markdown",
   "metadata": {},
   "source": [
    "### 4.10.8 Optimal ARIMA Model-North America active<a id='4.10.8_Optimal_ARIMA_Model-North_America_active'></a>"
   ]
  },
  {
   "cell_type": "code",
   "execution_count": 51,
   "metadata": {
    "scrolled": true
   },
   "outputs": [
    {
     "name": "stdout",
     "output_type": "stream",
     "text": [
      "ARIMA(0, 0, 0) MSE=3361.916\n",
      "ARIMA(0, 0, 1) MSE=2263.162\n",
      "ARIMA(0, 0, 2) MSE=2963.684\n",
      "ARIMA(0, 1, 0) MSE=1397.040\n",
      "ARIMA(0, 1, 1) MSE=1396.953\n",
      "ARIMA(0, 1, 2) MSE=1397.213\n",
      "ARIMA(0, 2, 0) MSE=2377.636\n",
      "ARIMA(0, 2, 1) MSE=1472.256\n",
      "ARIMA(0, 2, 2) MSE=1493.521\n",
      "ARIMA(1, 0, 0) MSE=1378.810\n",
      "ARIMA(1, 0, 1) MSE=1380.292\n",
      "ARIMA(1, 0, 2) MSE=1381.729\n",
      "ARIMA(1, 1, 0) MSE=1396.783\n",
      "ARIMA(1, 1, 1) MSE=1396.939\n",
      "ARIMA(1, 1, 2) MSE=1468.757\n",
      "ARIMA(1, 2, 0) MSE=2476.083\n",
      "ARIMA(2, 0, 0) MSE=1380.427\n",
      "ARIMA(2, 1, 0) MSE=1397.684\n",
      "ARIMA(2, 2, 0) MSE=2336.859\n",
      "ARIMA(2, 2, 1) MSE=1519.622\n",
      "Best ARIMA(1, 0, 0) MSE=1378.810\n"
     ]
    }
   ],
   "source": [
    "# Find the optimum ARIMA model for our North America active sample.\n",
    "evaluate_models(na, p_values, d_values, q_values)"
   ]
  },
  {
   "cell_type": "code",
   "execution_count": 52,
   "metadata": {},
   "outputs": [],
   "source": [
    "pickle_best_model(na, (1, 0, 0), '../models/noam_act_model.sav')"
   ]
  },
  {
   "cell_type": "markdown",
   "metadata": {},
   "source": [
    "### 4.10.9 Optimal ARIMA Model-South America recovered<a id='4.10.7_Optimal_ARIMA_Model-South_America_recovered'></a>"
   ]
  },
  {
   "cell_type": "code",
   "execution_count": 53,
   "metadata": {
    "scrolled": true
   },
   "outputs": [
    {
     "name": "stdout",
     "output_type": "stream",
     "text": [
      "ARIMA(0, 0, 0) MSE=577.400\n",
      "ARIMA(0, 0, 1) MSE=438.310\n",
      "ARIMA(0, 0, 2) MSE=622.115\n",
      "ARIMA(0, 1, 0) MSE=580.297\n",
      "ARIMA(0, 1, 1) MSE=580.843\n",
      "ARIMA(0, 1, 2) MSE=589.595\n",
      "ARIMA(0, 2, 0) MSE=850.592\n",
      "ARIMA(0, 2, 1) MSE=612.160\n",
      "ARIMA(0, 2, 2) MSE=611.851\n",
      "ARIMA(1, 0, 0) MSE=571.080\n",
      "ARIMA(1, 0, 1) MSE=568.733\n",
      "ARIMA(1, 0, 2) MSE=578.914\n",
      "ARIMA(1, 1, 0) MSE=582.585\n",
      "ARIMA(1, 1, 1) MSE=582.734\n",
      "ARIMA(1, 2, 0) MSE=858.082\n",
      "ARIMA(1, 2, 1) MSE=627.864\n",
      "ARIMA(1, 2, 2) MSE=624.018\n",
      "ARIMA(2, 0, 0) MSE=569.701\n",
      "ARIMA(2, 1, 0) MSE=589.425\n",
      "ARIMA(2, 2, 0) MSE=861.295\n",
      "ARIMA(2, 2, 1) MSE=637.557\n",
      "Best ARIMA(0, 0, 1) MSE=438.310\n"
     ]
    }
   ],
   "source": [
    "# Find the optimum ARIMA model for our South America recovered sample.\n",
    "evaluate_models(sr, p_values, d_values, q_values)"
   ]
  },
  {
   "cell_type": "code",
   "execution_count": 54,
   "metadata": {},
   "outputs": [],
   "source": [
    "pickle_best_model(sr, (0, 0, 1), '../models/soam_rec_model.sav')"
   ]
  },
  {
   "cell_type": "markdown",
   "metadata": {},
   "source": [
    "### 4.10.10 Optimal ARIMA Model-South America active<a id='4.10.7_Optimal_ARIMA_Model-South_America_active'></a>"
   ]
  },
  {
   "cell_type": "code",
   "execution_count": 55,
   "metadata": {
    "scrolled": true
   },
   "outputs": [
    {
     "name": "stdout",
     "output_type": "stream",
     "text": [
      "ARIMA(0, 0, 0) MSE=10744.141\n",
      "ARIMA(0, 0, 1) MSE=5456.630\n",
      "ARIMA(0, 0, 2) MSE=5165.090\n",
      "ARIMA(0, 1, 0) MSE=2618.810\n",
      "ARIMA(0, 1, 1) MSE=2658.932\n",
      "ARIMA(0, 1, 2) MSE=2797.446\n",
      "ARIMA(0, 2, 0) MSE=4540.380\n",
      "ARIMA(0, 2, 1) MSE=2651.661\n",
      "ARIMA(0, 2, 2) MSE=2715.025\n",
      "ARIMA(1, 0, 0) MSE=2588.142\n",
      "ARIMA(1, 0, 1) MSE=2617.186\n",
      "ARIMA(1, 0, 2) MSE=2754.236\n",
      "ARIMA(1, 1, 0) MSE=2701.402\n",
      "ARIMA(1, 1, 1) MSE=2701.061\n",
      "ARIMA(1, 2, 0) MSE=4166.902\n",
      "ARIMA(1, 2, 1) MSE=2852.845\n",
      "ARIMA(1, 2, 2) MSE=2842.462\n",
      "ARIMA(2, 0, 0) MSE=2655.455\n",
      "ARIMA(2, 0, 1) MSE=2666.989\n",
      "ARIMA(2, 1, 0) MSE=2845.800\n",
      "ARIMA(2, 1, 1) MSE=2955.311\n",
      "ARIMA(2, 1, 2) MSE=2827.328\n",
      "ARIMA(2, 2, 0) MSE=4238.435\n",
      "Best ARIMA(1, 0, 0) MSE=2588.142\n"
     ]
    }
   ],
   "source": [
    "# Find the optimum ARIMA model for our South America active sample.\n",
    "evaluate_models(sa, p_values, d_values, q_values)"
   ]
  },
  {
   "cell_type": "code",
   "execution_count": 56,
   "metadata": {},
   "outputs": [],
   "source": [
    "pickle_best_model(sa, (1, 0, 0), '../models/soam_act_model.sav')"
   ]
  }
 ],
 "metadata": {
  "kernelspec": {
   "display_name": "Python 3",
   "language": "python",
   "name": "python3"
  },
  "language_info": {
   "codemirror_mode": {
    "name": "ipython",
    "version": 3
   },
   "file_extension": ".py",
   "mimetype": "text/x-python",
   "name": "python",
   "nbconvert_exporter": "python",
   "pygments_lexer": "ipython3",
   "version": "3.8.5"
  }
 },
 "nbformat": 4,
 "nbformat_minor": 4
}
