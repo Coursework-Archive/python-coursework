{
 "cells": [
  {
   "cell_type": "markdown",
   "metadata": {},
   "source": [
    "<h1>Problem statement (Hypothesis Formation)<h1>\n",
    "\n",
    "<h2>Problem statement (Hypothesis Formation)<h2>\n",
    "\n",
    "<h3>Problem statement (Hypothesis Formation)<h3>\n",
    "    \n",
    "<h4>Problem statement (Hypothesis Formation)<h4>\n",
    " \n",
    "<h5>Problem statement (Hypothesis Formation)<h5>\n",
    "    \n",
    "<h6>Problem statement (Hypothesis Formation)<h6>\n",
    "\n",
    "_______________________________________________________________________________________________________________________________\n",
    "\n",
    "|<table style=\"width:20%\">|\n",
    "<tr>\n",
    "<th>Name</th>\n",
    "<th>Address</th>\n",
    "<th>Salary</th>\n",
    "</tr>\n",
    "\n",
    "<ol>\n",
    "<li>Fish</li>\n",
    "<li>Eggs</li>\n",
    "<li>Cheese</li>\n",
    "</ol>\n",
    "\n",
    "<ul>\n",
    "<li>Fish</li>\n",
    "<li>Eggs</li>\n",
    "<li>Cheese</li>\n",
    "</ul>\n",
    "\n",
    "<tr>\n",
    "<td>Hanna</td>\n",
    "<td>Brisbane</td>\n",
    "<td>4000</td>\n",
    "</tr>\n",
    "\n",
    "<tr>\n",
    "<td>Adam</td>\n",
    "<td>Sydney</td>\n",
    "<td>5000</td>\n",
    "</tr>\n",
    "</table>\n",
    "    -D\n",
    "    \n",
    "<p>I will display &#9669;</p>\n",
    "    \n",
    "p {\n",
    "  color: red;\n",
    "  text-align: center;\n",
    "}"
   ]
  },
  {
   "cell_type": "markdown",
   "metadata": {},
   "source": [
    "### 1. Context  \n",
    "\n",
    "##### Monalco Mining is one of the worlds largets iron companies in the world located in Western Australia. To accomodate high demand ore-crushers were purchased. Prior to purchasing the crushers the price per ton was 110 dollars, after the increase in market supply the price per ton decreased to 55 dollars leading Monalco to break even. Reducing the market price to 50 dollars per ton to keep market advantage is cutting it too close for comfort. With lower revenue and increased fixed cost in production the Marketing team at Monalco has decided to streamline costs including maintenance expenditure to limit the impact on business profitability. "
   ]
  },
  {
   "cell_type": "markdown",
   "metadata": {},
   "source": [
    "> 2. Criteria for success \n",
    "\n",
    "<blockquote>Perform maintenance every three (3) years not every year like we are currently doing</blockquote> \n",
    "\n",
    "## Back of the envelope calculations indicate if we were to shave of 20% worth of costs over the year (w.r.t) ore crusher maintenance, this will be enough of a buffer to weather future downward shifts in pricing "
   ]
  },
  {
   "cell_type": "markdown",
   "metadata": {},
   "source": [
    "# 3. Scope of solution space \n",
    "\n",
    "<b> Operations in Western Australia will reduce the maintenance performed on each ore-crusher</b> \n",
    "\n",
    "** Reduce the amount of ore that is processed by each ore-crusher for 6 months and re-evaluate the equipment condition. "
   ]
  },
  {
   "cell_type": "markdown",
   "metadata": {},
   "source": [
    "# 4. Constraints within solution space\n",
    "\n",
    "__ The operating breakeven point for business is the point at which sales revenue covers all of the fixed costs and variable costs but procduces no profit for the business. A price of 50 dollars per ton is too low to meet the fixed/variable cost and will produce no profit for the company. \n",
    "\n",
    "<hr>We cannot cut more than one maintenance event at every 50,000 tons of iron processed \n",
    "\n",
    "## Excess wear is responsible for the 80% of our work requests. The equipment has been used far more than the recommended  OEM limit "
   ]
  },
  {
   "cell_type": "markdown",
   "metadata": {},
   "source": [
    "# 5. Stakeholders to provide key insights \n",
    "\n",
    "|Chris Hui |(Team Lead) | \n",
    "-----------------------------------\n",
    "|Bruce Banner |(maintenance SME)| \n",
    "|record review, including Original Equipment Manuafacturer guide|\n",
    "----------------------------------------------------------------------------------------------\n",
    "|Tara Starr |(Maintenance SME)|\n",
    "|record review, WO of previous years maintenance |\n",
    "--------------------------------------------------------------------------\n",
    "|Chanel Adams |(Reliability Engineer)|\n",
    "-------------------------------------------------------\n",
    "\n",
    "|Jonas Richards |(Asset Integrity Manager)|\n",
    "--------------------------------------------------------------\n",
    "\n",
    "|Jane Steere |(Principal Maintenance)|\n",
    "------------------------------------------------------\n",
    "\n",
    "|Fargo Williams |(Change Manager)|\n",
    "---------------------------------------------------"
   ]
  },
  {
   "cell_type": "markdown",
   "metadata": {},
   "source": [
    "# 6. What key data sources are required? \n",
    "\n",
    "## Maintenace records with highlighted discrepencies \n",
    "## Overall Capital Expenditure CAPEX (ore-crushers initial cost and maintenance)\n",
    "\n",
    "## CAPEX\n",
    "## Year of 2018 30M dollars \n",
    "## Forcasted year of 2019 45M dollars \n",
    "#Include value driver trees below in picture \n",
    "\n",
    "## Maintenance logs \n",
    "\n",
    "## Data Map \n",
    "\n",
    "<img src=\"Desktop/Snap 2021-01-04 at 13.57.38.png\" />"
   ]
  },
  {
   "cell_type": "code",
   "execution_count": null,
   "metadata": {},
   "outputs": [],
   "source": []
  }
 ],
 "metadata": {
  "kernelspec": {
   "display_name": "Python 3",
   "language": "python",
   "name": "python3"
  },
  "language_info": {
   "codemirror_mode": {
    "name": "ipython",
    "version": 3
   },
   "file_extension": ".py",
   "mimetype": "text/x-python",
   "name": "python",
   "nbconvert_exporter": "python",
   "pygments_lexer": "ipython3",
   "version": "3.8.5"
  }
 },
 "nbformat": 4,
 "nbformat_minor": 4
}
