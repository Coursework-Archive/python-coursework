{
 "cells": [
  {
   "cell_type": "code",
   "execution_count": 1,
   "id": "5df1d9e1-8267-4b69-8192-01be49e50178",
   "metadata": {},
   "outputs": [
    {
     "ename": "ModuleNotFoundError",
     "evalue": "No module named 'faker'",
     "output_type": "error",
     "traceback": [
      "\u001b[1;31m---------------------------------------------------------------------------\u001b[0m",
      "\u001b[1;31mModuleNotFoundError\u001b[0m                       Traceback (most recent call last)",
      "Cell \u001b[1;32mIn [1], line 4\u001b[0m\n\u001b[0;32m      2\u001b[0m \u001b[38;5;28;01mimport\u001b[39;00m \u001b[38;5;21;01mpandas\u001b[39;00m \u001b[38;5;28;01mas\u001b[39;00m \u001b[38;5;21;01mpd\u001b[39;00m\n\u001b[0;32m      3\u001b[0m \u001b[38;5;28;01mimport\u001b[39;00m \u001b[38;5;21;01mnumpy\u001b[39;00m \u001b[38;5;28;01mas\u001b[39;00m \u001b[38;5;21;01mnp\u001b[39;00m\n\u001b[1;32m----> 4\u001b[0m \u001b[38;5;28;01mfrom\u001b[39;00m \u001b[38;5;21;01mfaker\u001b[39;00m \u001b[38;5;28;01mimport\u001b[39;00m Faker\n\u001b[0;32m      5\u001b[0m \u001b[38;5;28;01mimport\u001b[39;00m \u001b[38;5;21;01mrandom\u001b[39;00m\n",
      "\u001b[1;31mModuleNotFoundError\u001b[0m: No module named 'faker'"
     ]
    }
   ],
   "source": [
    "# pip install faker\n",
    "import pandas as pd\n",
    "import numpy as np\n",
    "from faker import Faker\n",
    "import random"
   ]
  },
  {
   "cell_type": "code",
   "execution_count": null,
   "id": "599dab99-d095-4238-952a-7e88713b15e2",
   "metadata": {},
   "outputs": [],
   "source": [
    "# Initialize Faker\n",
    "fake = Faker()"
   ]
  },
  {
   "cell_type": "code",
   "execution_count": null,
   "id": "7be0ff6a-150f-4e87-9564-bc407a76d116",
   "metadata": {},
   "outputs": [],
   "source": [
    "# Generate data\n",
    "num_records = 1000\n",
    "data = {\n",
    "    'Product ID': [fake.uuid4() for _ in range(num_records)],\n",
    "    'Category': [random.choice(['Electronics', 'Clothing', 'Home', 'Books', 'Toys']) \\\n",
    "                 for _ in range(num_records)],\n",
    "    'Price': [round(random.uniform(5, 500), 2) for _ in range(num_records)],\n",
    "    'Date of Purchase': [fake.date_this_decade() for _ in range(num_records)],\n",
    "    'Customer ID': [fake.uuid4() for _ in range(num_records)],\n",
    "    'Location': [fake.city() for _ in range(num_records)],\n",
    "    'Payment Method': [random.choice(['Credit Card', 'PayPal', 'Bank Transfer', 'Cash']) \\\n",
    "                  for _ in range(num_records)]\n",
    "}"
   ]
  },
  {
   "cell_type": "code",
   "execution_count": null,
   "id": "b99b9a39-a098-4de8-8d33-d733a37e978c",
   "metadata": {},
   "outputs": [],
   "source": [
    "# Create DataFrame\n",
    "df = pd.DataFrame(data)"
   ]
  },
  {
   "cell_type": "code",
   "execution_count": null,
   "id": "9f245884-bf42-4565-afcc-6939da7ec192",
   "metadata": {},
   "outputs": [],
   "source": [
    "df.shape"
   ]
  },
  {
   "cell_type": "code",
   "execution_count": null,
   "id": "fed15f3e-f084-4ae1-81a4-7a4fb7e2771b",
   "metadata": {},
   "outputs": [],
   "source": [
    "df.to_csv(\"/home/ubuntu/projects/portfolio/sales.csv\")"
   ]
  },
  {
   "cell_type": "code",
   "execution_count": null,
   "id": "98586281-5354-4079-a1ae-686d836bce17",
   "metadata": {},
   "outputs": [],
   "source": [
    "import matplotlib.pyplot as plt"
   ]
  },
  {
   "cell_type": "code",
   "execution_count": null,
   "id": "0e3d1440-083a-4253-a327-97f5397bed40",
   "metadata": {},
   "outputs": [],
   "source": [
    "# Ensure 'Date of Purchase' is in datetime format\n",
    "df1 = df.copy()\n",
    "df1['Date of Purchase'] = pd.to_datetime(df1['Date of Purchase'])\n",
    "\n",
    "# Set 'Date of Purchase' as the index\n",
    "df1.set_index('Date of Purchase', inplace=True)"
   ]
  },
  {
   "cell_type": "code",
   "execution_count": null,
   "id": "5435384d-2443-4b69-9624-b52f2d881f59",
   "metadata": {},
   "outputs": [],
   "source": [
    "# Group by month and count the number of sales\n",
    "sales_frequency = df1.resample('ME').size()\n",
    "\n",
    "# Plot the data\n",
    "plt.figure(figsize=(10, 6))\n",
    "sales_frequency.plot(kind='bar', color='skyblue')\n",
    "plt.title('Frequency of Sales Over Time')\n",
    "plt.xlabel('Month')\n",
    "plt.ylabel('Number of Sales')\n",
    "plt.xticks(rotation=45)\n",
    "plt.grid(True)\n",
    "plt.tight_layout()\n",
    "\n",
    "# Show the plot\n",
    "plt.show()"
   ]
  },
  {
   "cell_type": "code",
   "execution_count": null,
   "id": "2821bd9b-d82a-4f2e-80fd-9254d8254216",
   "metadata": {},
   "outputs": [],
   "source": [
    "# Ensure 'Date of Purchase' is in datetime format\n",
    "df2 = df.copy()\n",
    "df2['Date of Purchase'] = pd.to_datetime(df2['Date of Purchase'])\n",
    "\n",
    "# Set 'Date of Purchase' as the index\n",
    "df2.set_index('Date of Purchase', inplace=True)"
   ]
  },
  {
   "cell_type": "code",
   "execution_count": null,
   "id": "f7ac2cfd-e69e-45e1-8ad9-f2d8561e1f66",
   "metadata": {},
   "outputs": [],
   "source": [
    "annual_revenues = df2.resample('YE').sum()"
   ]
  },
  {
   "cell_type": "code",
   "execution_count": null,
   "id": "855c8055-5844-4189-971b-0f4abeed1505",
   "metadata": {},
   "outputs": [],
   "source": [
    "# Plot the data\n",
    "plt.figure(figsize=(10, 6))\n",
    "annual_revenues['Price'].plot(kind='bar', color='skyblue')\n",
    "plt.title('Annual Gross Total Sales Revenues')\n",
    "plt.xlabel('Year')\n",
    "plt.ylabel('Total Sales Revenues')\n",
    "plt.xticks(rotation=45)\n",
    "plt.grid(True)\n",
    "plt.tight_layout()\n",
    "\n",
    "# Show the plot\n",
    "plt.show()"
   ]
  }
 ],
 "metadata": {
  "kernelspec": {
   "display_name": "Python 3 (ipykernel)",
   "language": "python",
   "name": "python3"
  },
  "language_info": {
   "codemirror_mode": {
    "name": "ipython",
    "version": 3
   },
   "file_extension": ".py",
   "mimetype": "text/x-python",
   "name": "python",
   "nbconvert_exporter": "python",
   "pygments_lexer": "ipython3",
   "version": "3.10.7"
  }
 },
 "nbformat": 4,
 "nbformat_minor": 5
}
