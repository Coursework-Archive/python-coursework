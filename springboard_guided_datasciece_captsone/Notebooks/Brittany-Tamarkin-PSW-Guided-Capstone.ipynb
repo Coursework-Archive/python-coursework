{
 "cells": [
  {
   "cell_type": "markdown",
   "metadata": {},
   "source": [
    "## Problem statement (Hypothesis Formation)\n",
    "##### What opportunities exist for Big Mountain Resort to increase revenue by 2M and cut cost by 1M by the end of Q1? \n",
    "_______________________________________________________________________________________________________________________________\n",
    "<h2><span style=\"color:powderblue\">1 Context</span></h2>\n",
    "\n",
    "Big Mountain Resort is a beautiful Montana based restort, skiers and riders of all levels and abilities visit. Every year about 350,000 people ski or snowboard at the resort. In order to increase the distribution of visitors in the resort the business bought a chair lift, an addition to the 11 lifts, 2 T-bars and magic carpet. The additional chair increased their operating cost by <span>&#36;</span>1.54 M for the season. The resorts pricing stragy has been to charge a premium above the average price of resorts in its own marketing segment. The business wants some guidance on how to select a better value for their ticket price.\n",
    "_______________________________________________________________________________________________________________________________\n",
    "<h2><span style=\"color:powderblue\">2 Criteria for Success</span></h2>\n",
    "\n",
    "In the beginning of the second quarter sales will review the Q1 revenue as a result of explicit feature advertisement deployment from Marketing. If revenue has increased by 2M, then, we have met the goal. If not, other options will be vetted. Also, the cost of goods and services including food court budgetary reduction will be considered. \n",
    "_______________________________________________________________________________________________________________________________\n",
    "<h2><span style=\"color:powderblue\">3 Scope of Solution Space</span></h2>\n",
    "\n",
    "The data scientist in the Marketing group will perform a price/feature comparison for 330 different resorts, including Big Mountain Resort. The CSV file containing the data will surely be key to gaining insight for a potential increase in revenue; there could be an option to sell the \"value\" of Big Mountain Resort using listed features. Operations will review the cost of services to find any potential money saving opportunities.\n",
    "_______________________________________________________________________________________________________________________________\n",
    "<h2><span style=\"color:powderblue\">4 Constrainsts within Solution Space</span></h2>\n",
    "\n",
    "The new price point cannot be outside of the market segment and needs to reflect a competative price based on Big Mountain Resort features. \n",
    "\n",
    "Sales needs to increase by 30% by the end of quarter 1. \n",
    "_______________________________________________________________________________________________________________________________\n",
    "<h2><span style=\"color:powderblue\">5 Stakeholders to Provide Key Insight</span></h2>\n",
    "\n",
    "\n",
    "<table style=\"font-family:Comic Sans MS, cursive\" border=\"1px solid black\">\n",
    "<tr>\n",
    "<th style=\"text-align:center\">Stakeholder</th>\n",
    "<th style=\"text-align:center\">Department</th>\n",
    "<th style=\"text-align:center\">Action Items</th>\n",
    "</tr>\n",
    "\n",
    "<tr>\n",
    "<td style=\"text-align:center\">Jimmy Blackburn (Director of Operations)</td>\n",
    "<td style=\"text-align:center\">Operations</td>\n",
    "<td style=\"text-align:center\">Assembling Corrective Action Teams</td>\n",
    "</tr>\n",
    "\n",
    "<tr>\n",
    "<td style=\"text-align:center\">Alesha Eisen (Database Manager)</td>\n",
    "<td style=\"text-align:center\">Operations</td>\n",
    "<td style=\"text-align:center\">To grant access to resort data (330 resorts) from a CSV file</td>\n",
    "</tr>\n",
    "</table>\n",
    "\n",
    "_______________________________________________________________________________________________________________________________\n",
    "<h2><span style=\"color:powderblue\">6 What key data sources are required</span></h2>\n",
    "\n",
    "    - A single CSV file obtained from the database manager\n"
   ]
  },
  {
   "cell_type": "code",
   "execution_count": null,
   "metadata": {},
   "outputs": [],
   "source": []
  }
 ],
 "metadata": {
  "kernelspec": {
   "display_name": "Python 3",
   "language": "python",
   "name": "python3"
  },
  "language_info": {
   "codemirror_mode": {
    "name": "ipython",
    "version": 3
   },
   "file_extension": ".py",
   "mimetype": "text/x-python",
   "name": "python",
   "nbconvert_exporter": "python",
   "pygments_lexer": "ipython3",
   "version": "3.8.5"
  }
 },
 "nbformat": 4,
 "nbformat_minor": 4
}
