{
 "cells": [
  {
   "cell_type": "markdown",
   "metadata": {},
   "source": [
    "A big part of time series analysis involves filtering - i.e. changing attributes of a time series or deconstructing it into its component parts. Often we need to do quite a bit of time series before we build a model to simulate the underlying process.\n",
    "\n",
    "\n",
    "To run the ADF test we need to chose a lag length so that the residuals aren't serially correlated (aka Autocorrelation), this is to minimize error terms in a time series as to avoid transferring them from one period to another. For choosing the lags the AIC (Akaike's information criterion) will be minimized. "
   ]
  },
  {
   "cell_type": "markdown",
   "metadata": {},
   "source": [
    "The behavior of time series models, the constant c has an important effect on the long-long term forecasts obtained from these models. \n",
    "\n",
    "    - If c = 0 and d = , the long-term forecase"
   ]
  },
  {
   "cell_type": "markdown",
   "metadata": {},
   "source": [
    "After graphing the difference for a stationary model determining ARMA, AR or MA \n",
    "\n",
    "The special cases of ARIMA models \n",
    "\n",
    "    White noise             ARIMA(0,0,0)\n",
    "    Random walk             ARIMA(0,1,0) with no constant \n",
    "    Random walk with drift  ARIMA(0,1,0) with a constant\n",
    "    Autoregression          ARIMA(p,0,0)\n",
    "    Moving average          ARIMA(0,0,q)\n",
    "\n",
    "ACF and PACF cannot be used to choose the order of a model when both the orders q and p are non-zero. Instead there are other models the AIC and BIC.\n",
    "\n",
    "    a. The model with the lower AIC Score makes better predictions \n",
    "    \n",
    "\n",
    "If you receive a value error this is a bad model for the data. "
   ]
  },
  {
   "cell_type": "code",
   "execution_count": 3,
   "metadata": {},
   "outputs": [],
   "source": [
    "#imports\n",
    "import pandas as pd \n",
    "import numpy as np\n",
    "from statsmodels.tsa.arima_model import ARIMA\n",
    "import statsmodels.api as sm\n",
    "import pickle\n",
    "import datetime\n",
    "import seaborn as sns\n",
    "from matplotlib.dates import DateFormatter\n",
    "import matplotlib.dates as mdates\n",
    "import matplotlib.pyplot as plt"
   ]
  },
  {
   "cell_type": "code",
   "execution_count": 4,
   "metadata": {},
   "outputs": [],
   "source": [
    "# load the files\n",
    "pbc_afa = pd.read_csv('../data/pre_bc_afa.csv', index_col=0)\n",
    "pbc_afr = pd.read_csv('../data/pre_bc_afr.csv', index_col=0)\n",
    "pbc_asr = pd.read_csv('../data/pre_bc_asr.csv', index_col=0)\n",
    "pbc_asa = pd.read_csv('../data/pre_bc_asa.csv', index_col=0)\n",
    "pbc_ea = pd.read_csv('../data/pre_bc_ea.csv', index_col=0)\n",
    "pbc_er = pd.read_csv('../data/pre_bc_er.csv', index_col=0)\n",
    "pbc_nr = pd.read_csv('../data/pre_bc_nr.csv', index_col=0)\n",
    "pbc_na = pd.read_csv('../data/pre_bc_na.csv', index_col=0)\n",
    "pbc_sr = pd.read_csv('../data/pre_bc_sr.csv', index_col=0)\n",
    "pbc_sa = pd.read_csv('../data/pre_bc_sa.csv', index_col=0)"
   ]
  },
  {
   "cell_type": "code",
   "execution_count": 5,
   "metadata": {
    "scrolled": true
   },
   "outputs": [],
   "source": [
    "# load the models\n",
    "import warnings\n",
    "afa = pickle.load(open('../models/af_act_model.sav', 'rb'))\n",
    "afr = pickle.load(open('../models/af_rec_model.sav', 'rb')) \n",
    "asa = pickle.load(open('../models/asia_act_model.sav', 'rb'))\n",
    "asr = pickle.load(open('../models/asia_rec_model.sav', 'rb')) \n",
    "ea = pickle.load(open('../models/eu_act_model.sav', 'rb')) \n",
    "er = pickle.load(open('../models/eu_rec_model.sav', 'rb')) \n",
    "na = pickle.load(open('../models/noam_act_model.sav', 'rb')) \n",
    "nr = pickle.load(open('../models/noam_rec_model.sav', 'rb'))\n",
    "sa = pickle.load(open('../models/soam_act_model.sav', 'rb')) \n",
    "sr = pickle.load(open('../models/soam_rec_model.sav', 'rb'))"
   ]
  },
  {
   "cell_type": "markdown",
   "metadata": {},
   "source": [
    "Africa Active Summary"
   ]
  },
  {
   "cell_type": "code",
   "execution_count": 6,
   "metadata": {
    "scrolled": false
   },
   "outputs": [
    {
     "data": {
      "text/html": [
       "<table class=\"simpletable\">\n",
       "<caption>ARMA Model Results</caption>\n",
       "<tr>\n",
       "  <th>Dep. Variable:</th>      <td>active</td>      <th>  No. Observations:  </th>    <td>305</td>   \n",
       "</tr>\n",
       "<tr>\n",
       "  <th>Model:</th>            <td>ARMA(0, 0)</td>    <th>  Log Likelihood     </th> <td>-3371.179</td>\n",
       "</tr>\n",
       "<tr>\n",
       "  <th>Method:</th>               <td>css</td>       <th>  S.D. of innovations</th> <td>15277.046</td>\n",
       "</tr>\n",
       "<tr>\n",
       "  <th>Date:</th>          <td>Wed, 25 Aug 2021</td> <th>  AIC                </th> <td>6746.358</td> \n",
       "</tr>\n",
       "<tr>\n",
       "  <th>Time:</th>              <td>14:43:55</td>     <th>  BIC                </th> <td>6753.798</td> \n",
       "</tr>\n",
       "<tr>\n",
       "  <th>Sample:</th>           <td>03-02-2020</td>    <th>  HQIC               </th> <td>6749.334</td> \n",
       "</tr>\n",
       "<tr>\n",
       "  <th></th>                 <td>- 12-31-2020</td>   <th>                     </th>     <td> </td>    \n",
       "</tr>\n",
       "</table>\n",
       "<table class=\"simpletable\">\n",
       "<tr>\n",
       "    <td></td>       <th>coef</th>     <th>std err</th>      <th>z</th>      <th>P>|z|</th>  <th>[0.025</th>    <th>0.975]</th>  \n",
       "</tr>\n",
       "<tr>\n",
       "  <th>const</th> <td> 1.436e+04</td> <td>  874.761</td> <td>   16.417</td> <td> 0.000</td> <td> 1.26e+04</td> <td> 1.61e+04</td>\n",
       "</tr>\n",
       "</table>"
      ],
      "text/plain": [
       "<class 'statsmodels.iolib.summary.Summary'>\n",
       "\"\"\"\n",
       "                              ARMA Model Results                              \n",
       "==============================================================================\n",
       "Dep. Variable:                 active   No. Observations:                  305\n",
       "Model:                     ARMA(0, 0)   Log Likelihood               -3371.179\n",
       "Method:                           css   S.D. of innovations          15277.046\n",
       "Date:                Wed, 25 Aug 2021   AIC                           6746.358\n",
       "Time:                        14:43:55   BIC                           6753.798\n",
       "Sample:                    03-02-2020   HQIC                          6749.334\n",
       "                         - 12-31-2020                                         \n",
       "==============================================================================\n",
       "                 coef    std err          z      P>|z|      [0.025      0.975]\n",
       "------------------------------------------------------------------------------\n",
       "const       1.436e+04    874.761     16.417      0.000    1.26e+04    1.61e+04\n",
       "==============================================================================\n",
       "\"\"\""
      ]
     },
     "execution_count": 6,
     "metadata": {},
     "output_type": "execute_result"
    }
   ],
   "source": [
    "afa.summary()"
   ]
  },
  {
   "cell_type": "markdown",
   "metadata": {},
   "source": [
    "Africa Recover Summary"
   ]
  },
  {
   "cell_type": "code",
   "execution_count": 14,
   "metadata": {
    "scrolled": false
   },
   "outputs": [
    {
     "data": {
      "text/html": [
       "<table class=\"simpletable\">\n",
       "<caption>ARMA Model Results</caption>\n",
       "<tr>\n",
       "  <th>Dep. Variable:</th>     <td>recovered</td>    <th>  No. Observations:  </th>     <td>294</td>   \n",
       "</tr>\n",
       "<tr>\n",
       "  <th>Model:</th>            <td>ARMA(0, 0)</td>    <th>  Log Likelihood     </th>  <td>-3858.533</td>\n",
       "</tr>\n",
       "<tr>\n",
       "  <th>Method:</th>               <td>css</td>       <th>  S.D. of innovations</th> <td>121215.320</td>\n",
       "</tr>\n",
       "<tr>\n",
       "  <th>Date:</th>          <td>Wed, 25 Aug 2021</td> <th>  AIC                </th>  <td>7721.066</td> \n",
       "</tr>\n",
       "<tr>\n",
       "  <th>Time:</th>              <td>15:27:32</td>     <th>  BIC                </th>  <td>7728.433</td> \n",
       "</tr>\n",
       "<tr>\n",
       "  <th>Sample:</th>           <td>03-13-2020</td>    <th>  HQIC               </th>  <td>7724.017</td> \n",
       "</tr>\n",
       "<tr>\n",
       "  <th></th>                 <td>- 12-31-2020</td>   <th>                     </th>      <td> </td>    \n",
       "</tr>\n",
       "</table>\n",
       "<table class=\"simpletable\">\n",
       "<tr>\n",
       "    <td></td>       <th>coef</th>     <th>std err</th>      <th>z</th>      <th>P>|z|</th>  <th>[0.025</th>    <th>0.975]</th>  \n",
       "</tr>\n",
       "<tr>\n",
       "  <th>const</th> <td> 9.118e+04</td> <td> 7069.421</td> <td>   12.897</td> <td> 0.000</td> <td> 7.73e+04</td> <td> 1.05e+05</td>\n",
       "</tr>\n",
       "</table>"
      ],
      "text/plain": [
       "<class 'statsmodels.iolib.summary.Summary'>\n",
       "\"\"\"\n",
       "                              ARMA Model Results                              \n",
       "==============================================================================\n",
       "Dep. Variable:              recovered   No. Observations:                  294\n",
       "Model:                     ARMA(0, 0)   Log Likelihood               -3858.533\n",
       "Method:                           css   S.D. of innovations         121215.320\n",
       "Date:                Wed, 25 Aug 2021   AIC                           7721.066\n",
       "Time:                        15:27:32   BIC                           7728.433\n",
       "Sample:                    03-13-2020   HQIC                          7724.017\n",
       "                         - 12-31-2020                                         \n",
       "==============================================================================\n",
       "                 coef    std err          z      P>|z|      [0.025      0.975]\n",
       "------------------------------------------------------------------------------\n",
       "const       9.118e+04   7069.421     12.897      0.000    7.73e+04    1.05e+05\n",
       "==============================================================================\n",
       "\"\"\""
      ]
     },
     "execution_count": 14,
     "metadata": {},
     "output_type": "execute_result"
    }
   ],
   "source": [
    "afr.summary()"
   ]
  },
  {
   "cell_type": "code",
   "execution_count": null,
   "metadata": {},
   "outputs": [],
   "source": [
    "Asia Active Summary "
   ]
  },
  {
   "cell_type": "code",
   "execution_count": 10,
   "metadata": {
    "scrolled": true
   },
   "outputs": [
    {
     "data": {
      "text/html": [
       "<table class=\"simpletable\">\n",
       "<caption>ARMA Model Results</caption>\n",
       "<tr>\n",
       "  <th>Dep. Variable:</th>      <td>active</td>      <th>  No. Observations:  </th>     <td>345</td>   \n",
       "</tr>\n",
       "<tr>\n",
       "  <th>Model:</th>            <td>ARMA(0, 1)</td>    <th>  Log Likelihood     </th>  <td>-4837.528</td>\n",
       "</tr>\n",
       "<tr>\n",
       "  <th>Method:</th>             <td>css-mle</td>     <th>  S.D. of innovations</th> <td>296796.594</td>\n",
       "</tr>\n",
       "<tr>\n",
       "  <th>Date:</th>          <td>Wed, 25 Aug 2021</td> <th>  AIC                </th>  <td>9681.056</td> \n",
       "</tr>\n",
       "<tr>\n",
       "  <th>Time:</th>              <td>15:26:38</td>     <th>  BIC                </th>  <td>9692.586</td> \n",
       "</tr>\n",
       "<tr>\n",
       "  <th>Sample:</th>           <td>01-22-2020</td>    <th>  HQIC               </th>  <td>9685.648</td> \n",
       "</tr>\n",
       "<tr>\n",
       "  <th></th>                 <td>- 12-31-2020</td>   <th>                     </th>      <td> </td>    \n",
       "</tr>\n",
       "</table>\n",
       "<table class=\"simpletable\">\n",
       "<tr>\n",
       "        <td></td>          <th>coef</th>     <th>std err</th>      <th>z</th>      <th>P>|z|</th>  <th>[0.025</th>    <th>0.975]</th>  \n",
       "</tr>\n",
       "<tr>\n",
       "  <th>const</th>        <td> 7.002e+05</td> <td> 2.99e+04</td> <td>   23.428</td> <td> 0.000</td> <td> 6.42e+05</td> <td> 7.59e+05</td>\n",
       "</tr>\n",
       "<tr>\n",
       "  <th>ma.L1.active</th> <td>    0.8728</td> <td>    0.020</td> <td>   44.570</td> <td> 0.000</td> <td>    0.834</td> <td>    0.911</td>\n",
       "</tr>\n",
       "</table>\n",
       "<table class=\"simpletable\">\n",
       "<caption>Roots</caption>\n",
       "<tr>\n",
       "    <td></td>   <th>            Real</th>  <th>         Imaginary</th> <th>         Modulus</th>  <th>        Frequency</th>\n",
       "</tr>\n",
       "<tr>\n",
       "  <th>MA.1</th> <td>          -1.1457</td> <td>          +0.0000j</td> <td>           1.1457</td> <td>           0.5000</td>\n",
       "</tr>\n",
       "</table>"
      ],
      "text/plain": [
       "<class 'statsmodels.iolib.summary.Summary'>\n",
       "\"\"\"\n",
       "                              ARMA Model Results                              \n",
       "==============================================================================\n",
       "Dep. Variable:                 active   No. Observations:                  345\n",
       "Model:                     ARMA(0, 1)   Log Likelihood               -4837.528\n",
       "Method:                       css-mle   S.D. of innovations         296796.594\n",
       "Date:                Wed, 25 Aug 2021   AIC                           9681.056\n",
       "Time:                        15:26:38   BIC                           9692.586\n",
       "Sample:                    01-22-2020   HQIC                          9685.648\n",
       "                         - 12-31-2020                                         \n",
       "================================================================================\n",
       "                   coef    std err          z      P>|z|      [0.025      0.975]\n",
       "--------------------------------------------------------------------------------\n",
       "const         7.002e+05   2.99e+04     23.428      0.000    6.42e+05    7.59e+05\n",
       "ma.L1.active     0.8728      0.020     44.570      0.000       0.834       0.911\n",
       "                                    Roots                                    \n",
       "=============================================================================\n",
       "                  Real          Imaginary           Modulus         Frequency\n",
       "-----------------------------------------------------------------------------\n",
       "MA.1           -1.1457           +0.0000j            1.1457            0.5000\n",
       "-----------------------------------------------------------------------------\n",
       "\"\"\""
      ]
     },
     "execution_count": 10,
     "metadata": {},
     "output_type": "execute_result"
    }
   ],
   "source": [
    "asa.summary()"
   ]
  },
  {
   "cell_type": "code",
   "execution_count": null,
   "metadata": {},
   "outputs": [],
   "source": [
    "Asia Recovered Summary"
   ]
  },
  {
   "cell_type": "code",
   "execution_count": 15,
   "metadata": {
    "scrolled": true
   },
   "outputs": [
    {
     "data": {
      "text/html": [
       "<table class=\"simpletable\">\n",
       "<caption>ARMA Model Results</caption>\n",
       "<tr>\n",
       "  <th>Dep. Variable:</th>     <td>recovered</td>    <th>  No. Observations:  </th>     <td>345</td>    \n",
       "</tr>\n",
       "<tr>\n",
       "  <th>Model:</th>            <td>ARMA(0, 0)</td>    <th>  Log Likelihood     </th>  <td>-5807.572</td> \n",
       "</tr>\n",
       "<tr>\n",
       "  <th>Method:</th>               <td>css</td>       <th>  S.D. of innovations</th> <td>4948539.034</td>\n",
       "</tr>\n",
       "<tr>\n",
       "  <th>Date:</th>          <td>Wed, 25 Aug 2021</td> <th>  AIC                </th>  <td>11619.144</td> \n",
       "</tr>\n",
       "<tr>\n",
       "  <th>Time:</th>              <td>15:28:43</td>     <th>  BIC                </th>  <td>11626.831</td> \n",
       "</tr>\n",
       "<tr>\n",
       "  <th>Sample:</th>           <td>01-22-2020</td>    <th>  HQIC               </th>  <td>11622.205</td> \n",
       "</tr>\n",
       "<tr>\n",
       "  <th></th>                 <td>- 12-31-2020</td>   <th>                     </th>      <td> </td>     \n",
       "</tr>\n",
       "</table>\n",
       "<table class=\"simpletable\">\n",
       "<tr>\n",
       "    <td></td>       <th>coef</th>     <th>std err</th>      <th>z</th>      <th>P>|z|</th>  <th>[0.025</th>    <th>0.975]</th>  \n",
       "</tr>\n",
       "<tr>\n",
       "  <th>const</th> <td> 4.163e+06</td> <td> 2.66e+05</td> <td>   15.627</td> <td> 0.000</td> <td> 3.64e+06</td> <td> 4.69e+06</td>\n",
       "</tr>\n",
       "</table>"
      ],
      "text/plain": [
       "<class 'statsmodels.iolib.summary.Summary'>\n",
       "\"\"\"\n",
       "                              ARMA Model Results                              \n",
       "==============================================================================\n",
       "Dep. Variable:              recovered   No. Observations:                  345\n",
       "Model:                     ARMA(0, 0)   Log Likelihood               -5807.572\n",
       "Method:                           css   S.D. of innovations        4948539.034\n",
       "Date:                Wed, 25 Aug 2021   AIC                          11619.144\n",
       "Time:                        15:28:43   BIC                          11626.831\n",
       "Sample:                    01-22-2020   HQIC                         11622.205\n",
       "                         - 12-31-2020                                         \n",
       "==============================================================================\n",
       "                 coef    std err          z      P>|z|      [0.025      0.975]\n",
       "------------------------------------------------------------------------------\n",
       "const       4.163e+06   2.66e+05     15.627      0.000    3.64e+06    4.69e+06\n",
       "==============================================================================\n",
       "\"\"\""
      ]
     },
     "execution_count": 15,
     "metadata": {},
     "output_type": "execute_result"
    }
   ],
   "source": [
    "asr.summary()"
   ]
  },
  {
   "cell_type": "markdown",
   "metadata": {},
   "source": [
    "Europe Active Summary "
   ]
  },
  {
   "cell_type": "code",
   "execution_count": 16,
   "metadata": {},
   "outputs": [
    {
     "name": "stderr",
     "output_type": "stream",
     "text": [
      "C:\\Users\\btama\\anaconda3\\lib\\site-packages\\statsmodels\\tsa\\arima_model.py:1521: RuntimeWarning: invalid value encountered in sqrt\n",
      "  return np.sqrt(np.diag(-inv(hess)))\n"
     ]
    },
    {
     "data": {
      "text/html": [
       "<table class=\"simpletable\">\n",
       "<caption>ARMA Model Results</caption>\n",
       "<tr>\n",
       "  <th>Dep. Variable:</th>      <td>active</td>      <th>  No. Observations:  </th>    <td>336</td>   \n",
       "</tr>\n",
       "<tr>\n",
       "  <th>Model:</th>            <td>ARMA(1, 0)</td>    <th>  Log Likelihood     </th> <td>-4087.492</td>\n",
       "</tr>\n",
       "<tr>\n",
       "  <th>Method:</th>             <td>css-mle</td>     <th>  S.D. of innovations</th> <td>45183.332</td>\n",
       "</tr>\n",
       "<tr>\n",
       "  <th>Date:</th>          <td>Wed, 25 Aug 2021</td> <th>  AIC                </th> <td>8180.984</td> \n",
       "</tr>\n",
       "<tr>\n",
       "  <th>Time:</th>              <td>15:29:24</td>     <th>  BIC                </th> <td>8192.435</td> \n",
       "</tr>\n",
       "<tr>\n",
       "  <th>Sample:</th>                <td>0</td>        <th>  HQIC               </th> <td>8185.548</td> \n",
       "</tr>\n",
       "<tr>\n",
       "  <th></th>                       <td> </td>        <th>                     </th>     <td> </td>    \n",
       "</tr>\n",
       "</table>\n",
       "<table class=\"simpletable\">\n",
       "<tr>\n",
       "        <td></td>          <th>coef</th>     <th>std err</th>      <th>z</th>      <th>P>|z|</th>  <th>[0.025</th>    <th>0.975]</th>  \n",
       "</tr>\n",
       "<tr>\n",
       "  <th>const</th>        <td> 1.716e+06</td> <td>      nan</td> <td>      nan</td> <td>   nan</td> <td>      nan</td> <td>      nan</td>\n",
       "</tr>\n",
       "<tr>\n",
       "  <th>ar.L1.active</th> <td>    1.0000</td> <td>      nan</td> <td>      nan</td> <td>   nan</td> <td>      nan</td> <td>      nan</td>\n",
       "</tr>\n",
       "</table>\n",
       "<table class=\"simpletable\">\n",
       "<caption>Roots</caption>\n",
       "<tr>\n",
       "    <td></td>   <th>            Real</th>  <th>         Imaginary</th> <th>         Modulus</th>  <th>        Frequency</th>\n",
       "</tr>\n",
       "<tr>\n",
       "  <th>AR.1</th> <td>           1.0000</td> <td>          +0.0000j</td> <td>           1.0000</td> <td>           0.0000</td>\n",
       "</tr>\n",
       "</table>"
      ],
      "text/plain": [
       "<class 'statsmodels.iolib.summary.Summary'>\n",
       "\"\"\"\n",
       "                              ARMA Model Results                              \n",
       "==============================================================================\n",
       "Dep. Variable:                 active   No. Observations:                  336\n",
       "Model:                     ARMA(1, 0)   Log Likelihood               -4087.492\n",
       "Method:                       css-mle   S.D. of innovations          45183.332\n",
       "Date:                Wed, 25 Aug 2021   AIC                           8180.984\n",
       "Time:                        15:29:24   BIC                           8192.435\n",
       "Sample:                             0   HQIC                          8185.548\n",
       "                                                                              \n",
       "================================================================================\n",
       "                   coef    std err          z      P>|z|      [0.025      0.975]\n",
       "--------------------------------------------------------------------------------\n",
       "const         1.716e+06        nan        nan        nan         nan         nan\n",
       "ar.L1.active     1.0000        nan        nan        nan         nan         nan\n",
       "                                    Roots                                    \n",
       "=============================================================================\n",
       "                  Real          Imaginary           Modulus         Frequency\n",
       "-----------------------------------------------------------------------------\n",
       "AR.1            1.0000           +0.0000j            1.0000            0.0000\n",
       "-----------------------------------------------------------------------------\n",
       "\"\"\""
      ]
     },
     "execution_count": 16,
     "metadata": {},
     "output_type": "execute_result"
    }
   ],
   "source": [
    "ea.summary()"
   ]
  },
  {
   "cell_type": "code",
   "execution_count": null,
   "metadata": {},
   "outputs": [],
   "source": [
    "Europe Recovery Summary "
   ]
  },
  {
   "cell_type": "code",
   "execution_count": 17,
   "metadata": {},
   "outputs": [
    {
     "name": "stderr",
     "output_type": "stream",
     "text": [
      "C:\\Users\\btama\\anaconda3\\lib\\site-packages\\statsmodels\\tsa\\arima_model.py:1694: RuntimeWarning: invalid value encountered in double_scalars\n",
      "  ('S.D. of innovations', [\"%#5.3f\" % self.sigma2 ** .5]),\n",
      "C:\\Users\\btama\\anaconda3\\lib\\site-packages\\statsmodels\\tsa\\arima_model.py:1521: RuntimeWarning: invalid value encountered in sqrt\n",
      "  return np.sqrt(np.diag(-inv(hess)))\n"
     ]
    },
    {
     "data": {
      "text/html": [
       "<table class=\"simpletable\">\n",
       "<caption>ARMA Model Results</caption>\n",
       "<tr>\n",
       "  <th>Dep. Variable:</th>     <td>recovered</td>    <th>  No. Observations:  </th>    <td>319</td>   \n",
       "</tr>\n",
       "<tr>\n",
       "  <th>Model:</th>            <td>ARMA(2, 0)</td>    <th>  Log Likelihood     </th> <td>-3237.669</td>\n",
       "</tr>\n",
       "<tr>\n",
       "  <th>Method:</th>             <td>css-mle</td>     <th>  S.D. of innovations</th>   <td>  nan</td>  \n",
       "</tr>\n",
       "<tr>\n",
       "  <th>Date:</th>          <td>Wed, 25 Aug 2021</td> <th>  AIC                </th> <td>6483.339</td> \n",
       "</tr>\n",
       "<tr>\n",
       "  <th>Time:</th>              <td>15:31:03</td>     <th>  BIC                </th> <td>6498.400</td> \n",
       "</tr>\n",
       "<tr>\n",
       "  <th>Sample:</th>                <td>0</td>        <th>  HQIC               </th> <td>6489.354</td> \n",
       "</tr>\n",
       "<tr>\n",
       "  <th></th>                       <td> </td>        <th>                     </th>     <td> </td>    \n",
       "</tr>\n",
       "</table>\n",
       "<table class=\"simpletable\">\n",
       "<tr>\n",
       "         <td></td>            <th>coef</th>     <th>std err</th>      <th>z</th>      <th>P>|z|</th>  <th>[0.025</th>    <th>0.975]</th>  \n",
       "</tr>\n",
       "<tr>\n",
       "  <th>const</th>           <td> 8.963e+05</td> <td>      nan</td> <td>      nan</td> <td>   nan</td> <td>      nan</td> <td>      nan</td>\n",
       "</tr>\n",
       "<tr>\n",
       "  <th>ar.L1.recovered</th> <td>    1.9726</td> <td> 2.09e-05</td> <td> 9.45e+04</td> <td> 0.000</td> <td>    1.973</td> <td>    1.973</td>\n",
       "</tr>\n",
       "<tr>\n",
       "  <th>ar.L2.recovered</th> <td>   -0.9726</td> <td> 1.03e-05</td> <td>-9.45e+04</td> <td> 0.000</td> <td>   -0.973</td> <td>   -0.973</td>\n",
       "</tr>\n",
       "</table>\n",
       "<table class=\"simpletable\">\n",
       "<caption>Roots</caption>\n",
       "<tr>\n",
       "    <td></td>   <th>            Real</th>  <th>         Imaginary</th> <th>         Modulus</th>  <th>        Frequency</th>\n",
       "</tr>\n",
       "<tr>\n",
       "  <th>AR.1</th> <td>           1.0000</td> <td>          +0.0000j</td> <td>           1.0000</td> <td>           0.0000</td>\n",
       "</tr>\n",
       "<tr>\n",
       "  <th>AR.2</th> <td>           1.0282</td> <td>          +0.0000j</td> <td>           1.0282</td> <td>           0.0000</td>\n",
       "</tr>\n",
       "</table>"
      ],
      "text/plain": [
       "<class 'statsmodels.iolib.summary.Summary'>\n",
       "\"\"\"\n",
       "                              ARMA Model Results                              \n",
       "==============================================================================\n",
       "Dep. Variable:              recovered   No. Observations:                  319\n",
       "Model:                     ARMA(2, 0)   Log Likelihood               -3237.669\n",
       "Method:                       css-mle   S.D. of innovations                nan\n",
       "Date:                Wed, 25 Aug 2021   AIC                           6483.339\n",
       "Time:                        15:31:03   BIC                           6498.400\n",
       "Sample:                             0   HQIC                          6489.354\n",
       "                                                                              \n",
       "===================================================================================\n",
       "                      coef    std err          z      P>|z|      [0.025      0.975]\n",
       "-----------------------------------------------------------------------------------\n",
       "const            8.963e+05        nan        nan        nan         nan         nan\n",
       "ar.L1.recovered     1.9726   2.09e-05   9.45e+04      0.000       1.973       1.973\n",
       "ar.L2.recovered    -0.9726   1.03e-05  -9.45e+04      0.000      -0.973      -0.973\n",
       "                                    Roots                                    \n",
       "=============================================================================\n",
       "                  Real          Imaginary           Modulus         Frequency\n",
       "-----------------------------------------------------------------------------\n",
       "AR.1            1.0000           +0.0000j            1.0000            0.0000\n",
       "AR.2            1.0282           +0.0000j            1.0282            0.0000\n",
       "-----------------------------------------------------------------------------\n",
       "\"\"\""
      ]
     },
     "execution_count": 17,
     "metadata": {},
     "output_type": "execute_result"
    }
   ],
   "source": [
    "er.summary()"
   ]
  },
  {
   "cell_type": "code",
   "execution_count": null,
   "metadata": {},
   "outputs": [],
   "source": [
    "North America Active Summary"
   ]
  },
  {
   "cell_type": "code",
   "execution_count": 18,
   "metadata": {},
   "outputs": [
    {
     "data": {
      "text/html": [
       "<table class=\"simpletable\">\n",
       "<caption>ARMA Model Results</caption>\n",
       "<tr>\n",
       "  <th>Dep. Variable:</th>      <td>active</td>      <th>  No. Observations:  </th>     <td>332</td>   \n",
       "</tr>\n",
       "<tr>\n",
       "  <th>Model:</th>            <td>ARMA(1, 0)</td>    <th>  Log Likelihood     </th>  <td>-4730.721</td>\n",
       "</tr>\n",
       "<tr>\n",
       "  <th>Method:</th>             <td>css-mle</td>     <th>  S.D. of innovations</th> <td>369537.331</td>\n",
       "</tr>\n",
       "<tr>\n",
       "  <th>Date:</th>          <td>Wed, 25 Aug 2021</td> <th>  AIC                </th>  <td>9467.442</td> \n",
       "</tr>\n",
       "<tr>\n",
       "  <th>Time:</th>              <td>15:31:58</td>     <th>  BIC                </th>  <td>9478.857</td> \n",
       "</tr>\n",
       "<tr>\n",
       "  <th>Sample:</th>                <td>0</td>        <th>  HQIC               </th>  <td>9471.994</td> \n",
       "</tr>\n",
       "<tr>\n",
       "  <th></th>                       <td> </td>        <th>                     </th>      <td> </td>    \n",
       "</tr>\n",
       "</table>\n",
       "<table class=\"simpletable\">\n",
       "<tr>\n",
       "        <td></td>          <th>coef</th>     <th>std err</th>      <th>z</th>      <th>P>|z|</th>  <th>[0.025</th>    <th>0.975]</th>  \n",
       "</tr>\n",
       "<tr>\n",
       "  <th>const</th>        <td> 3.594e+06</td> <td> 1.66e+07</td> <td>    0.217</td> <td> 0.828</td> <td>-2.89e+07</td> <td>  3.6e+07</td>\n",
       "</tr>\n",
       "<tr>\n",
       "  <th>ar.L1.active</th> <td>    0.9994</td> <td>    0.001</td> <td>  799.721</td> <td> 0.000</td> <td>    0.997</td> <td>    1.002</td>\n",
       "</tr>\n",
       "</table>\n",
       "<table class=\"simpletable\">\n",
       "<caption>Roots</caption>\n",
       "<tr>\n",
       "    <td></td>   <th>            Real</th>  <th>         Imaginary</th> <th>         Modulus</th>  <th>        Frequency</th>\n",
       "</tr>\n",
       "<tr>\n",
       "  <th>AR.1</th> <td>           1.0006</td> <td>          +0.0000j</td> <td>           1.0006</td> <td>           0.0000</td>\n",
       "</tr>\n",
       "</table>"
      ],
      "text/plain": [
       "<class 'statsmodels.iolib.summary.Summary'>\n",
       "\"\"\"\n",
       "                              ARMA Model Results                              \n",
       "==============================================================================\n",
       "Dep. Variable:                 active   No. Observations:                  332\n",
       "Model:                     ARMA(1, 0)   Log Likelihood               -4730.721\n",
       "Method:                       css-mle   S.D. of innovations         369537.331\n",
       "Date:                Wed, 25 Aug 2021   AIC                           9467.442\n",
       "Time:                        15:31:58   BIC                           9478.857\n",
       "Sample:                             0   HQIC                          9471.994\n",
       "                                                                              \n",
       "================================================================================\n",
       "                   coef    std err          z      P>|z|      [0.025      0.975]\n",
       "--------------------------------------------------------------------------------\n",
       "const         3.594e+06   1.66e+07      0.217      0.828   -2.89e+07     3.6e+07\n",
       "ar.L1.active     0.9994      0.001    799.721      0.000       0.997       1.002\n",
       "                                    Roots                                    \n",
       "=============================================================================\n",
       "                  Real          Imaginary           Modulus         Frequency\n",
       "-----------------------------------------------------------------------------\n",
       "AR.1            1.0006           +0.0000j            1.0006            0.0000\n",
       "-----------------------------------------------------------------------------\n",
       "\"\"\""
      ]
     },
     "execution_count": 18,
     "metadata": {},
     "output_type": "execute_result"
    }
   ],
   "source": [
    "na.summary()"
   ]
  },
  {
   "cell_type": "code",
   "execution_count": null,
   "metadata": {},
   "outputs": [],
   "source": [
    "North America Recovery Summary "
   ]
  },
  {
   "cell_type": "code",
   "execution_count": 19,
   "metadata": {},
   "outputs": [
    {
     "data": {
      "text/html": [
       "<table class=\"simpletable\">\n",
       "<caption>ARMA Model Results</caption>\n",
       "<tr>\n",
       "  <th>Dep. Variable:</th>     <td>recovered</td>    <th>  No. Observations:  </th>     <td>313</td>   \n",
       "</tr>\n",
       "<tr>\n",
       "  <th>Model:</th>            <td>ARMA(1, 0)</td>    <th>  Log Likelihood     </th>  <td>-4451.676</td>\n",
       "</tr>\n",
       "<tr>\n",
       "  <th>Method:</th>             <td>css-mle</td>     <th>  S.D. of innovations</th> <td>361589.786</td>\n",
       "</tr>\n",
       "<tr>\n",
       "  <th>Date:</th>          <td>Wed, 25 Aug 2021</td> <th>  AIC                </th>  <td>8909.352</td> \n",
       "</tr>\n",
       "<tr>\n",
       "  <th>Time:</th>              <td>15:32:24</td>     <th>  BIC                </th>  <td>8920.591</td> \n",
       "</tr>\n",
       "<tr>\n",
       "  <th>Sample:</th>                <td>0</td>        <th>  HQIC               </th>  <td>8913.844</td> \n",
       "</tr>\n",
       "<tr>\n",
       "  <th></th>                       <td> </td>        <th>                     </th>      <td> </td>    \n",
       "</tr>\n",
       "</table>\n",
       "<table class=\"simpletable\">\n",
       "<tr>\n",
       "         <td></td>            <th>coef</th>     <th>std err</th>      <th>z</th>      <th>P>|z|</th>  <th>[0.025</th>    <th>0.975]</th>  \n",
       "</tr>\n",
       "<tr>\n",
       "  <th>const</th>           <td> 2.105e+06</td> <td> 1.04e+06</td> <td>    2.026</td> <td> 0.043</td> <td> 6.87e+04</td> <td> 4.14e+06</td>\n",
       "</tr>\n",
       "<tr>\n",
       "  <th>ar.L1.recovered</th> <td>    0.9829</td> <td>    0.009</td> <td>  103.703</td> <td> 0.000</td> <td>    0.964</td> <td>    1.001</td>\n",
       "</tr>\n",
       "</table>\n",
       "<table class=\"simpletable\">\n",
       "<caption>Roots</caption>\n",
       "<tr>\n",
       "    <td></td>   <th>            Real</th>  <th>         Imaginary</th> <th>         Modulus</th>  <th>        Frequency</th>\n",
       "</tr>\n",
       "<tr>\n",
       "  <th>AR.1</th> <td>           1.0174</td> <td>          +0.0000j</td> <td>           1.0174</td> <td>           0.0000</td>\n",
       "</tr>\n",
       "</table>"
      ],
      "text/plain": [
       "<class 'statsmodels.iolib.summary.Summary'>\n",
       "\"\"\"\n",
       "                              ARMA Model Results                              \n",
       "==============================================================================\n",
       "Dep. Variable:              recovered   No. Observations:                  313\n",
       "Model:                     ARMA(1, 0)   Log Likelihood               -4451.676\n",
       "Method:                       css-mle   S.D. of innovations         361589.786\n",
       "Date:                Wed, 25 Aug 2021   AIC                           8909.352\n",
       "Time:                        15:32:24   BIC                           8920.591\n",
       "Sample:                             0   HQIC                          8913.844\n",
       "                                                                              \n",
       "===================================================================================\n",
       "                      coef    std err          z      P>|z|      [0.025      0.975]\n",
       "-----------------------------------------------------------------------------------\n",
       "const            2.105e+06   1.04e+06      2.026      0.043    6.87e+04    4.14e+06\n",
       "ar.L1.recovered     0.9829      0.009    103.703      0.000       0.964       1.001\n",
       "                                    Roots                                    \n",
       "=============================================================================\n",
       "                  Real          Imaginary           Modulus         Frequency\n",
       "-----------------------------------------------------------------------------\n",
       "AR.1            1.0174           +0.0000j            1.0174            0.0000\n",
       "-----------------------------------------------------------------------------\n",
       "\"\"\""
      ]
     },
     "execution_count": 19,
     "metadata": {},
     "output_type": "execute_result"
    }
   ],
   "source": [
    "nr.summary()"
   ]
  },
  {
   "cell_type": "markdown",
   "metadata": {},
   "source": [
    "South America Active Summary "
   ]
  },
  {
   "cell_type": "code",
   "execution_count": 20,
   "metadata": {},
   "outputs": [
    {
     "data": {
      "text/html": [
       "<table class=\"simpletable\">\n",
       "<caption>ARMA Model Results</caption>\n",
       "<tr>\n",
       "  <th>Dep. Variable:</th>      <td>active</td>      <th>  No. Observations:  </th>    <td>305</td>   \n",
       "</tr>\n",
       "<tr>\n",
       "  <th>Model:</th>            <td>ARMA(1, 0)</td>    <th>  Log Likelihood     </th> <td>-3609.801</td>\n",
       "</tr>\n",
       "<tr>\n",
       "  <th>Method:</th>             <td>css-mle</td>     <th>  S.D. of innovations</th> <td>33182.531</td>\n",
       "</tr>\n",
       "<tr>\n",
       "  <th>Date:</th>          <td>Wed, 25 Aug 2021</td> <th>  AIC                </th> <td>7225.602</td> \n",
       "</tr>\n",
       "<tr>\n",
       "  <th>Time:</th>              <td>15:32:58</td>     <th>  BIC                </th> <td>7236.763</td> \n",
       "</tr>\n",
       "<tr>\n",
       "  <th>Sample:</th>                <td>0</td>        <th>  HQIC               </th> <td>7230.066</td> \n",
       "</tr>\n",
       "<tr>\n",
       "  <th></th>                       <td> </td>        <th>                     </th>     <td> </td>    \n",
       "</tr>\n",
       "</table>\n",
       "<table class=\"simpletable\">\n",
       "<tr>\n",
       "        <td></td>          <th>coef</th>     <th>std err</th>      <th>z</th>      <th>P>|z|</th>  <th>[0.025</th>    <th>0.975]</th>  \n",
       "</tr>\n",
       "<tr>\n",
       "  <th>const</th>        <td> 3.753e+05</td> <td>  1.7e+05</td> <td>    2.207</td> <td> 0.027</td> <td>  4.2e+04</td> <td> 7.09e+05</td>\n",
       "</tr>\n",
       "<tr>\n",
       "  <th>ar.L1.active</th> <td>    0.9916</td> <td>    0.007</td> <td>  140.979</td> <td> 0.000</td> <td>    0.978</td> <td>    1.005</td>\n",
       "</tr>\n",
       "</table>\n",
       "<table class=\"simpletable\">\n",
       "<caption>Roots</caption>\n",
       "<tr>\n",
       "    <td></td>   <th>            Real</th>  <th>         Imaginary</th> <th>         Modulus</th>  <th>        Frequency</th>\n",
       "</tr>\n",
       "<tr>\n",
       "  <th>AR.1</th> <td>           1.0085</td> <td>          +0.0000j</td> <td>           1.0085</td> <td>           0.0000</td>\n",
       "</tr>\n",
       "</table>"
      ],
      "text/plain": [
       "<class 'statsmodels.iolib.summary.Summary'>\n",
       "\"\"\"\n",
       "                              ARMA Model Results                              \n",
       "==============================================================================\n",
       "Dep. Variable:                 active   No. Observations:                  305\n",
       "Model:                     ARMA(1, 0)   Log Likelihood               -3609.801\n",
       "Method:                       css-mle   S.D. of innovations          33182.531\n",
       "Date:                Wed, 25 Aug 2021   AIC                           7225.602\n",
       "Time:                        15:32:58   BIC                           7236.763\n",
       "Sample:                             0   HQIC                          7230.066\n",
       "                                                                              \n",
       "================================================================================\n",
       "                   coef    std err          z      P>|z|      [0.025      0.975]\n",
       "--------------------------------------------------------------------------------\n",
       "const         3.753e+05    1.7e+05      2.207      0.027     4.2e+04    7.09e+05\n",
       "ar.L1.active     0.9916      0.007    140.979      0.000       0.978       1.005\n",
       "                                    Roots                                    \n",
       "=============================================================================\n",
       "                  Real          Imaginary           Modulus         Frequency\n",
       "-----------------------------------------------------------------------------\n",
       "AR.1            1.0085           +0.0000j            1.0085            0.0000\n",
       "-----------------------------------------------------------------------------\n",
       "\"\"\""
      ]
     },
     "execution_count": 20,
     "metadata": {},
     "output_type": "execute_result"
    }
   ],
   "source": [
    "sa.summary()"
   ]
  },
  {
   "cell_type": "code",
   "execution_count": null,
   "metadata": {},
   "outputs": [],
   "source": [
    "South America Recovery Summary "
   ]
  },
  {
   "cell_type": "code",
   "execution_count": 21,
   "metadata": {},
   "outputs": [
    {
     "data": {
      "text/html": [
       "<table class=\"simpletable\">\n",
       "<caption>ARMA Model Results</caption>\n",
       "<tr>\n",
       "  <th>Dep. Variable:</th>     <td>recovered</td>    <th>  No. Observations:  </th>     <td>291</td>    \n",
       "</tr>\n",
       "<tr>\n",
       "  <th>Model:</th>            <td>ARMA(0, 1)</td>    <th>  Log Likelihood     </th>  <td>-4498.645</td> \n",
       "</tr>\n",
       "<tr>\n",
       "  <th>Method:</th>             <td>css-mle</td>     <th>  S.D. of innovations</th> <td>1239956.595</td>\n",
       "</tr>\n",
       "<tr>\n",
       "  <th>Date:</th>          <td>Wed, 25 Aug 2021</td> <th>  AIC                </th>  <td>9003.291</td>  \n",
       "</tr>\n",
       "<tr>\n",
       "  <th>Time:</th>              <td>15:33:43</td>     <th>  BIC                </th>  <td>9014.311</td>  \n",
       "</tr>\n",
       "<tr>\n",
       "  <th>Sample:</th>           <td>03-16-2020</td>    <th>  HQIC               </th>  <td>9007.705</td>  \n",
       "</tr>\n",
       "<tr>\n",
       "  <th></th>                 <td>- 12-31-2020</td>   <th>                     </th>      <td> </td>     \n",
       "</tr>\n",
       "</table>\n",
       "<table class=\"simpletable\">\n",
       "<tr>\n",
       "         <td></td>            <th>coef</th>     <th>std err</th>      <th>z</th>      <th>P>|z|</th>  <th>[0.025</th>    <th>0.975]</th>  \n",
       "</tr>\n",
       "<tr>\n",
       "  <th>const</th>           <td> 2.881e+06</td> <td> 1.45e+05</td> <td>   19.851</td> <td> 0.000</td> <td>  2.6e+06</td> <td> 3.17e+06</td>\n",
       "</tr>\n",
       "<tr>\n",
       "  <th>ma.L1.recovered</th> <td>    1.0000</td> <td>    0.010</td> <td>  100.983</td> <td> 0.000</td> <td>    0.981</td> <td>    1.019</td>\n",
       "</tr>\n",
       "</table>\n",
       "<table class=\"simpletable\">\n",
       "<caption>Roots</caption>\n",
       "<tr>\n",
       "    <td></td>   <th>            Real</th>  <th>         Imaginary</th> <th>         Modulus</th>  <th>        Frequency</th>\n",
       "</tr>\n",
       "<tr>\n",
       "  <th>MA.1</th> <td>          -1.0000</td> <td>          +0.0000j</td> <td>           1.0000</td> <td>           0.5000</td>\n",
       "</tr>\n",
       "</table>"
      ],
      "text/plain": [
       "<class 'statsmodels.iolib.summary.Summary'>\n",
       "\"\"\"\n",
       "                              ARMA Model Results                              \n",
       "==============================================================================\n",
       "Dep. Variable:              recovered   No. Observations:                  291\n",
       "Model:                     ARMA(0, 1)   Log Likelihood               -4498.645\n",
       "Method:                       css-mle   S.D. of innovations        1239956.595\n",
       "Date:                Wed, 25 Aug 2021   AIC                           9003.291\n",
       "Time:                        15:33:43   BIC                           9014.311\n",
       "Sample:                    03-16-2020   HQIC                          9007.705\n",
       "                         - 12-31-2020                                         \n",
       "===================================================================================\n",
       "                      coef    std err          z      P>|z|      [0.025      0.975]\n",
       "-----------------------------------------------------------------------------------\n",
       "const            2.881e+06   1.45e+05     19.851      0.000     2.6e+06    3.17e+06\n",
       "ma.L1.recovered     1.0000      0.010    100.983      0.000       0.981       1.019\n",
       "                                    Roots                                    \n",
       "=============================================================================\n",
       "                  Real          Imaginary           Modulus         Frequency\n",
       "-----------------------------------------------------------------------------\n",
       "MA.1           -1.0000           +0.0000j            1.0000            0.5000\n",
       "-----------------------------------------------------------------------------\n",
       "\"\"\""
      ]
     },
     "execution_count": 21,
     "metadata": {},
     "output_type": "execute_result"
    }
   ],
   "source": [
    "sr.summary()"
   ]
  },
  {
   "cell_type": "code",
   "execution_count": null,
   "metadata": {},
   "outputs": [],
   "source": [
    "sns.set_theme(style=\"darkgrid\")\n",
    "# plt.figure(figsize=(15,10))\n",
    "# plt.plot(y_log.diff())\n",
    "# plt.plot(model_fit.predict(), color = 'red')\n",
    "\n",
    "\n",
    "# Plot the responses for different events and regions\n",
    "sns.lineplot(x=\"date\", y=\"active\", data=log_af_act)\n",
    "sns.lineplot(data=africa_active.predict())"
   ]
  },
  {
   "cell_type": "code",
   "execution_count": 59,
   "metadata": {
    "scrolled": true
   },
   "outputs": [],
   "source": [
    "#North America Active \n",
    "na_pred = pd.DataFrame(na.predict(), columns=['active'])\n",
    "\n",
    "#North America Recovered\n",
    "nr_pred = pd.DataFrame(nr.predict(), columns=['recovered'])\n",
    "\n",
    "#South America Active\n",
    "sa_pred = pd.DataFrame(sa.predict(), columns=['active'])\n",
    "\n",
    "#South America Recovered\n",
    "sr_pred = pd.DataFrame(sr.predict(), columns=['recovered'])\n",
    "\n",
    "#Europe Active\n",
    "ea_pred = pd.DataFrame(ea.predict(), columns=['active'])\n",
    "\n",
    "#Europe Recovered \n",
    "er_pred = pd.DataFrame(er.predict(), columns=['recovered'])\n",
    "\n",
    "#Asia Active\n",
    "asa_pred = pd.DataFrame(asa.predict(), columns=['active'])\n",
    "\n",
    "#Asia Recovered\n",
    "asr_pred = pd.DataFrame(asr.predict(), columns=['recovered'])\n",
    "\n",
    "#Africa Active\n",
    "afa_pred = pd.DataFrame(afa.predict(), columns=['active'])\n",
    "\n",
    "#Africa Recovered\n",
    "afr_pred = pd.DataFrame(afr.predict(), columns=['recovered'])"
   ]
  },
  {
   "cell_type": "code",
   "execution_count": 68,
   "metadata": {},
   "outputs": [
    {
     "data": {
      "image/png": "[encoded data removed]",
      "text/plain": [
       "<Figure size 1008x1008 with 10 Axes>"
      ]
     },
     "metadata": {
      "needs_background": "light"
     },
     "output_type": "display_data"
    }
   ],
   "source": [
    "\n",
    "\n",
    "fig, axes = plt.subplots(5, 2, figsize=(14, 14))\n",
    "\n",
    "# Define the date format\n",
    "date_form = DateFormatter(\"%m-%d\")\n",
    "\n",
    "# plotting subplots\n",
    "sns.pointplot(ax=axes[0,0], x=na_pred.index, y='active', data=na_pred, color='b')\n",
    "sns.pointplot(ax=axes[0,0], x=pbc_na.index, y='active', data=pbc_na, color='r')\n",
    "axes[0, 0].set_title('North America Model Comparison', loc='left', pad=15)\n",
    "axes[0, 0].margins(x=0)\n",
    "axes[0, 0].xaxis.set_major_formatter(date_form)\n",
    "axes[0, 0].xaxis.set_major_locator(mdates.WeekdayLocator(interval=5))\n",
    "sns.pointplot(ax=axes[0,1], x=nr_pred.index, y='recovered', data=nr_pred, color='b')\n",
    "sns.pointplot(ax=axes[0,1], x=pbc_nr.index, y='recovered', data=pbc_nr, color='r')\n",
    "axes[0, 1].margins(x=0)\n",
    "axes[0, 1].xaxis.set_major_formatter(date_form)\n",
    "axes[0, 1].xaxis.set_major_locator(mdates.WeekdayLocator(interval=5))\n",
    "sns.pointplot(ax=axes[1,0], x=asa_pred.index, y='active', data=asa_pred, color='b')\n",
    "sns.pointplot(ax=axes[1,0], x=pbc_asa.index, y='active', data=pbc_asa, color='r')\n",
    "axes[1, 0].set_title('Asia Model Comparison', loc='left', pad=15)\n",
    "axes[1, 0].margins(x=0)\n",
    "axes[1, 0].xaxis.set_major_formatter(date_form)\n",
    "axes[1, 0].xaxis.set_major_locator(mdates.WeekdayLocator(interval=5))\n",
    "sns.pointplot(ax=axes[1,1], x=asr_pred.index, y='recovered', data=asr_pred, color='b')\n",
    "sns.pointplot(ax=axes[1,1], x=pbc_asr.index, y='recovered', data=pbc_asr, color='r')\n",
    "axes[1, 1].margins(x=0)\n",
    "axes[1, 1].xaxis.set_major_formatter(date_form)\n",
    "axes[1, 1].xaxis.set_major_locator(mdates.WeekdayLocator(interval=5))\n",
    "sns.pointplot(ax=axes[2,0], x=ea_pred.index, y='active', data=ea_pred, color='b')\n",
    "sns.pointplot(ax=axes[2,0], x=pbc_ea.index, y='active', data=pbc_ea, color='r')\n",
    "axes[2, 0].set_title('Europe Model Comparison', loc='left', pad=15)\n",
    "axes[2, 0].margins(x=0)\n",
    "axes[2, 0].xaxis.set_major_formatter(date_form)\n",
    "axes[2, 0].xaxis.set_major_locator(mdates.WeekdayLocator(interval=5))\n",
    "sns.pointplot(ax=axes[2,1], x=er_pred.index, y='recovered', data=er_pred, color='b')\n",
    "sns.pointplot(ax=axes[2,1], x=pbc_er.index, y='recovered', data=pbc_er, color='r')\n",
    "axes[2, 1].margins(x=0)\n",
    "axes[2, 1].xaxis.set_major_formatter(date_form)\n",
    "axes[2, 1].xaxis.set_major_locator(mdates.WeekdayLocator(interval=5))\n",
    "sns.pointplot(ax=axes[3,0], x=afa_pred.index, y='active', data=afa_pred, color='b')\n",
    "sns.pointplot(ax=axes[3,0], x=pbc_afa.index, y='active', data=pbc_afa, color='r')\n",
    "axes[3, 0].set_title('Africa Model Comparison', loc='left', pad=15)\n",
    "axes[3, 0].margins(x=0)\n",
    "axes[3, 0].xaxis.set_major_formatter(date_form)\n",
    "axes[3, 0].xaxis.set_major_locator(mdates.WeekdayLocator(interval=5))\n",
    "sns.pointplot(ax=axes[3,1], x=afr_pred.index, y='recovered', data=afr_pred, color='b')\n",
    "sns.pointplot(ax=axes[3,1], x=pbc_afr.index, y='recovered', data=pbc_afr, color='r')\n",
    "axes[3, 1].margins(x=0)\n",
    "axes[3, 1].xaxis.set_major_formatter(date_form)\n",
    "axes[3, 1].xaxis.set_major_locator(mdates.WeekdayLocator(interval=5))\n",
    "sns.pointplot(ax=axes[4,0], x=sa_pred.index, y='active', data=sa_pred, color='b')\n",
    "sns.pointplot(ax=axes[4,0], x=pbc_sa.index, y='active', data=pbc_sa, color='r')\n",
    "axes[4, 0].set_title('South America Model Comparison', loc='left', pad=15)\n",
    "axes[4, 0].margins(x=0)\n",
    "axes[4, 0].xaxis.set_major_formatter(date_form)\n",
    "axes[4, 0].xaxis.set_major_locator(mdates.WeekdayLocator(interval=5))\n",
    "sns.pointplot(ax=axes[4,1], x=sr_pred.index, y='recovered', data=sr_pred, color='b')\n",
    "sns.pointplot(ax=axes[4,1], x=pbc_sr.index, y='recovered', data=pbc_sr, color='r')\n",
    "axes[4, 1].margins(x=0)\n",
    "axes[4, 1].xaxis.set_major_formatter(date_form)\n",
    "axes[4, 1].xaxis.set_major_locator(mdates.WeekdayLocator(interval=5))\n",
    "\n",
    "\n",
    "# automatically adjust padding horizontally\n",
    "# as well as vertically.\n",
    "plt.tight_layout()\n",
    " \n",
    "# display plot\n",
    "plt.show()"
   ]
  },
  {
   "cell_type": "markdown",
   "metadata": {},
   "source": [
    "Africa, Asia.recovered ARIMA(0,0,0)\n",
    "Asia active, South America Recovered, ARIMA(0,0,1)\n",
    "Europe recovered ARIMA(2,0,0)\n",
    "Europe active, North America, South America Active ARIMA(1,0,0)"
   ]
  },
  {
   "cell_type": "code",
   "execution_count": 119,
   "metadata": {},
   "outputs": [],
   "source": [
    "def show_future(model, df, s):\n",
    "    forecast = model.forecast(12)\n",
    "    forcast_period = 6\n",
    "    \n",
    "    #Convert dataset to a month daterange\n",
    "    date_range = pd.date_range(df.index[-1],\n",
    "                              periods = forcast_period,\n",
    "                              freq='MS').strftime(\"%Y-%m-%d\").tolist()\n",
    "    \n",
    "    #Convert months to date-time object\n",
    "    future_months = pd.DataFrame(date_range, columns = ['month'])\n",
    "    future_months['month'] = pd.to_datetime(future_months['month'], format='%Y-%m-%d')\n",
    "    future_months.set_index('month', inplace = True)\n",
    "    \n",
    "    #Create prediction column using the forcast\n",
    "    if s == 1:\n",
    "        future_months['active'] = pd.Series(dict(zip(date_range,(forecast[0]))),dtype='object')\n",
    "#         future_months['month'] = pd.to_datetime(future_months['month'], format='%Y-%m-%d').dt.date\n",
    "    if s == 2:\n",
    "        future_months['recovered'] = pd.Series(dict(zip(date_range,(forecast[0]))),dtype='object')\n",
    "\n",
    "    #Append future predictions\n",
    "    past_future = pd.concat([df,future_months])\n",
    "    past_future.index = pd.to_datetime(past_future.index)\n",
    "\n",
    "    return past_future"
   ]
  },
  {
   "cell_type": "code",
   "execution_count": 123,
   "metadata": {},
   "outputs": [
    {
     "name": "stdout",
     "output_type": "stream",
     "text": [
      "datetime64[ns]\n"
     ]
    },
    {
     "data": {
      "text/html": [
       "<div>\n",
       "<style scoped>\n",
       "    .dataframe tbody tr th:only-of-type {\n",
       "        vertical-align: middle;\n",
       "    }\n",
       "\n",
       "    .dataframe tbody tr th {\n",
       "        vertical-align: top;\n",
       "    }\n",
       "\n",
       "    .dataframe thead th {\n",
       "        text-align: right;\n",
       "    }\n",
       "</style>\n",
       "<table border=\"1\" class=\"dataframe\">\n",
       "  <thead>\n",
       "    <tr style=\"text-align: right;\">\n",
       "      <th></th>\n",
       "      <th>active</th>\n",
       "    </tr>\n",
       "  </thead>\n",
       "  <tbody>\n",
       "    <tr>\n",
       "      <th>2020-03-02</th>\n",
       "      <td>1</td>\n",
       "    </tr>\n",
       "    <tr>\n",
       "      <th>2020-03-03</th>\n",
       "      <td>1</td>\n",
       "    </tr>\n",
       "    <tr>\n",
       "      <th>2020-03-04</th>\n",
       "      <td>1</td>\n",
       "    </tr>\n",
       "    <tr>\n",
       "      <th>2020-03-05</th>\n",
       "      <td>2</td>\n",
       "    </tr>\n",
       "    <tr>\n",
       "      <th>2020-03-06</th>\n",
       "      <td>2</td>\n",
       "    </tr>\n",
       "    <tr>\n",
       "      <th>...</th>\n",
       "      <td>...</td>\n",
       "    </tr>\n",
       "    <tr>\n",
       "      <th>2021-02-01</th>\n",
       "      <td>14360.6</td>\n",
       "    </tr>\n",
       "    <tr>\n",
       "      <th>2021-03-01</th>\n",
       "      <td>14360.6</td>\n",
       "    </tr>\n",
       "    <tr>\n",
       "      <th>2021-04-01</th>\n",
       "      <td>14360.6</td>\n",
       "    </tr>\n",
       "    <tr>\n",
       "      <th>2021-05-01</th>\n",
       "      <td>14360.6</td>\n",
       "    </tr>\n",
       "    <tr>\n",
       "      <th>2021-06-01</th>\n",
       "      <td>14360.6</td>\n",
       "    </tr>\n",
       "  </tbody>\n",
       "</table>\n",
       "<p>311 rows × 1 columns</p>\n",
       "</div>"
      ],
      "text/plain": [
       "             active\n",
       "2020-03-02        1\n",
       "2020-03-03        1\n",
       "2020-03-04        1\n",
       "2020-03-05        2\n",
       "2020-03-06        2\n",
       "...             ...\n",
       "2021-02-01  14360.6\n",
       "2021-03-01  14360.6\n",
       "2021-04-01  14360.6\n",
       "2021-05-01  14360.6\n",
       "2021-06-01  14360.6\n",
       "\n",
       "[311 rows x 1 columns]"
      ]
     },
     "execution_count": 123,
     "metadata": {},
     "output_type": "execute_result"
    }
   ],
   "source": [
    "a = show_future(afa, pbc_afa, 1)\n",
    "a\n",
    "# sns.lineplot(data=a)"
   ]
  },
  {
   "cell_type": "code",
   "execution_count": null,
   "metadata": {},
   "outputs": [],
   "source": [
    "# Declare a variable called forecast_period with the amount of months to forecast, and\n",
    "# create a range of future dates that is the length of the periods you've chosen to forecast\n",
    "forecast_period = 12\n",
    "\n",
    "# Convert that range into a dataframe that includes your predictions\n",
    "date_range = pd.date_range(y_log.index[-1], \n",
    "                           periods = forecast_period,\n",
    "                           freq='MS').strftime(\"%Y-%m-%d\").tolist()\n",
    "print(date_range)\n",
    "# Plot your future predictions\n",
    "future_months = pd.DataFrame(date_range, columns = ['Month'])\n",
    "future_months['Month'] = pd.to_datetime(future_months['Month'])\n",
    "future_months.set_index('Month', inplace = True)\n",
    "\n",
    "future_months['Prediction'] = pd.Series(dict(zip(date_range,(forecast[0]))),dtype='object')\n",
    "\n",
    "# Plot your future predictions\n",
    "plt.figure(figsize=(15,10))\n",
    "plt.plot(y_log)\n",
    "plt.plot(y_log[].append(future_months['Prediction']))\n",
    "plt.show()"
   ]
  },
  {
   "cell_type": "code",
   "execution_count": 23,
   "metadata": {},
   "outputs": [
    {
     "name": "stdout",
     "output_type": "stream",
     "text": [
      "active    19920281.0\n",
      "Name: 2020-12-31, dtype: float64\n"
     ]
    }
   ],
   "source": [
    "pbc_na.iloc[-1]"
   ]
  },
  {
   "cell_type": "code",
   "execution_count": null,
   "metadata": {},
   "outputs": [],
   "source": []
  }
 ],
 "metadata": {
  "kernelspec": {
   "display_name": "Python 3",
   "language": "python",
   "name": "python3"
  },
  "language_info": {
   "codemirror_mode": {
    "name": "ipython",
    "version": 3
   },
   "file_extension": ".py",
   "mimetype": "text/x-python",
   "name": "python",
   "nbconvert_exporter": "python",
   "pygments_lexer": "ipython3",
   "version": "3.8.5"
  }
 },
 "nbformat": 4,
 "nbformat_minor": 4
}
