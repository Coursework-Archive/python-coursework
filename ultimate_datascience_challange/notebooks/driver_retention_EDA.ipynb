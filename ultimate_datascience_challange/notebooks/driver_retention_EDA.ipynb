{
 "cells": [
  {
   "cell_type": "markdown",
   "metadata": {},
   "source": [
    "1. Aggregate the JSON File tiestamps based on 15 minute intervals \n",
    "2. Visualize/Describe timeseries of login counts in whats that best describe patterns of demand. i.e. *Daily Cycles* \n",
    "3. Identify quality issues\n",
    "4. What are the fraction of user retained"
   ]
  },
  {
   "cell_type": "markdown",
   "metadata": {},
   "source": [
    "### Imports"
   ]
  },
  {
   "cell_type": "code",
   "execution_count": 41,
   "metadata": {},
   "outputs": [],
   "source": [
    "import json\n",
    "import pandas as pd\n",
    "import numpy as np"
   ]
  },
  {
   "cell_type": "code",
   "execution_count": 2,
   "metadata": {},
   "outputs": [],
   "source": [
    "#Opeing JSON file \n",
    "f = open('../raw_data/logins.json')\n",
    "f1 = open('../raw_data/ultimate_data_challenge.json')\n",
    "\n",
    "#Return JSON object as dictionary\n",
    "logins = json.load(f)\n",
    "dmet = json.load(f1)"
   ]
  },
  {
   "cell_type": "code",
   "execution_count": 3,
   "metadata": {},
   "outputs": [],
   "source": [
    "#Convert login dictionary to dataframes\n",
    "logins = pd.DataFrame.from_dict(logins)\n",
    "\n",
    "#Convert driver metric dictionary to dataframe \n",
    "dmet = pd.DataFrame.from_dict(dmet)\n"
   ]
  },
  {
   "cell_type": "code",
   "execution_count": 4,
   "metadata": {
    "scrolled": false
   },
   "outputs": [
    {
     "data": {
      "text/html": [
       "<div>\n",
       "<style scoped>\n",
       "    .dataframe tbody tr th:only-of-type {\n",
       "        vertical-align: middle;\n",
       "    }\n",
       "\n",
       "    .dataframe tbody tr th {\n",
       "        vertical-align: top;\n",
       "    }\n",
       "\n",
       "    .dataframe thead th {\n",
       "        text-align: right;\n",
       "    }\n",
       "</style>\n",
       "<table border=\"1\" class=\"dataframe\">\n",
       "  <thead>\n",
       "    <tr style=\"text-align: right;\">\n",
       "      <th></th>\n",
       "      <th>login_time</th>\n",
       "    </tr>\n",
       "  </thead>\n",
       "  <tbody>\n",
       "    <tr>\n",
       "      <th>0</th>\n",
       "      <td>1970-01-01 20:13:18</td>\n",
       "    </tr>\n",
       "    <tr>\n",
       "      <th>1</th>\n",
       "      <td>1970-01-01 20:16:10</td>\n",
       "    </tr>\n",
       "    <tr>\n",
       "      <th>2</th>\n",
       "      <td>1970-01-01 20:16:37</td>\n",
       "    </tr>\n",
       "    <tr>\n",
       "      <th>3</th>\n",
       "      <td>1970-01-01 20:16:36</td>\n",
       "    </tr>\n",
       "    <tr>\n",
       "      <th>4</th>\n",
       "      <td>1970-01-01 20:26:21</td>\n",
       "    </tr>\n",
       "    <tr>\n",
       "      <th>5</th>\n",
       "      <td>1970-01-01 20:21:41</td>\n",
       "    </tr>\n",
       "    <tr>\n",
       "      <th>6</th>\n",
       "      <td>1970-01-01 20:12:16</td>\n",
       "    </tr>\n",
       "    <tr>\n",
       "      <th>7</th>\n",
       "      <td>1970-01-01 20:35:47</td>\n",
       "    </tr>\n",
       "    <tr>\n",
       "      <th>8</th>\n",
       "      <td>1970-01-01 20:35:38</td>\n",
       "    </tr>\n",
       "    <tr>\n",
       "      <th>9</th>\n",
       "      <td>1970-01-01 20:47:52</td>\n",
       "    </tr>\n",
       "  </tbody>\n",
       "</table>\n",
       "</div>"
      ],
      "text/plain": [
       "            login_time\n",
       "0  1970-01-01 20:13:18\n",
       "1  1970-01-01 20:16:10\n",
       "2  1970-01-01 20:16:37\n",
       "3  1970-01-01 20:16:36\n",
       "4  1970-01-01 20:26:21\n",
       "5  1970-01-01 20:21:41\n",
       "6  1970-01-01 20:12:16\n",
       "7  1970-01-01 20:35:47\n",
       "8  1970-01-01 20:35:38\n",
       "9  1970-01-01 20:47:52"
      ]
     },
     "execution_count": 4,
     "metadata": {},
     "output_type": "execute_result"
    }
   ],
   "source": [
    "logins.head(10)"
   ]
  },
  {
   "cell_type": "code",
   "execution_count": 5,
   "metadata": {},
   "outputs": [],
   "source": [
    "from datetime import datetime, timedelta \n",
    "\n",
    "#Convert Range Index to Array \n",
    "arr = logins.to_numpy()\n",
    "\n",
    "#Convert objects to timestamps\n",
    "time_arr = [pd.to_datetime(x, format=\"%Y-%m-%d %H:%M:%S\", errors='coerce') for x in arr]\n",
    "\n",
    "#Convert to DataFrame\n",
    "time_df = pd.DataFrame(time_arr)"
   ]
  },
  {
   "cell_type": "code",
   "execution_count": 6,
   "metadata": {},
   "outputs": [],
   "source": [
    "def feature_eng(df):\n",
    "    #Round to nearest 15 MINUTES\n",
    "    df['15 min inc'] = df[0].dt.round('15min')\n",
    "    \n",
    "    # Convert date data to ordinal for use with linear regression graph \n",
    "    df[\"time in ord\"]= df[\"15 min inc\"].map(datetime.toordinal)\n",
    "    \n",
    "    #Create DAILY CYCLE features\n",
    "    df[\"date\"] = [x.date() for x in df[\"15 min inc\"]]\n",
    "    df[\"date\"] = df[\"date\"].map(lambda x: x.replace(year=2014))\n",
    "    df[\"time\"] = [x.time() for x in df[\"15 min inc\"]]\n",
    "    df[\"month\"] = [x.month for x in df[\"date\"]]\n",
    "    df[\"day\"] = [x.day for x in df[\"date\"]]\n",
    "    df[\"hour\"] = [x.hour for x in df[\"time\"]]\n",
    "    df[\"DayofWeek\"] = [(x.weekday() + 1) for x in df[\"date\"]]\n",
    "    df['begin_of_month'] = (df['day'] < 10).astype('int32')\n",
    "    df['middle_of_month'] = ((df['day'] >= 10) & (df['day'] < 20)).astype('int32')\n",
    "    df['end_of_month'] = (df['day'] >= 20).astype('int32')\n",
    "    df['morning'] = df['hour'].map(lambda x: 1 if (x <= 11)& (x >= 7) else 0).astype('int32')\n",
    "    df['afternoon'] = df['hour'].map(lambda x: 1 if (x >= 12) & (x <= 18) else 0).astype('int32')\n",
    "    df['evening'] = df['hour'].map(lambda x: 1 if (x >= 19) & (x <= 23) else 0).astype('int32')\n",
    "    df['night'] = df['hour'].map(lambda x: 1 if (x >= 0) & (x <= 6) else 0).astype('int32')\n",
    "    df['winter'] = df['month'].map(lambda x: x in [12, 1, 2]).astype('int32')\n",
    "    df['spring'] = df['month'].map(lambda x: x in [3, 4, 5]).astype('int32')\n",
    "    df['summer'] = df['month'].map(lambda x: x in [6, 7, 8]).astype('int32')\n",
    "    df['autumn'] = df['month'].map(lambda x: x in [9, 10, 11]).astype('int32')\n",
    "    df['weekend'] = (df['DayofWeek'] >= 5).astype('int32') \n",
    "    df['weekday'] = (df['DayofWeek'] < 5).astype('int32')\n",
    "    \n",
    "    return df.drop(0, axis=1)"
   ]
  },
  {
   "cell_type": "code",
   "execution_count": 7,
   "metadata": {},
   "outputs": [
    {
     "data": {
      "text/html": [
       "<div>\n",
       "<style scoped>\n",
       "    .dataframe tbody tr th:only-of-type {\n",
       "        vertical-align: middle;\n",
       "    }\n",
       "\n",
       "    .dataframe tbody tr th {\n",
       "        vertical-align: top;\n",
       "    }\n",
       "\n",
       "    .dataframe thead th {\n",
       "        text-align: right;\n",
       "    }\n",
       "</style>\n",
       "<table border=\"1\" class=\"dataframe\">\n",
       "  <thead>\n",
       "    <tr style=\"text-align: right;\">\n",
       "      <th></th>\n",
       "      <th>15 min inc</th>\n",
       "      <th>time in ord</th>\n",
       "      <th>date</th>\n",
       "      <th>time</th>\n",
       "      <th>month</th>\n",
       "      <th>day</th>\n",
       "      <th>hour</th>\n",
       "      <th>DayofWeek</th>\n",
       "      <th>begin_of_month</th>\n",
       "      <th>middle_of_month</th>\n",
       "      <th>...</th>\n",
       "      <th>morning</th>\n",
       "      <th>afternoon</th>\n",
       "      <th>evening</th>\n",
       "      <th>night</th>\n",
       "      <th>winter</th>\n",
       "      <th>spring</th>\n",
       "      <th>summer</th>\n",
       "      <th>autumn</th>\n",
       "      <th>weekend</th>\n",
       "      <th>weekday</th>\n",
       "    </tr>\n",
       "  </thead>\n",
       "  <tbody>\n",
       "    <tr>\n",
       "      <th>93137</th>\n",
       "      <td>1970-04-13 18:45:00</td>\n",
       "      <td>719265</td>\n",
       "      <td>2014-04-13</td>\n",
       "      <td>18:45:00</td>\n",
       "      <td>4</td>\n",
       "      <td>13</td>\n",
       "      <td>18</td>\n",
       "      <td>7</td>\n",
       "      <td>0</td>\n",
       "      <td>1</td>\n",
       "      <td>...</td>\n",
       "      <td>0</td>\n",
       "      <td>1</td>\n",
       "      <td>0</td>\n",
       "      <td>0</td>\n",
       "      <td>0</td>\n",
       "      <td>1</td>\n",
       "      <td>0</td>\n",
       "      <td>0</td>\n",
       "      <td>1</td>\n",
       "      <td>0</td>\n",
       "    </tr>\n",
       "    <tr>\n",
       "      <th>93138</th>\n",
       "      <td>1970-04-13 18:45:00</td>\n",
       "      <td>719265</td>\n",
       "      <td>2014-04-13</td>\n",
       "      <td>18:45:00</td>\n",
       "      <td>4</td>\n",
       "      <td>13</td>\n",
       "      <td>18</td>\n",
       "      <td>7</td>\n",
       "      <td>0</td>\n",
       "      <td>1</td>\n",
       "      <td>...</td>\n",
       "      <td>0</td>\n",
       "      <td>1</td>\n",
       "      <td>0</td>\n",
       "      <td>0</td>\n",
       "      <td>0</td>\n",
       "      <td>1</td>\n",
       "      <td>0</td>\n",
       "      <td>0</td>\n",
       "      <td>1</td>\n",
       "      <td>0</td>\n",
       "    </tr>\n",
       "    <tr>\n",
       "      <th>93139</th>\n",
       "      <td>1970-04-13 19:00:00</td>\n",
       "      <td>719265</td>\n",
       "      <td>2014-04-13</td>\n",
       "      <td>19:00:00</td>\n",
       "      <td>4</td>\n",
       "      <td>13</td>\n",
       "      <td>19</td>\n",
       "      <td>7</td>\n",
       "      <td>0</td>\n",
       "      <td>1</td>\n",
       "      <td>...</td>\n",
       "      <td>0</td>\n",
       "      <td>0</td>\n",
       "      <td>1</td>\n",
       "      <td>0</td>\n",
       "      <td>0</td>\n",
       "      <td>1</td>\n",
       "      <td>0</td>\n",
       "      <td>0</td>\n",
       "      <td>1</td>\n",
       "      <td>0</td>\n",
       "    </tr>\n",
       "    <tr>\n",
       "      <th>93140</th>\n",
       "      <td>1970-04-13 19:00:00</td>\n",
       "      <td>719265</td>\n",
       "      <td>2014-04-13</td>\n",
       "      <td>19:00:00</td>\n",
       "      <td>4</td>\n",
       "      <td>13</td>\n",
       "      <td>19</td>\n",
       "      <td>7</td>\n",
       "      <td>0</td>\n",
       "      <td>1</td>\n",
       "      <td>...</td>\n",
       "      <td>0</td>\n",
       "      <td>0</td>\n",
       "      <td>1</td>\n",
       "      <td>0</td>\n",
       "      <td>0</td>\n",
       "      <td>1</td>\n",
       "      <td>0</td>\n",
       "      <td>0</td>\n",
       "      <td>1</td>\n",
       "      <td>0</td>\n",
       "    </tr>\n",
       "    <tr>\n",
       "      <th>93141</th>\n",
       "      <td>1970-04-13 19:00:00</td>\n",
       "      <td>719265</td>\n",
       "      <td>2014-04-13</td>\n",
       "      <td>19:00:00</td>\n",
       "      <td>4</td>\n",
       "      <td>13</td>\n",
       "      <td>19</td>\n",
       "      <td>7</td>\n",
       "      <td>0</td>\n",
       "      <td>1</td>\n",
       "      <td>...</td>\n",
       "      <td>0</td>\n",
       "      <td>0</td>\n",
       "      <td>1</td>\n",
       "      <td>0</td>\n",
       "      <td>0</td>\n",
       "      <td>1</td>\n",
       "      <td>0</td>\n",
       "      <td>0</td>\n",
       "      <td>1</td>\n",
       "      <td>0</td>\n",
       "    </tr>\n",
       "  </tbody>\n",
       "</table>\n",
       "<p>5 rows × 21 columns</p>\n",
       "</div>"
      ],
      "text/plain": [
       "               15 min inc  time in ord        date      time  month  day  \\\n",
       "93137 1970-04-13 18:45:00       719265  2014-04-13  18:45:00      4   13   \n",
       "93138 1970-04-13 18:45:00       719265  2014-04-13  18:45:00      4   13   \n",
       "93139 1970-04-13 19:00:00       719265  2014-04-13  19:00:00      4   13   \n",
       "93140 1970-04-13 19:00:00       719265  2014-04-13  19:00:00      4   13   \n",
       "93141 1970-04-13 19:00:00       719265  2014-04-13  19:00:00      4   13   \n",
       "\n",
       "       hour  DayofWeek  begin_of_month  middle_of_month  ...  morning  \\\n",
       "93137    18          7               0                1  ...        0   \n",
       "93138    18          7               0                1  ...        0   \n",
       "93139    19          7               0                1  ...        0   \n",
       "93140    19          7               0                1  ...        0   \n",
       "93141    19          7               0                1  ...        0   \n",
       "\n",
       "       afternoon  evening  night  winter  spring  summer  autumn  weekend  \\\n",
       "93137          1        0      0       0       1       0       0        1   \n",
       "93138          1        0      0       0       1       0       0        1   \n",
       "93139          0        1      0       0       1       0       0        1   \n",
       "93140          0        1      0       0       1       0       0        1   \n",
       "93141          0        1      0       0       1       0       0        1   \n",
       "\n",
       "       weekday  \n",
       "93137        0  \n",
       "93138        0  \n",
       "93139        0  \n",
       "93140        0  \n",
       "93141        0  \n",
       "\n",
       "[5 rows x 21 columns]"
      ]
     },
     "execution_count": 7,
     "metadata": {},
     "output_type": "execute_result"
    }
   ],
   "source": [
    "df = feature_eng(time_df)\n",
    "df.tail()"
   ]
  },
  {
   "cell_type": "code",
   "execution_count": 8,
   "metadata": {},
   "outputs": [],
   "source": [
    "col = [\"month\",\"weekend\", \"weekday\", \"begin_of_month\", \"middle_of_month\", \"end_of_month\", \"morning\", \"afternoon\", \"evening\", \"night\", \"winter\", \"spring\", \"summer\", \"autumn\"]\n",
    "daily_df = pd.DataFrame(df, columns=col)"
   ]
  },
  {
   "cell_type": "code",
   "execution_count": 9,
   "metadata": {
    "scrolled": true
   },
   "outputs": [
    {
     "data": {
      "image/png": "[encoded data removed]",
      "text/plain": [
       "<Figure size 432x432 with 3 Axes>"
      ]
     },
     "metadata": {},
     "output_type": "display_data"
    }
   ],
   "source": [
    "import seaborn as sns \n",
    "\n",
    "sns.set_theme(style=\"darkgrid\")\n",
    "\n",
    "#Graph the values in a jointplot \n",
    "g = sns.jointplot(data=df['time in ord'], \n",
    "                  kind=\"reg\",\n",
    "                  color=\"m\")"
   ]
  },
  {
   "cell_type": "code",
   "execution_count": 10,
   "metadata": {
    "scrolled": false
   },
   "outputs": [
    {
     "data": {
      "text/html": [
       "<div>\n",
       "<style scoped>\n",
       "    .dataframe tbody tr th:only-of-type {\n",
       "        vertical-align: middle;\n",
       "    }\n",
       "\n",
       "    .dataframe tbody tr th {\n",
       "        vertical-align: top;\n",
       "    }\n",
       "\n",
       "    .dataframe thead th {\n",
       "        text-align: right;\n",
       "    }\n",
       "</style>\n",
       "<table border=\"1\" class=\"dataframe\">\n",
       "  <thead>\n",
       "    <tr style=\"text-align: right;\">\n",
       "      <th>month</th>\n",
       "      <th>1</th>\n",
       "      <th>2</th>\n",
       "      <th>3</th>\n",
       "      <th>4</th>\n",
       "    </tr>\n",
       "  </thead>\n",
       "  <tbody>\n",
       "    <tr>\n",
       "      <th>weekend</th>\n",
       "      <td>10221</td>\n",
       "      <td>12222</td>\n",
       "      <td>17173</td>\n",
       "      <td>6839</td>\n",
       "    </tr>\n",
       "    <tr>\n",
       "      <th>weekday</th>\n",
       "      <td>11014</td>\n",
       "      <td>12448</td>\n",
       "      <td>16550</td>\n",
       "      <td>6675</td>\n",
       "    </tr>\n",
       "    <tr>\n",
       "      <th>begin_of_month</th>\n",
       "      <td>5520</td>\n",
       "      <td>6957</td>\n",
       "      <td>9293</td>\n",
       "      <td>9342</td>\n",
       "    </tr>\n",
       "    <tr>\n",
       "      <th>middle_of_month</th>\n",
       "      <td>7562</td>\n",
       "      <td>8385</td>\n",
       "      <td>11496</td>\n",
       "      <td>4172</td>\n",
       "    </tr>\n",
       "    <tr>\n",
       "      <th>end_of_month</th>\n",
       "      <td>8153</td>\n",
       "      <td>9328</td>\n",
       "      <td>12934</td>\n",
       "      <td>0</td>\n",
       "    </tr>\n",
       "    <tr>\n",
       "      <th>morning</th>\n",
       "      <td>2640</td>\n",
       "      <td>3093</td>\n",
       "      <td>4070</td>\n",
       "      <td>1544</td>\n",
       "    </tr>\n",
       "    <tr>\n",
       "      <th>afternoon</th>\n",
       "      <td>5804</td>\n",
       "      <td>6200</td>\n",
       "      <td>8532</td>\n",
       "      <td>3291</td>\n",
       "    </tr>\n",
       "    <tr>\n",
       "      <th>evening</th>\n",
       "      <td>5283</td>\n",
       "      <td>6859</td>\n",
       "      <td>9482</td>\n",
       "      <td>3640</td>\n",
       "    </tr>\n",
       "    <tr>\n",
       "      <th>night</th>\n",
       "      <td>7508</td>\n",
       "      <td>8518</td>\n",
       "      <td>11639</td>\n",
       "      <td>5039</td>\n",
       "    </tr>\n",
       "    <tr>\n",
       "      <th>winter</th>\n",
       "      <td>21235</td>\n",
       "      <td>24670</td>\n",
       "      <td>0</td>\n",
       "      <td>0</td>\n",
       "    </tr>\n",
       "    <tr>\n",
       "      <th>spring</th>\n",
       "      <td>0</td>\n",
       "      <td>0</td>\n",
       "      <td>33723</td>\n",
       "      <td>13514</td>\n",
       "    </tr>\n",
       "    <tr>\n",
       "      <th>summer</th>\n",
       "      <td>0</td>\n",
       "      <td>0</td>\n",
       "      <td>0</td>\n",
       "      <td>0</td>\n",
       "    </tr>\n",
       "    <tr>\n",
       "      <th>autumn</th>\n",
       "      <td>0</td>\n",
       "      <td>0</td>\n",
       "      <td>0</td>\n",
       "      <td>0</td>\n",
       "    </tr>\n",
       "  </tbody>\n",
       "</table>\n",
       "</div>"
      ],
      "text/plain": [
       "month                1      2      3      4\n",
       "weekend          10221  12222  17173   6839\n",
       "weekday          11014  12448  16550   6675\n",
       "begin_of_month    5520   6957   9293   9342\n",
       "middle_of_month   7562   8385  11496   4172\n",
       "end_of_month      8153   9328  12934      0\n",
       "morning           2640   3093   4070   1544\n",
       "afternoon         5804   6200   8532   3291\n",
       "evening           5283   6859   9482   3640\n",
       "night             7508   8518  11639   5039\n",
       "winter           21235  24670      0      0\n",
       "spring               0      0  33723  13514\n",
       "summer               0      0      0      0\n",
       "autumn               0      0      0      0"
      ]
     },
     "execution_count": 10,
     "metadata": {},
     "output_type": "execute_result"
    }
   ],
   "source": [
    "monthly_fre = daily_df.groupby(\"month\").sum()\n",
    "monthly_fre.T"
   ]
  },
  {
   "cell_type": "markdown",
   "metadata": {},
   "source": [
    "### Login Analysis\n",
    "\n",
    "Given the number of days in a week and number of days in a weekend it appears as though the number of people that are logging in on the weekend outnumber the number of people that are logging in during the week. There is an increase of logins for each attribute as the months progress until you get to April and this data only includes half of the month. The monthly login cycle is lower in the beginning and increases throughout and is highest at the end of each month. There are less logins during the morning increases in the afternoon and is at peak during the night. This include partial data for spring and winter none of the other season are included. "
   ]
  },
  {
   "cell_type": "markdown",
   "metadata": {},
   "source": [
    "### Quality Issues \n",
    "\n",
    "Quality issues with this data are that the timestamps were simulated and at the \"beginning of time\" 1970-01-01. I inferred the date based on the information that was given in the pdf. There is no indication of any timezone. The morning, afternoon and night calculation could be skewed by this lack of information. The seasonal trend is based on a US timezones. "
   ]
  },
  {
   "cell_type": "code",
   "execution_count": 11,
   "metadata": {
    "scrolled": true
   },
   "outputs": [
    {
     "name": "stdout",
     "output_type": "stream",
     "text": [
      "<class 'pandas.core.frame.DataFrame'>\n",
      "RangeIndex: 50000 entries, 0 to 49999\n",
      "Data columns (total 12 columns):\n",
      " #   Column                  Non-Null Count  Dtype  \n",
      "---  ------                  --------------  -----  \n",
      " 0   city                    50000 non-null  object \n",
      " 1   trips_in_first_30_days  50000 non-null  int64  \n",
      " 2   signup_date             50000 non-null  object \n",
      " 3   avg_rating_of_driver    41878 non-null  float64\n",
      " 4   avg_surge               50000 non-null  float64\n",
      " 5   last_trip_date          50000 non-null  object \n",
      " 6   phone                   49604 non-null  object \n",
      " 7   surge_pct               50000 non-null  float64\n",
      " 8   ultimate_black_user     50000 non-null  bool   \n",
      " 9   weekday_pct             50000 non-null  float64\n",
      " 10  avg_dist                50000 non-null  float64\n",
      " 11  avg_rating_by_driver    49799 non-null  float64\n",
      "dtypes: bool(1), float64(6), int64(1), object(4)\n",
      "memory usage: 4.2+ MB\n"
     ]
    }
   ],
   "source": [
    "dmet.info()"
   ]
  },
  {
   "cell_type": "code",
   "execution_count": 12,
   "metadata": {
    "scrolled": true
   },
   "outputs": [
    {
     "data": {
      "text/plain": [
       "avg_rating_of_driver    8122\n",
       "avg_rating_by_driver     201\n",
       "dtype: int64"
      ]
     },
     "execution_count": 12,
     "metadata": {},
     "output_type": "execute_result"
    }
   ],
   "source": [
    "dmet[['avg_rating_of_driver','avg_rating_by_driver']].isna().sum()"
   ]
  },
  {
   "cell_type": "code",
   "execution_count": 16,
   "metadata": {
    "scrolled": true
   },
   "outputs": [
    {
     "data": {
      "text/html": [
       "<div>\n",
       "<style scoped>\n",
       "    .dataframe tbody tr th:only-of-type {\n",
       "        vertical-align: middle;\n",
       "    }\n",
       "\n",
       "    .dataframe tbody tr th {\n",
       "        vertical-align: top;\n",
       "    }\n",
       "\n",
       "    .dataframe thead th {\n",
       "        text-align: right;\n",
       "    }\n",
       "</style>\n",
       "<table border=\"1\" class=\"dataframe\">\n",
       "  <thead>\n",
       "    <tr style=\"text-align: right;\">\n",
       "      <th></th>\n",
       "      <th>trips_in_first_30_days</th>\n",
       "      <th>signup_date</th>\n",
       "      <th>avg_rating_of_driver</th>\n",
       "      <th>avg_surge</th>\n",
       "      <th>last_trip_date</th>\n",
       "      <th>phone</th>\n",
       "      <th>surge_pct</th>\n",
       "      <th>ultimate_black_user</th>\n",
       "      <th>weekday_pct</th>\n",
       "      <th>avg_dist</th>\n",
       "      <th>avg_rating_by_driver</th>\n",
       "    </tr>\n",
       "    <tr>\n",
       "      <th>city</th>\n",
       "      <th></th>\n",
       "      <th></th>\n",
       "      <th></th>\n",
       "      <th></th>\n",
       "      <th></th>\n",
       "      <th></th>\n",
       "      <th></th>\n",
       "      <th></th>\n",
       "      <th></th>\n",
       "      <th></th>\n",
       "      <th></th>\n",
       "    </tr>\n",
       "  </thead>\n",
       "  <tbody>\n",
       "    <tr>\n",
       "      <th>Astapor</th>\n",
       "      <td>16534</td>\n",
       "      <td>16534</td>\n",
       "      <td>13647</td>\n",
       "      <td>16534</td>\n",
       "      <td>16534</td>\n",
       "      <td>16413</td>\n",
       "      <td>16534</td>\n",
       "      <td>16534</td>\n",
       "      <td>16534</td>\n",
       "      <td>16534</td>\n",
       "      <td>16476</td>\n",
       "    </tr>\n",
       "    <tr>\n",
       "      <th>King's Landing</th>\n",
       "      <td>10130</td>\n",
       "      <td>10130</td>\n",
       "      <td>8847</td>\n",
       "      <td>10130</td>\n",
       "      <td>10130</td>\n",
       "      <td>10066</td>\n",
       "      <td>10130</td>\n",
       "      <td>10130</td>\n",
       "      <td>10130</td>\n",
       "      <td>10130</td>\n",
       "      <td>10090</td>\n",
       "    </tr>\n",
       "    <tr>\n",
       "      <th>Winterfell</th>\n",
       "      <td>23336</td>\n",
       "      <td>23336</td>\n",
       "      <td>19384</td>\n",
       "      <td>23336</td>\n",
       "      <td>23336</td>\n",
       "      <td>23125</td>\n",
       "      <td>23336</td>\n",
       "      <td>23336</td>\n",
       "      <td>23336</td>\n",
       "      <td>23336</td>\n",
       "      <td>23233</td>\n",
       "    </tr>\n",
       "  </tbody>\n",
       "</table>\n",
       "</div>"
      ],
      "text/plain": [
       "                trips_in_first_30_days  signup_date  avg_rating_of_driver  \\\n",
       "city                                                                        \n",
       "Astapor                          16534        16534                 13647   \n",
       "King's Landing                   10130        10130                  8847   \n",
       "Winterfell                       23336        23336                 19384   \n",
       "\n",
       "                avg_surge  last_trip_date  phone  surge_pct  \\\n",
       "city                                                          \n",
       "Astapor             16534           16534  16413      16534   \n",
       "King's Landing      10130           10130  10066      10130   \n",
       "Winterfell          23336           23336  23125      23336   \n",
       "\n",
       "                ultimate_black_user  weekday_pct  avg_dist  \\\n",
       "city                                                         \n",
       "Astapor                       16534        16534     16534   \n",
       "King's Landing                10130        10130     10130   \n",
       "Winterfell                    23336        23336     23336   \n",
       "\n",
       "                avg_rating_by_driver  \n",
       "city                                  \n",
       "Astapor                        16476  \n",
       "King's Landing                 10090  \n",
       "Winterfell                     23233  "
      ]
     },
     "execution_count": 16,
     "metadata": {},
     "output_type": "execute_result"
    }
   ],
   "source": [
    "dmet.groupby('city').count()"
   ]
  },
  {
   "cell_type": "code",
   "execution_count": 50,
   "metadata": {
    "scrolled": true
   },
   "outputs": [
    {
     "data": {
      "text/html": [
       "<div>\n",
       "<style scoped>\n",
       "    .dataframe tbody tr th:only-of-type {\n",
       "        vertical-align: middle;\n",
       "    }\n",
       "\n",
       "    .dataframe tbody tr th {\n",
       "        vertical-align: top;\n",
       "    }\n",
       "\n",
       "    .dataframe thead th {\n",
       "        text-align: right;\n",
       "    }\n",
       "</style>\n",
       "<table border=\"1\" class=\"dataframe\">\n",
       "  <thead>\n",
       "    <tr style=\"text-align: right;\">\n",
       "      <th></th>\n",
       "      <th>city</th>\n",
       "      <th>trips_in_first_30_days</th>\n",
       "      <th>signup_date</th>\n",
       "      <th>last_trip_date</th>\n",
       "      <th>weekday_pct</th>\n",
       "      <th>avg_dist</th>\n",
       "    </tr>\n",
       "  </thead>\n",
       "  <tbody>\n",
       "    <tr>\n",
       "      <th>0</th>\n",
       "      <td>King's Landing</td>\n",
       "      <td>4</td>\n",
       "      <td>2014-01-25</td>\n",
       "      <td>2014-06-17</td>\n",
       "      <td>46.2</td>\n",
       "      <td>3.67</td>\n",
       "    </tr>\n",
       "    <tr>\n",
       "      <th>1</th>\n",
       "      <td>Astapor</td>\n",
       "      <td>0</td>\n",
       "      <td>2014-01-29</td>\n",
       "      <td>2014-05-05</td>\n",
       "      <td>50.0</td>\n",
       "      <td>8.26</td>\n",
       "    </tr>\n",
       "    <tr>\n",
       "      <th>2</th>\n",
       "      <td>Astapor</td>\n",
       "      <td>3</td>\n",
       "      <td>2014-01-06</td>\n",
       "      <td>2014-01-07</td>\n",
       "      <td>100.0</td>\n",
       "      <td>0.77</td>\n",
       "    </tr>\n",
       "    <tr>\n",
       "      <th>3</th>\n",
       "      <td>King's Landing</td>\n",
       "      <td>9</td>\n",
       "      <td>2014-01-10</td>\n",
       "      <td>2014-06-29</td>\n",
       "      <td>80.0</td>\n",
       "      <td>2.36</td>\n",
       "    </tr>\n",
       "    <tr>\n",
       "      <th>4</th>\n",
       "      <td>Winterfell</td>\n",
       "      <td>14</td>\n",
       "      <td>2014-01-27</td>\n",
       "      <td>2014-03-15</td>\n",
       "      <td>82.4</td>\n",
       "      <td>3.13</td>\n",
       "    </tr>\n",
       "  </tbody>\n",
       "</table>\n",
       "</div>"
      ],
      "text/plain": [
       "             city  trips_in_first_30_days signup_date last_trip_date  \\\n",
       "0  King's Landing                       4  2014-01-25     2014-06-17   \n",
       "1         Astapor                       0  2014-01-29     2014-05-05   \n",
       "2         Astapor                       3  2014-01-06     2014-01-07   \n",
       "3  King's Landing                       9  2014-01-10     2014-06-29   \n",
       "4      Winterfell                      14  2014-01-27     2014-03-15   \n",
       "\n",
       "   weekday_pct  avg_dist  \n",
       "0         46.2      3.67  \n",
       "1         50.0      8.26  \n",
       "2        100.0      0.77  \n",
       "3         80.0      2.36  \n",
       "4         82.4      3.13  "
      ]
     },
     "execution_count": 50,
     "metadata": {},
     "output_type": "execute_result"
    }
   ],
   "source": [
    "drivers = dmet[[\"city\", \"trips_in_first_30_days\", \"signup_date\", \"last_trip_date\", \"weekday_pct\", \"avg_dist\"]]\n",
    "drivers.head(5)"
   ]
  },
  {
   "cell_type": "code",
   "execution_count": 51,
   "metadata": {
    "scrolled": false
   },
   "outputs": [
    {
     "data": {
      "text/plain": [
       "'2014-07-01'"
      ]
     },
     "execution_count": 51,
     "metadata": {},
     "output_type": "execute_result"
    }
   ],
   "source": [
    "drivers['last_trip_date'].max()"
   ]
  },
  {
   "cell_type": "code",
   "execution_count": 52,
   "metadata": {
    "scrolled": true
   },
   "outputs": [
    {
     "data": {
      "text/plain": [
       "'2014-01-01'"
      ]
     },
     "execution_count": 52,
     "metadata": {},
     "output_type": "execute_result"
    }
   ],
   "source": [
    "drivers['signup_date'].min()"
   ]
  },
  {
   "cell_type": "code",
   "execution_count": 53,
   "metadata": {
    "scrolled": true
   },
   "outputs": [
    {
     "name": "stdout",
     "output_type": "stream",
     "text": [
      "<class 'pandas.core.frame.DataFrame'>\n",
      "RangeIndex: 50000 entries, 0 to 49999\n",
      "Data columns (total 6 columns):\n",
      " #   Column                  Non-Null Count  Dtype         \n",
      "---  ------                  --------------  -----         \n",
      " 0   city                    50000 non-null  object        \n",
      " 1   trips_in_first_30_days  50000 non-null  int64         \n",
      " 2   signup_date             50000 non-null  datetime64[ns]\n",
      " 3   last_trip_date          50000 non-null  datetime64[ns]\n",
      " 4   weekday_pct             50000 non-null  float64       \n",
      " 5   avg_dist                50000 non-null  float64       \n",
      "dtypes: datetime64[ns](2), float64(2), int64(1), object(1)\n",
      "memory usage: 2.3+ MB\n"
     ]
    },
    {
     "name": "stderr",
     "output_type": "stream",
     "text": [
      "<ipython-input-53-bc4b3f46518e>:1: SettingWithCopyWarning: \n",
      "A value is trying to be set on a copy of a slice from a DataFrame.\n",
      "Try using .loc[row_indexer,col_indexer] = value instead\n",
      "\n",
      "See the caveats in the documentation: https://pandas.pydata.org/pandas-docs/stable/user_guide/indexing.html#returning-a-view-versus-a-copy\n",
      "  drivers['signup_date'] = pd.to_datetime(drivers.loc[:,'signup_date'])\n",
      "<ipython-input-53-bc4b3f46518e>:2: SettingWithCopyWarning: \n",
      "A value is trying to be set on a copy of a slice from a DataFrame.\n",
      "Try using .loc[row_indexer,col_indexer] = value instead\n",
      "\n",
      "See the caveats in the documentation: https://pandas.pydata.org/pandas-docs/stable/user_guide/indexing.html#returning-a-view-versus-a-copy\n",
      "  drivers['last_trip_date'] = pd.to_datetime(drivers.loc[:,'last_trip_date'])\n"
     ]
    }
   ],
   "source": [
    "drivers['signup_date'] = pd.to_datetime(drivers.loc[:,'signup_date'])\n",
    "drivers['last_trip_date'] = pd.to_datetime(drivers.loc[:,'last_trip_date'])\n",
    "drivers.info()"
   ]
  },
  {
   "cell_type": "code",
   "execution_count": 54,
   "metadata": {
    "scrolled": true
   },
   "outputs": [
    {
     "name": "stderr",
     "output_type": "stream",
     "text": [
      "<ipython-input-54-39e91c503fdb>:1: SettingWithCopyWarning: \n",
      "A value is trying to be set on a copy of a slice from a DataFrame.\n",
      "Try using .loc[row_indexer,col_indexer] = value instead\n",
      "\n",
      "See the caveats in the documentation: https://pandas.pydata.org/pandas-docs/stable/user_guide/indexing.html#returning-a-view-versus-a-copy\n",
      "  drivers['months_with_company'] = ((drivers['last_trip_date'] - drivers['signup_date']) / np.timedelta64(1, 'M'))\n",
      "<ipython-input-54-39e91c503fdb>:2: SettingWithCopyWarning: \n",
      "A value is trying to be set on a copy of a slice from a DataFrame.\n",
      "Try using .loc[row_indexer,col_indexer] = value instead\n",
      "\n",
      "See the caveats in the documentation: https://pandas.pydata.org/pandas-docs/stable/user_guide/indexing.html#returning-a-view-versus-a-copy\n",
      "  drivers['months_with_company'] = drivers['months_with_company'].astype(int)\n"
     ]
    }
   ],
   "source": [
    "drivers['months_with_company'] = ((drivers['last_trip_date'] - drivers['signup_date']) / np.timedelta64(1, 'M'))\n",
    "drivers['months_with_company'] = drivers['months_with_company'].astype(int)"
   ]
  },
  {
   "cell_type": "code",
   "execution_count": 89,
   "metadata": {},
   "outputs": [
    {
     "data": {
      "text/html": [
       "<div>\n",
       "<style scoped>\n",
       "    .dataframe tbody tr th:only-of-type {\n",
       "        vertical-align: middle;\n",
       "    }\n",
       "\n",
       "    .dataframe tbody tr th {\n",
       "        vertical-align: top;\n",
       "    }\n",
       "\n",
       "    .dataframe thead th {\n",
       "        text-align: right;\n",
       "    }\n",
       "</style>\n",
       "<table border=\"1\" class=\"dataframe\">\n",
       "  <thead>\n",
       "    <tr style=\"text-align: right;\">\n",
       "      <th></th>\n",
       "      <th>count</th>\n",
       "      <th>frac_ret</th>\n",
       "    </tr>\n",
       "    <tr>\n",
       "      <th>months_with_company</th>\n",
       "      <th></th>\n",
       "      <th></th>\n",
       "    </tr>\n",
       "  </thead>\n",
       "  <tbody>\n",
       "    <tr>\n",
       "      <th>0</th>\n",
       "      <td>13027</td>\n",
       "      <td>0.26054</td>\n",
       "    </tr>\n",
       "    <tr>\n",
       "      <th>1</th>\n",
       "      <td>4036</td>\n",
       "      <td>0.08072</td>\n",
       "    </tr>\n",
       "    <tr>\n",
       "      <th>2</th>\n",
       "      <td>4615</td>\n",
       "      <td>0.09230</td>\n",
       "    </tr>\n",
       "    <tr>\n",
       "      <th>3</th>\n",
       "      <td>6075</td>\n",
       "      <td>0.12150</td>\n",
       "    </tr>\n",
       "    <tr>\n",
       "      <th>4</th>\n",
       "      <td>11053</td>\n",
       "      <td>0.22106</td>\n",
       "    </tr>\n",
       "    <tr>\n",
       "      <th>5</th>\n",
       "      <td>11194</td>\n",
       "      <td>0.22388</td>\n",
       "    </tr>\n",
       "  </tbody>\n",
       "</table>\n",
       "</div>"
      ],
      "text/plain": [
       "                     count  frac_ret\n",
       "months_with_company                 \n",
       "0                    13027   0.26054\n",
       "1                     4036   0.08072\n",
       "2                     4615   0.09230\n",
       "3                     6075   0.12150\n",
       "4                    11053   0.22106\n",
       "5                    11194   0.22388"
      ]
     },
     "execution_count": 89,
     "metadata": {},
     "output_type": "execute_result"
    }
   ],
   "source": [
    "retention = drivers.groupby(['months_with_company']).count()\n",
    "retention['count'] = retention['city']\n",
    "total_drivers = retention['count'].sum()\n",
    "retention['frac_ret'] = (retention['count']/total_drivers)\n",
    "retention[['count','frac_ret']]"
   ]
  },
  {
   "cell_type": "code",
   "execution_count": 81,
   "metadata": {
    "scrolled": false
   },
   "outputs": [
    {
     "data": {
      "text/plain": [
       "months_with_company  city          \n",
       "0                    Winterfell        6459\n",
       "5                    Winterfell        5066\n",
       "0                    Astapor           4904\n",
       "4                    Winterfell        4789\n",
       "5                    King's Landing    3659\n",
       "4                    Astapor           3146\n",
       "                     King's Landing    3118\n",
       "3                    Winterfell        2810\n",
       "                     Astapor           2609\n",
       "5                    Astapor           2469\n",
       "2                    Winterfell        2185\n",
       "1                    Winterfell        2027\n",
       "2                    Astapor           1875\n",
       "0                    King's Landing    1664\n",
       "1                    Astapor           1531\n",
       "3                    King's Landing     656\n",
       "2                    King's Landing     555\n",
       "1                    King's Landing     478\n",
       "Name: driver_count, dtype: int64"
      ]
     },
     "execution_count": 81,
     "metadata": {},
     "output_type": "execute_result"
    }
   ],
   "source": [
    "retention = drivers.groupby(['months_with_company', 'city']).count()\n",
    "r_sort = retention.sort_values('avg_dist', ascending=False)\n",
    "r_sort['driver_count'] = r_sort['avg_dist']\n",
    "r_sort['driver_count']"
   ]
  },
  {
   "cell_type": "markdown",
   "metadata": {},
   "source": [
    "### Driver Analysis\n",
    "There are three cities that are included in this sample: Astapor, King's Landing and Winterfell. There are more people that are new drivers than any other group. The people that have been with the company the longest are second-most, for this sample they have only been with company for 5 months. The cities that have the least people driving are in King's Landing and the most is Winterfell. The fraction of users retained is: 5 months = 22%, 4 months = 23%, 3 months = 12%, 2 months = 9%, 1 months = 8%, 0 months = 26%. "
   ]
  },
  {
   "cell_type": "markdown",
   "metadata": {},
   "source": [
    "### Quality Issues \n",
    "\n",
    "There are rating values that are missing for average rating of driver and average rating BY driver. These columns will not be included along with the following: avg_surge, surge_pct, phone, ultimate_black_user. The experiment is to asses the availability of these drivers in each city."
   ]
  },
  {
   "cell_type": "markdown",
   "metadata": {},
   "source": [
    "### Export Cleaned Table"
   ]
  },
  {
   "cell_type": "code",
   "execution_count": 85,
   "metadata": {},
   "outputs": [],
   "source": [
    "drivers.to_csv(\"../data/drivers.csv\")"
   ]
  }
 ],
 "metadata": {
  "kernelspec": {
   "display_name": "Python 3",
   "language": "python",
   "name": "python3"
  },
  "language_info": {
   "codemirror_mode": {
    "name": "ipython",
    "version": 3
   },
   "file_extension": ".py",
   "mimetype": "text/x-python",
   "name": "python",
   "nbconvert_exporter": "python",
   "pygments_lexer": "ipython3",
   "version": "3.8.5"
  }
 },
 "nbformat": 4,
 "nbformat_minor": 4
}
