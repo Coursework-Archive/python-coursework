{
 "cells": [
  {
   "cell_type": "markdown",
   "metadata": {},
   "source": [
    "1. Aggregate the JSON File tiestamps based on 15 minute intervals \n",
    "2. Visualize \n",
    "    i. Describe timeseries of login counts in whats that best describe patterns of demand. i.e. *Daily Cycles* \n",
    "3. Identify quality issues"
   ]
  },
  {
   "cell_type": "markdown",
   "metadata": {},
   "source": [
    "### Imports"
   ]
  },
  {
   "cell_type": "code",
   "execution_count": 1,
   "metadata": {},
   "outputs": [],
   "source": [
    "import json\n",
    "import pandas as pd"
   ]
  },
  {
   "cell_type": "code",
   "execution_count": 2,
   "metadata": {},
   "outputs": [],
   "source": [
    "#Opeing JSON file \n",
    "f = open('../raw_data/logins.json')\n",
    "f1 = open('../raw_data/ultimate_data_challenge.json')\n",
    "\n",
    "#Return JSON object as dictionary\n",
    "logins = json.load(f)\n",
    "dmet = json.load(f1)"
   ]
  },
  {
   "cell_type": "code",
   "execution_count": 3,
   "metadata": {},
   "outputs": [],
   "source": [
    "#Convert login dictionary to dataframes\n",
    "logins = pd.DataFrame.from_dict(logins)\n",
    "\n",
    "#Convert driver metric dictionary to dataframe \n",
    "dmet = pd.DataFrame.from_dict(dmet)\n"
   ]
  },
  {
   "cell_type": "code",
   "execution_count": 4,
   "metadata": {
    "scrolled": false
   },
   "outputs": [
    {
     "data": {
      "text/html": [
       "<div>\n",
       "<style scoped>\n",
       "    .dataframe tbody tr th:only-of-type {\n",
       "        vertical-align: middle;\n",
       "    }\n",
       "\n",
       "    .dataframe tbody tr th {\n",
       "        vertical-align: top;\n",
       "    }\n",
       "\n",
       "    .dataframe thead th {\n",
       "        text-align: right;\n",
       "    }\n",
       "</style>\n",
       "<table border=\"1\" class=\"dataframe\">\n",
       "  <thead>\n",
       "    <tr style=\"text-align: right;\">\n",
       "      <th></th>\n",
       "      <th>login_time</th>\n",
       "    </tr>\n",
       "  </thead>\n",
       "  <tbody>\n",
       "    <tr>\n",
       "      <th>0</th>\n",
       "      <td>1970-01-01 20:13:18</td>\n",
       "    </tr>\n",
       "    <tr>\n",
       "      <th>1</th>\n",
       "      <td>1970-01-01 20:16:10</td>\n",
       "    </tr>\n",
       "    <tr>\n",
       "      <th>2</th>\n",
       "      <td>1970-01-01 20:16:37</td>\n",
       "    </tr>\n",
       "    <tr>\n",
       "      <th>3</th>\n",
       "      <td>1970-01-01 20:16:36</td>\n",
       "    </tr>\n",
       "    <tr>\n",
       "      <th>4</th>\n",
       "      <td>1970-01-01 20:26:21</td>\n",
       "    </tr>\n",
       "    <tr>\n",
       "      <th>5</th>\n",
       "      <td>1970-01-01 20:21:41</td>\n",
       "    </tr>\n",
       "    <tr>\n",
       "      <th>6</th>\n",
       "      <td>1970-01-01 20:12:16</td>\n",
       "    </tr>\n",
       "    <tr>\n",
       "      <th>7</th>\n",
       "      <td>1970-01-01 20:35:47</td>\n",
       "    </tr>\n",
       "    <tr>\n",
       "      <th>8</th>\n",
       "      <td>1970-01-01 20:35:38</td>\n",
       "    </tr>\n",
       "    <tr>\n",
       "      <th>9</th>\n",
       "      <td>1970-01-01 20:47:52</td>\n",
       "    </tr>\n",
       "  </tbody>\n",
       "</table>\n",
       "</div>"
      ],
      "text/plain": [
       "            login_time\n",
       "0  1970-01-01 20:13:18\n",
       "1  1970-01-01 20:16:10\n",
       "2  1970-01-01 20:16:37\n",
       "3  1970-01-01 20:16:36\n",
       "4  1970-01-01 20:26:21\n",
       "5  1970-01-01 20:21:41\n",
       "6  1970-01-01 20:12:16\n",
       "7  1970-01-01 20:35:47\n",
       "8  1970-01-01 20:35:38\n",
       "9  1970-01-01 20:47:52"
      ]
     },
     "execution_count": 4,
     "metadata": {},
     "output_type": "execute_result"
    }
   ],
   "source": [
    "logins.head(10)"
   ]
  },
  {
   "cell_type": "code",
   "execution_count": 5,
   "metadata": {},
   "outputs": [],
   "source": [
    "from datetime import datetime, timedelta \n",
    "\n",
    "#Convert Range Index to Array \n",
    "arr = logins.to_numpy()\n",
    "\n",
    "#Convert objects to timestamps\n",
    "time_arr = [pd.to_datetime(x, format=\"%Y-%m-%d %H:%M:%S\", errors='coerce') for x in arr]\n",
    "\n",
    "#Convert to DataFrame\n",
    "time_df = pd.DataFrame(time_arr)"
   ]
  },
  {
   "cell_type": "code",
   "execution_count": 6,
   "metadata": {},
   "outputs": [],
   "source": [
    "def feature_eng(df):\n",
    "    #Round to nearest 15 MINUTES\n",
    "    df['15 min inc'] = df[0].dt.round('15min')\n",
    "    \n",
    "    # Convert date data to ordinal for use with linear regression graph \n",
    "    df[\"time in ord\"]= df[\"15 min inc\"].map(datetime.toordinal)\n",
    "    \n",
    "    #Create DAILY CYCLE features\n",
    "    df[\"date\"] = [x.date() for x in df[\"15 min inc\"]]\n",
    "    df[\"date\"] = df[\"date\"].map(lambda x: x.replace(year=2014))\n",
    "    df[\"time\"] = [x.time() for x in df[\"15 min inc\"]]\n",
    "    df[\"month\"] = [x.month for x in df[\"date\"]]\n",
    "    df[\"day\"] = [x.day for x in df[\"date\"]]\n",
    "    df[\"hour\"] = [x.hour for x in df[\"time\"]]\n",
    "    df[\"DayofWeek\"] = [(x.weekday() + 1) for x in df[\"date\"]]\n",
    "    df['begin_of_month'] = (df['day'] < 10)\n",
    "    df['middle_of_month'] = ((df['day'] >= 10) & (df['day'] < 20)).astype('int32')\n",
    "    df['end_of_month'] = (df['day'] >= 20).astype('int32')\n",
    "    df['morning'] = df['hour'].map(lambda x: 1 if (x <= 11)& (x >= 7) else 0).astype('int32')\n",
    "    df['afternoon'] = df['hour'].map(lambda x: 1 if (x >= 12) & (x <= 18) else 0).astype('int32')\n",
    "    df['evening'] = df['hour'].map(lambda x: 1 if (x >= 19) & (x <= 23) else 0).astype('int32')\n",
    "    df['night'] = df['hour'].map(lambda x: 1 if (x >= 0) & (x <= 6) else 0).astype('int32')\n",
    "    df['winter'] = df['month'].map(lambda x: x in [12, 1, 2]).astype('int32')\n",
    "    df['spring'] = df['month'].map(lambda x: x in [3, 4, 5]).astype('int32')\n",
    "    df['summer'] = df['month'].map(lambda x: x in [6, 7, 8]).astype('int32')\n",
    "    df['autumn'] = df['month'].map(lambda x: x in [9, 10, 11]).astype('int32')\n",
    "    df['weekend'] = (df['DayofWeek'] >= 5).astype('int32') \n",
    "    df['weekday'] = (df['DayofWeek'] < 5).astype('int32')\n",
    "    \n",
    "    return df.drop(0, axis=1)"
   ]
  },
  {
   "cell_type": "code",
   "execution_count": 9,
   "metadata": {},
   "outputs": [],
   "source": [
    "df = feature_eng(time_df)"
   ]
  },
  {
   "cell_type": "code",
   "execution_count": null,
   "metadata": {},
   "outputs": [],
   "source": [
    "daily_df = df[\"weekend\", \"weekday\", \"begin_of_month\", \"middle_of_month\", \"end_of_month\", \"morning\", \"afternoon\", \"evening\", \"night\", \"winter\", \"spring\", \"summer\" \"autumn\"]"
   ]
  },
  {
   "cell_type": "code",
   "execution_count": 15,
   "metadata": {
    "scrolled": true
   },
   "outputs": [
    {
     "data": {
      "image/png": "[encoded data removed]",
      "text/plain": [
       "<Figure size 432x432 with 3 Axes>"
      ]
     },
     "metadata": {},
     "output_type": "display_data"
    }
   ],
   "source": [
    "import seaborn as sns \n",
    "\n",
    "sns.set_theme(style=\"darkgrid\")\n",
    "\n",
    "#Graph the values in a jointplot \n",
    "g = sns.jointplot(data=df['time in ord'], \n",
    "                  kind=\"reg\",\n",
    "                  color=\"m\")"
   ]
  },
  {
   "cell_type": "code",
   "execution_count": null,
   "metadata": {},
   "outputs": [],
   "source": [
    "sns.displot(data=df,#x=[\"weekend\", \"weekday\", \"begin_of_month\", \"middle_of_month\", \"end_of_month\", \"morning\", \"afternoon\", \"evening\", \"night\", \"winter\", \"spring\", \"summer\" \"autumn\"],\n",
    "            color=\"blue\")"
   ]
  },
  {
   "cell_type": "code",
   "execution_count": null,
   "metadata": {},
   "outputs": [],
   "source": [
    "dmet.sort_values(by='signup_date', kind='quicksort')"
   ]
  },
  {
   "cell_type": "markdown",
   "metadata": {},
   "source": [
    "## Quality Issues \n",
    "\n",
    "Some of the quality issues with this data were that the timestamps were at the \"beginning of time\" 1970-01-01"
   ]
  },
  {
   "cell_type": "code",
   "execution_count": null,
   "metadata": {},
   "outputs": [],
   "source": []
  }
 ],
 "metadata": {
  "kernelspec": {
   "display_name": "Python 3",
   "language": "python",
   "name": "python3"
  },
  "language_info": {
   "codemirror_mode": {
    "name": "ipython",
    "version": 3
   },
   "file_extension": ".py",
   "mimetype": "text/x-python",
   "name": "python",
   "nbconvert_exporter": "python",
   "pygments_lexer": "ipython3",
   "version": "3.8.5"
  }
 },
 "nbformat": 4,
 "nbformat_minor": 4
}
