{
 "cells": [
  {
   "cell_type": "markdown",
   "metadata": {},
   "source": [
    "The Ultimate managers of city operations for the three cities have proposed an new experiment to encourage drivers to be available in the three cities by reimbursing all toll costs. \n",
    "\n",
    "* The metric that I will choose as a key measure of success is average distance, the reason being that it is a clear indicator that people are traveling farther to get to each city and be available. Also, the weekday percentage would increase for drivers to be more available on those specific days. \n",
    "\n",
    "* The practical experiment that I would design to compare the effectiveness of the proposed change would be an increase of 20%   "
   ]
  },
  {
   "cell_type": "code",
   "execution_count": null,
   "metadata": {},
   "outputs": [],
   "source": []
  }
 ],
 "metadata": {
  "kernelspec": {
   "display_name": "Python 3",
   "language": "python",
   "name": "python3"
  },
  "language_info": {
   "codemirror_mode": {
    "name": "ipython",
    "version": 3
   },
   "file_extension": ".py",
   "mimetype": "text/x-python",
   "name": "python",
   "nbconvert_exporter": "python",
   "pygments_lexer": "ipython3",
   "version": "3.8.5"
  }
 },
 "nbformat": 4,
 "nbformat_minor": 4
}
