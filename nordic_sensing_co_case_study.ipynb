{
 "cells": [
  {
   "cell_type": "markdown",
   "metadata": {},
   "source": [
    "### Problem statement (Hypothesis Formation)\n",
    "##### Nordic Sensing Company needs to decrease the failure rate to below 5%. The options are to stop production at the site that is producing the most errors or review alternate parts suppliers.\n",
    "_______________________________________________________________________________________________________________________________\n",
    "\n",
    "### Context\n",
    "\n",
    "<h6>Nordic Sensing Co. is a top-five player in IoT focusing on energy consumption and production. Early-stage development resulted in a normal failure rate of 1-2%. The current sensor fialure rate is 15%. There are multiple possible failure modes: faulty parts, poor manufacturing from the vendor/supplier of parts, in addition all of this could be happening at one or multiple Nordic Sensing sites. There are three major accounts that are pending fullfillment due to the increased failure rate.</h6>\n",
    "_______________________________________________________________________________________________________________________________\n",
    "\n",
    "### Criteria for Success\n",
    "\n",
    "<h6>Develop code and run trend analysis to connect parts and suppliers for each failure/non-failure. Update Tony with findings from failure modes.</h6>\n",
    "_______________________________________________________________________________________________________________________________\n",
    "    \n",
    "### Scope of Solution Space\n",
    "    \n",
    "<h6>Identify source of failure (root cause), define a corrective action (removing faulty part, notifying vendor of faulty part. Identifying a vendor that can accomodate the increase in supply. Monitor for new failure rate.</h6> \n",
    "_______________________________________________________________________________________________________________________________\n",
    "\n",
    "### Constrainsts within Solution Space\n",
    "\n",
    "<h6>Reduce the failure rate to below 5%. With four factories in Asia focused on InSense manufacturing (tac rate 30 min), communication of faulty parts/system needs to happen immediately so the manufacturing line can be shut down and the issue can be addressed.</h6> \n",
    "_______________________________________________________________________________________________________________________________\n",
    "\n",
    "### Stakeholders to Provide Key Insight\n",
    "\n",
    "<table style=\"width:100%\">\n",
    "<table align= \"center\">\n",
    "<tr>\n",
    "<th>Stakeholder</th>\n",
    "<th>Department</th>\n",
    "<th>Action Items</th>\n",
    "</tr>\n",
    "\n",
    "<tr>\n",
    "<td>Vince Maccano (VP)</td>\n",
    "<td>Global Operations</td>\n",
    "<td>Assembling Corrective Action Teams</td>\n",
    "</tr>\n",
    "\n",
    "<tr>\n",
    "<td>Tony (InSense VP)</td>\n",
    "<td>InSense Operations</td>\n",
    "<td>Senior Leadership communications of current situation</td>\n",
    "</tr>\n",
    "\n",
    "<tr>\n",
    "<td>Jane Smith aka Me(Data Scientist)</td>\n",
    "<td>Research and Development</td>\n",
    "<td>Perform CRISP-DM for all parts and supliers going linking to locations making InSense</td>\n",
    "</tr>\n",
    "</table>\n",
    "\n",
    "_______________________________________________________________________________________________________________________________\n",
    "\n",
    "\n",
    "### What key data sources are required\n",
    "\n",
    "    -Chi-square testing to identify the cause (specific part) or source (specific manufacturer). Not enough evidence suggest failure mode. \n",
    "    - Singapore Vendor Parts List (26 suppliers for 7 InSense sensor parts)\n",
    "    - System limits exports (15% failure on all drives) for two quarters"
   ]
  },
  {
   "cell_type": "code",
   "execution_count": null,
   "metadata": {},
   "outputs": [],
   "source": []
  }
 ],
 "metadata": {
  "kernelspec": {
   "display_name": "Python 3",
   "language": "python",
   "name": "python3"
  },
  "language_info": {
   "codemirror_mode": {
    "name": "ipython",
    "version": 3
   },
   "file_extension": ".py",
   "mimetype": "text/x-python",
   "name": "python",
   "nbconvert_exporter": "python",
   "pygments_lexer": "ipython3",
   "version": "3.8.5"
  }
 },
 "nbformat": 4,
 "nbformat_minor": 4
}
